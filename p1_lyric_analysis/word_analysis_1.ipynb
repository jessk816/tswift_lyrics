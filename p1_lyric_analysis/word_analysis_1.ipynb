{
 "cells": [
  {
   "cell_type": "markdown",
   "metadata": {},
   "source": [
    "# Imports"
   ]
  },
  {
   "cell_type": "code",
   "execution_count": 2,
   "metadata": {},
   "outputs": [],
   "source": [
    "import numpy as np\n",
    "import pandas as pd\n",
    "import string\n",
    "import contractions\n",
    "from spellchecker import SpellChecker\n",
    "import ipywidgets\n",
    "import matplotlib.pyplot as plt\n",
    "import plotly.express as px\n",
    "from wordcloud import WordCloud\n",
    "import regex as re"
   ]
  },
  {
   "cell_type": "code",
   "execution_count": 3,
   "metadata": {},
   "outputs": [],
   "source": [
    "import nltk\n",
    "import nltk.corpus\n",
    "from nltk.corpus import stopwords, words\n",
    "from nltk.stem import WordNetLemmatizer"
   ]
  },
  {
   "cell_type": "code",
   "execution_count": 4,
   "metadata": {},
   "outputs": [
    {
     "name": "stderr",
     "output_type": "stream",
     "text": [
      "[nltk_data] Downloading package words to\n",
      "[nltk_data]     C:\\Users\\jessi\\AppData\\Roaming\\nltk_data...\n",
      "[nltk_data]   Package words is already up-to-date!\n",
      "[nltk_data] Downloading package stopwords to\n",
      "[nltk_data]     C:\\Users\\jessi\\AppData\\Roaming\\nltk_data...\n",
      "[nltk_data]   Package stopwords is already up-to-date!\n",
      "[nltk_data] Downloading package punkt to\n",
      "[nltk_data]     C:\\Users\\jessi\\AppData\\Roaming\\nltk_data...\n",
      "[nltk_data]   Package punkt is already up-to-date!\n",
      "[nltk_data] Downloading package wordnet to\n",
      "[nltk_data]     C:\\Users\\jessi\\AppData\\Roaming\\nltk_data...\n",
      "[nltk_data]   Package wordnet is already up-to-date!\n",
      "[nltk_data] Downloading package omw-1.4 to\n",
      "[nltk_data]     C:\\Users\\jessi\\AppData\\Roaming\\nltk_data...\n",
      "[nltk_data]   Package omw-1.4 is already up-to-date!\n",
      "[nltk_data] Downloading package vader_lexicon to\n",
      "[nltk_data]     C:\\Users\\jessi\\AppData\\Roaming\\nltk_data...\n",
      "[nltk_data]   Package vader_lexicon is already up-to-date!\n"
     ]
    },
    {
     "data": {
      "text/plain": [
       "True"
      ]
     },
     "execution_count": 4,
     "metadata": {},
     "output_type": "execute_result"
    }
   ],
   "source": [
    "nltk.download('words')\n",
    "nltk.download('stopwords')\n",
    "nltk.download('punkt')\n",
    "nltk.download('wordnet')\n",
    "nltk.download('omw-1.4')\n",
    "nltk.download('vader_lexicon')"
   ]
  },
  {
   "cell_type": "markdown",
   "metadata": {},
   "source": [
    "# Data"
   ]
  },
  {
   "cell_type": "code",
   "execution_count": 5,
   "metadata": {},
   "outputs": [
    {
     "data": {
      "text/html": [
       "<div>\n",
       "<style scoped>\n",
       "    .dataframe tbody tr th:only-of-type {\n",
       "        vertical-align: middle;\n",
       "    }\n",
       "\n",
       "    .dataframe tbody tr th {\n",
       "        vertical-align: top;\n",
       "    }\n",
       "\n",
       "    .dataframe thead th {\n",
       "        text-align: right;\n",
       "    }\n",
       "</style>\n",
       "<table border=\"1\" class=\"dataframe\">\n",
       "  <thead>\n",
       "    <tr style=\"text-align: right;\">\n",
       "      <th></th>\n",
       "      <th>Album</th>\n",
       "      <th>Song Name</th>\n",
       "      <th>Lyrics</th>\n",
       "    </tr>\n",
       "  </thead>\n",
       "  <tbody>\n",
       "    <tr>\n",
       "      <th>0</th>\n",
       "      <td>Taylor Swift</td>\n",
       "      <td>A Perfectly Good Heart</td>\n",
       "      <td>why would you wanna break a perfectly good hea...</td>\n",
       "    </tr>\n",
       "    <tr>\n",
       "      <th>1</th>\n",
       "      <td>Taylor Swift</td>\n",
       "      <td>A Place In This World</td>\n",
       "      <td>i dont know what i want so dont ask me cause i...</td>\n",
       "    </tr>\n",
       "    <tr>\n",
       "      <th>2</th>\n",
       "      <td>Taylor Swift</td>\n",
       "      <td>Cold as You</td>\n",
       "      <td>you have a way of coming easily to me and when...</td>\n",
       "    </tr>\n",
       "    <tr>\n",
       "      <th>3</th>\n",
       "      <td>Taylor Swift</td>\n",
       "      <td>I'm Only Me When I'm With You</td>\n",
       "      <td>friday night beneath the stars in a field behi...</td>\n",
       "    </tr>\n",
       "    <tr>\n",
       "      <th>4</th>\n",
       "      <td>Taylor Swift</td>\n",
       "      <td>Invisible</td>\n",
       "      <td>she cant see the way your eyes light up when y...</td>\n",
       "    </tr>\n",
       "  </tbody>\n",
       "</table>\n",
       "</div>"
      ],
      "text/plain": [
       "          Album                        Song Name  \\\n",
       "0  Taylor Swift           A Perfectly Good Heart   \n",
       "1  Taylor Swift            A Place In This World   \n",
       "2  Taylor Swift                      Cold as You   \n",
       "3  Taylor Swift    I'm Only Me When I'm With You   \n",
       "4  Taylor Swift                        Invisible   \n",
       "\n",
       "                                              Lyrics  \n",
       "0  why would you wanna break a perfectly good hea...  \n",
       "1  i dont know what i want so dont ask me cause i...  \n",
       "2  you have a way of coming easily to me and when...  \n",
       "3  friday night beneath the stars in a field behi...  \n",
       "4  she cant see the way your eyes light up when y...  "
      ]
     },
     "execution_count": 5,
     "metadata": {},
     "output_type": "execute_result"
    }
   ],
   "source": [
    "df = pd.read_csv('C:/Users/jessi/tswift_lyrics/genius_lyrics_collection/tswift_lyrics.csv')\n",
    "df.head()"
   ]
  },
  {
   "cell_type": "code",
   "execution_count": 6,
   "metadata": {},
   "outputs": [
    {
     "data": {
      "text/html": [
       "<div>\n",
       "<style scoped>\n",
       "    .dataframe tbody tr th:only-of-type {\n",
       "        vertical-align: middle;\n",
       "    }\n",
       "\n",
       "    .dataframe tbody tr th {\n",
       "        vertical-align: top;\n",
       "    }\n",
       "\n",
       "    .dataframe thead th {\n",
       "        text-align: right;\n",
       "    }\n",
       "</style>\n",
       "<table border=\"1\" class=\"dataframe\">\n",
       "  <thead>\n",
       "    <tr style=\"text-align: right;\">\n",
       "      <th></th>\n",
       "      <th>Album</th>\n",
       "      <th>Song Name</th>\n",
       "      <th>Lyrics</th>\n",
       "    </tr>\n",
       "  </thead>\n",
       "  <tbody>\n",
       "    <tr>\n",
       "      <th>count</th>\n",
       "      <td>229</td>\n",
       "      <td>229</td>\n",
       "      <td>229</td>\n",
       "    </tr>\n",
       "    <tr>\n",
       "      <th>unique</th>\n",
       "      <td>15</td>\n",
       "      <td>229</td>\n",
       "      <td>229</td>\n",
       "    </tr>\n",
       "    <tr>\n",
       "      <th>top</th>\n",
       "      <td>The Tortured Poets Department The Anthology</td>\n",
       "      <td>A Perfectly Good Heart</td>\n",
       "      <td>why would you wanna break a perfectly good hea...</td>\n",
       "    </tr>\n",
       "    <tr>\n",
       "      <th>freq</th>\n",
       "      <td>31</td>\n",
       "      <td>1</td>\n",
       "      <td>1</td>\n",
       "    </tr>\n",
       "  </tbody>\n",
       "</table>\n",
       "</div>"
      ],
      "text/plain": [
       "                                              Album                 Song Name  \\\n",
       "count                                           229                       229   \n",
       "unique                                           15                       229   \n",
       "top     The Tortured Poets Department The Anthology    A Perfectly Good Heart   \n",
       "freq                                             31                         1   \n",
       "\n",
       "                                                   Lyrics  \n",
       "count                                                 229  \n",
       "unique                                                229  \n",
       "top     why would you wanna break a perfectly good hea...  \n",
       "freq                                                    1  "
      ]
     },
     "execution_count": 6,
     "metadata": {},
     "output_type": "execute_result"
    }
   ],
   "source": [
    "df.describe()"
   ]
  },
  {
   "cell_type": "markdown",
   "metadata": {},
   "source": [
    "# Text Cleaning"
   ]
  },
  {
   "cell_type": "code",
   "execution_count": 7,
   "metadata": {},
   "outputs": [
    {
     "data": {
      "text/html": [
       "<div>\n",
       "<style scoped>\n",
       "    .dataframe tbody tr th:only-of-type {\n",
       "        vertical-align: middle;\n",
       "    }\n",
       "\n",
       "    .dataframe tbody tr th {\n",
       "        vertical-align: top;\n",
       "    }\n",
       "\n",
       "    .dataframe thead th {\n",
       "        text-align: right;\n",
       "    }\n",
       "</style>\n",
       "<table border=\"1\" class=\"dataframe\">\n",
       "  <thead>\n",
       "    <tr style=\"text-align: right;\">\n",
       "      <th></th>\n",
       "      <th>Album</th>\n",
       "      <th>Song Name</th>\n",
       "      <th>Lyrics</th>\n",
       "      <th>clean_lyrics</th>\n",
       "    </tr>\n",
       "  </thead>\n",
       "  <tbody>\n",
       "    <tr>\n",
       "      <th>0</th>\n",
       "      <td>Taylor Swift</td>\n",
       "      <td>A Perfectly Good Heart</td>\n",
       "      <td>why would you wanna break a perfectly good hea...</td>\n",
       "      <td>why, would, you, want to, break, a, perfectly,...</td>\n",
       "    </tr>\n",
       "    <tr>\n",
       "      <th>1</th>\n",
       "      <td>Taylor Swift</td>\n",
       "      <td>A Place In This World</td>\n",
       "      <td>i dont know what i want so dont ask me cause i...</td>\n",
       "      <td>i, do not, know, what, i, want, so, do not, as...</td>\n",
       "    </tr>\n",
       "    <tr>\n",
       "      <th>2</th>\n",
       "      <td>Taylor Swift</td>\n",
       "      <td>Cold as You</td>\n",
       "      <td>you have a way of coming easily to me and when...</td>\n",
       "      <td>you, have, a, way, of, coming, easily, to, me,...</td>\n",
       "    </tr>\n",
       "    <tr>\n",
       "      <th>3</th>\n",
       "      <td>Taylor Swift</td>\n",
       "      <td>I'm Only Me When I'm With You</td>\n",
       "      <td>friday night beneath the stars in a field behi...</td>\n",
       "      <td>friday, night, beneath, the, stars, in, a, fie...</td>\n",
       "    </tr>\n",
       "    <tr>\n",
       "      <th>4</th>\n",
       "      <td>Taylor Swift</td>\n",
       "      <td>Invisible</td>\n",
       "      <td>she cant see the way your eyes light up when y...</td>\n",
       "      <td>she, cannot, see, the, way, your, eyes, light,...</td>\n",
       "    </tr>\n",
       "  </tbody>\n",
       "</table>\n",
       "</div>"
      ],
      "text/plain": [
       "          Album                        Song Name  \\\n",
       "0  Taylor Swift           A Perfectly Good Heart   \n",
       "1  Taylor Swift            A Place In This World   \n",
       "2  Taylor Swift                      Cold as You   \n",
       "3  Taylor Swift    I'm Only Me When I'm With You   \n",
       "4  Taylor Swift                        Invisible   \n",
       "\n",
       "                                              Lyrics  \\\n",
       "0  why would you wanna break a perfectly good hea...   \n",
       "1  i dont know what i want so dont ask me cause i...   \n",
       "2  you have a way of coming easily to me and when...   \n",
       "3  friday night beneath the stars in a field behi...   \n",
       "4  she cant see the way your eyes light up when y...   \n",
       "\n",
       "                                        clean_lyrics  \n",
       "0  why, would, you, want to, break, a, perfectly,...  \n",
       "1  i, do not, know, what, i, want, so, do not, as...  \n",
       "2  you, have, a, way, of, coming, easily, to, me,...  \n",
       "3  friday, night, beneath, the, stars, in, a, fie...  \n",
       "4  she, cannot, see, the, way, your, eyes, light,...  "
      ]
     },
     "execution_count": 7,
     "metadata": {},
     "output_type": "execute_result"
    }
   ],
   "source": [
    "# note: punctuation was removed and words were made lowercase after downloading\n",
    "\n",
    "# remove non-ASCII charaacters and contractions\n",
    "# including 'wanna' and 'gonna'; 'na' was previously the sixth most frequently used word\n",
    "df['clean_lyrics'] = df['Lyrics'].str.encode('ascii', 'ignore').str.decode('ascii').apply(lambda x: [contractions.fix(word) for word in x.split()]).apply(lambda x: ', '.join(x))\n",
    "\n",
    "df.head()"
   ]
  },
  {
   "cell_type": "code",
   "execution_count": 8,
   "metadata": {},
   "outputs": [
    {
     "name": "stdout",
     "output_type": "stream",
     "text": [
      "No misspelled words!\n"
     ]
    }
   ],
   "source": [
    "# check for misspelled words\n",
    "\n",
    "# initialize spell checker\n",
    "spell = SpellChecker()\n",
    "\n",
    "# find misspelled words\n",
    "misspelled = spell.unknown(df['clean_lyrics'])\n",
    "misspelled_list = list(misspelled)\n",
    "\n",
    "if len(misspelled_list) == 0:\n",
    "    print('No misspelled words!')\n",
    "else:\n",
    "    print(misspelled_list)\n",
    "    for word in misspelled:\n",
    "        print(spell.corrections(word))\n",
    "        print(spell.candidates(word))"
   ]
  },
  {
   "cell_type": "markdown",
   "metadata": {},
   "source": [
    "## Tokenization and Lemmatization"
   ]
  },
  {
   "cell_type": "code",
   "execution_count": 9,
   "metadata": {},
   "outputs": [
    {
     "name": "stdout",
     "output_type": "stream",
     "text": [
      "['i', 'me', 'my', 'myself', 'we', 'our', 'ours', 'ourselves', 'you', \"you're\", \"you've\", \"you'll\", \"you'd\", 'your', 'yours', 'yourself', 'yourselves', 'he', 'him', 'his', 'himself', 'she', \"she's\", 'her', 'hers', 'herself', 'it', \"it's\", 'its', 'itself', 'they', 'them', 'their', 'theirs', 'themselves', 'what', 'which', 'who', 'whom', 'this', 'that', \"that'll\", 'these', 'those', 'am', 'is', 'are', 'was', 'were', 'be', 'been', 'being', 'have', 'has', 'had', 'having', 'do', 'does', 'did', 'doing', 'a', 'an', 'the', 'and', 'but', 'if', 'or', 'because', 'as', 'until', 'while', 'of', 'at', 'by', 'for', 'with', 'about', 'against', 'between', 'into', 'through', 'during', 'before', 'after', 'above', 'below', 'to', 'from', 'up', 'down', 'in', 'out', 'on', 'off', 'over', 'under', 'again', 'further', 'then', 'once', 'here', 'there', 'when', 'where', 'why', 'how', 'all', 'any', 'both', 'each', 'few', 'more', 'most', 'other', 'some', 'such', 'no', 'nor', 'not', 'only', 'own', 'same', 'so', 'than', 'too', 'very', 's', 't', 'can', 'will', 'just', 'don', \"don't\", 'should', \"should've\", 'now', 'd', 'll', 'm', 'o', 're', 've', 'y', 'ain', 'aren', \"aren't\", 'couldn', \"couldn't\", 'didn', \"didn't\", 'doesn', \"doesn't\", 'hadn', \"hadn't\", 'hasn', \"hasn't\", 'haven', \"haven't\", 'isn', \"isn't\", 'ma', 'mightn', \"mightn't\", 'mustn', \"mustn't\", 'needn', \"needn't\", 'shan', \"shan't\", 'shouldn', \"shouldn't\", 'wasn', \"wasn't\", 'weren', \"weren't\", 'won', \"won't\", 'wouldn', \"wouldn't\"]\n"
     ]
    }
   ],
   "source": [
    "# define English words and stopwords\n",
    "english_words = set(words.words())\n",
    "stop = stopwords.words('english')\n",
    "\n",
    "print(stop)"
   ]
  },
  {
   "cell_type": "code",
   "execution_count": 10,
   "metadata": {},
   "outputs": [
    {
     "data": {
      "text/html": [
       "<div>\n",
       "<style scoped>\n",
       "    .dataframe tbody tr th:only-of-type {\n",
       "        vertical-align: middle;\n",
       "    }\n",
       "\n",
       "    .dataframe tbody tr th {\n",
       "        vertical-align: top;\n",
       "    }\n",
       "\n",
       "    .dataframe thead th {\n",
       "        text-align: right;\n",
       "    }\n",
       "</style>\n",
       "<table border=\"1\" class=\"dataframe\">\n",
       "  <thead>\n",
       "    <tr style=\"text-align: right;\">\n",
       "      <th></th>\n",
       "      <th>Album</th>\n",
       "      <th>Song Name</th>\n",
       "      <th>Lyrics</th>\n",
       "      <th>clean_lyrics</th>\n",
       "      <th>tokenized_lyrics</th>\n",
       "      <th>lemmatized_lyrics</th>\n",
       "    </tr>\n",
       "  </thead>\n",
       "  <tbody>\n",
       "    <tr>\n",
       "      <th>0</th>\n",
       "      <td>Taylor Swift</td>\n",
       "      <td>A Perfectly Good Heart</td>\n",
       "      <td>why would you wanna break a perfectly good hea...</td>\n",
       "      <td>why, would, you, want to, break, a, perfectly,...</td>\n",
       "      <td>[would, want, break, perfectly, good, heart, w...</td>\n",
       "      <td>[would, want, break, perfectly, good, heart, w...</td>\n",
       "    </tr>\n",
       "    <tr>\n",
       "      <th>1</th>\n",
       "      <td>Taylor Swift</td>\n",
       "      <td>A Place In This World</td>\n",
       "      <td>i dont know what i want so dont ask me cause i...</td>\n",
       "      <td>i, do not, know, what, i, want, so, do not, as...</td>\n",
       "      <td>[know, want, ask, still, trying, figure, know,...</td>\n",
       "      <td>[know, want, ask, still, trying, figure, know,...</td>\n",
       "    </tr>\n",
       "    <tr>\n",
       "      <th>2</th>\n",
       "      <td>Taylor Swift</td>\n",
       "      <td>Cold as You</td>\n",
       "      <td>you have a way of coming easily to me and when...</td>\n",
       "      <td>you, have, a, way, of, coming, easily, to, me,...</td>\n",
       "      <td>[way, coming, easily, take, take, best, start,...</td>\n",
       "      <td>[way, coming, easily, take, take, best, start,...</td>\n",
       "    </tr>\n",
       "    <tr>\n",
       "      <th>3</th>\n",
       "      <td>Taylor Swift</td>\n",
       "      <td>I'm Only Me When I'm With You</td>\n",
       "      <td>friday night beneath the stars in a field behi...</td>\n",
       "      <td>friday, night, beneath, the, stars, in, a, fie...</td>\n",
       "      <td>[friday, night, beneath, stars, field, behind,...</td>\n",
       "      <td>[friday, night, beneath, star, field, behind, ...</td>\n",
       "    </tr>\n",
       "    <tr>\n",
       "      <th>4</th>\n",
       "      <td>Taylor Swift</td>\n",
       "      <td>Invisible</td>\n",
       "      <td>she cant see the way your eyes light up when y...</td>\n",
       "      <td>she, cannot, see, the, way, your, eyes, light,...</td>\n",
       "      <td>[see, way, eyes, light, smile, never, notice, ...</td>\n",
       "      <td>[see, way, eye, light, smile, never, notice, s...</td>\n",
       "    </tr>\n",
       "  </tbody>\n",
       "</table>\n",
       "</div>"
      ],
      "text/plain": [
       "          Album                        Song Name  \\\n",
       "0  Taylor Swift           A Perfectly Good Heart   \n",
       "1  Taylor Swift            A Place In This World   \n",
       "2  Taylor Swift                      Cold as You   \n",
       "3  Taylor Swift    I'm Only Me When I'm With You   \n",
       "4  Taylor Swift                        Invisible   \n",
       "\n",
       "                                              Lyrics  \\\n",
       "0  why would you wanna break a perfectly good hea...   \n",
       "1  i dont know what i want so dont ask me cause i...   \n",
       "2  you have a way of coming easily to me and when...   \n",
       "3  friday night beneath the stars in a field behi...   \n",
       "4  she cant see the way your eyes light up when y...   \n",
       "\n",
       "                                        clean_lyrics  \\\n",
       "0  why, would, you, want to, break, a, perfectly,...   \n",
       "1  i, do not, know, what, i, want, so, do not, as...   \n",
       "2  you, have, a, way, of, coming, easily, to, me,...   \n",
       "3  friday, night, beneath, the, stars, in, a, fie...   \n",
       "4  she, cannot, see, the, way, your, eyes, light,...   \n",
       "\n",
       "                                    tokenized_lyrics  \\\n",
       "0  [would, want, break, perfectly, good, heart, w...   \n",
       "1  [know, want, ask, still, trying, figure, know,...   \n",
       "2  [way, coming, easily, take, take, best, start,...   \n",
       "3  [friday, night, beneath, stars, field, behind,...   \n",
       "4  [see, way, eyes, light, smile, never, notice, ...   \n",
       "\n",
       "                                   lemmatized_lyrics  \n",
       "0  [would, want, break, perfectly, good, heart, w...  \n",
       "1  [know, want, ask, still, trying, figure, know,...  \n",
       "2  [way, coming, easily, take, take, best, start,...  \n",
       "3  [friday, night, beneath, star, field, behind, ...  \n",
       "4  [see, way, eye, light, smile, never, notice, s...  "
      ]
     },
     "execution_count": 10,
     "metadata": {},
     "output_type": "execute_result"
    }
   ],
   "source": [
    "# remove stopwords and tokenize lyrics\n",
    "# create new column for tokenized lyrics\n",
    "# len(word) > 2 removes words like 'oh' (previously most common word)\n",
    "df['tokenized_lyrics'] = df['clean_lyrics'].apply(nltk.word_tokenize)\n",
    "df['tokenized_lyrics'] = df['tokenized_lyrics'].apply(lambda words: [word for word in words\n",
    "                                                                     if word not in stop\n",
    "                                                                     and len(word) > 2])\n",
    "                                                                     \n",
    "# initialize wordnet lemmatizer\n",
    "lemmatizer = WordNetLemmatizer()\n",
    "\n",
    "# create new column for lemmatized lyrics\n",
    "df['lemmatized_lyrics'] = df['tokenized_lyrics'].apply(lambda lst:[lemmatizer.lemmatize(word) for word in lst])                                                                     \n",
    "\n",
    "df.head()"
   ]
  },
  {
   "cell_type": "code",
   "execution_count": 11,
   "metadata": {},
   "outputs": [],
   "source": [
    "# save the dataframe as csv\n",
    "df.to_csv('tswift_lyrics_clean.csv')"
   ]
  },
  {
   "cell_type": "markdown",
   "metadata": {},
   "source": [
    "## Series of All Words"
   ]
  },
  {
   "cell_type": "code",
   "execution_count": 12,
   "metadata": {},
   "outputs": [
    {
     "name": "stdout",
     "output_type": "stream",
     "text": [
      "37097\n",
      "['would', 'want', 'break', 'perfectly', 'good', 'heart', 'would', 'want', 'take', 'love', 'tear', 'apart', 'would', 'want', 'make', 'first', 'scar', 'would', 'want', 'break', 'perfectly', 'good', 'heart', 'maybe', 'seen', 'sign', 'read', 'writing', 'wall', 'realized', 'distance', 'eye', 'would', 'one', 'fall', 'matter', 'say', 'still', 'believe', 'would', 'walk', 'away', 'make', 'sense', 'would', 'want', 'break', 'perfectly', 'good', 'heart', 'would', 'want', 'take', 'love', 'tear', 'apart', 'would', 'want', 'make', 'first', 'scar', 'would', 'want', 'break', 'perfectly', 'good', 'heart', 'unbroken', 'anymore', 'unbroken', 'anymore', 'get', 'back', 'way', 'would', 'want', 'break', 'perfectly', 'good', 'heart', 'would', 'want', 'take', 'love', 'tear', 'apart', 'would', 'want', 'make', 'first', 'scar', 'would', 'want', 'break', 'would', 'want', 'break', 'would', 'want', 'break']\n"
     ]
    }
   ],
   "source": [
    "# join words in 'lemmatized_lyric' column to single list\n",
    "lyric_words = df['lemmatized_lyrics'].explode().to_list()\n",
    "\n",
    "# create pandas series from list\n",
    "lyric_series = pd.Series(lyric_words)\n",
    "\n",
    "print(len(lyric_words))\n",
    "print(lyric_words[:100])"
   ]
  },
  {
   "cell_type": "markdown",
   "metadata": {},
   "source": [
    "# Most Frequent Words"
   ]
  },
  {
   "cell_type": "code",
   "execution_count": 13,
   "metadata": {},
   "outputs": [
    {
     "data": {
      "text/html": [
       "<style type=\"text/css\">\n",
       "#T_abfea_row0_col1 {\n",
       "  background-color: #023858;\n",
       "  color: #f1f1f1;\n",
       "}\n",
       "#T_abfea_row1_col1 {\n",
       "  background-color: #034e7b;\n",
       "  color: #f1f1f1;\n",
       "}\n",
       "#T_abfea_row2_col1, #T_abfea_row3_col1 {\n",
       "  background-color: #91b5d6;\n",
       "  color: #000000;\n",
       "}\n",
       "#T_abfea_row4_col1 {\n",
       "  background-color: #94b6d7;\n",
       "  color: #000000;\n",
       "}\n",
       "#T_abfea_row5_col1 {\n",
       "  background-color: #a4bcda;\n",
       "  color: #000000;\n",
       "}\n",
       "#T_abfea_row6_col1 {\n",
       "  background-color: #c5cce3;\n",
       "  color: #000000;\n",
       "}\n",
       "#T_abfea_row7_col1 {\n",
       "  background-color: #dedcec;\n",
       "  color: #000000;\n",
       "}\n",
       "#T_abfea_row8_col1 {\n",
       "  background-color: #dfddec;\n",
       "  color: #000000;\n",
       "}\n",
       "#T_abfea_row9_col1 {\n",
       "  background-color: #e0dded;\n",
       "  color: #000000;\n",
       "}\n",
       "#T_abfea_row10_col1 {\n",
       "  background-color: #f1ebf5;\n",
       "  color: #000000;\n",
       "}\n",
       "#T_abfea_row11_col1 {\n",
       "  background-color: #f7f0f7;\n",
       "  color: #000000;\n",
       "}\n",
       "#T_abfea_row12_col1 {\n",
       "  background-color: #fcf4fa;\n",
       "  color: #000000;\n",
       "}\n",
       "#T_abfea_row13_col1 {\n",
       "  background-color: #fef6fb;\n",
       "  color: #000000;\n",
       "}\n",
       "#T_abfea_row14_col1 {\n",
       "  background-color: #fff7fb;\n",
       "  color: #000000;\n",
       "}\n",
       "</style>\n",
       "<table id=\"T_abfea\">\n",
       "  <thead>\n",
       "    <tr>\n",
       "      <th class=\"blank level0\" >&nbsp;</th>\n",
       "      <th id=\"T_abfea_level0_col0\" class=\"col_heading level0 col0\" >Word</th>\n",
       "      <th id=\"T_abfea_level0_col1\" class=\"col_heading level0 col1\" >Count</th>\n",
       "    </tr>\n",
       "  </thead>\n",
       "  <tbody>\n",
       "    <tr>\n",
       "      <th id=\"T_abfea_level0_row0\" class=\"row_heading level0 row0\" >0</th>\n",
       "      <td id=\"T_abfea_row0_col0\" class=\"data row0 col0\" >like</td>\n",
       "      <td id=\"T_abfea_row0_col1\" class=\"data row0 col1\" >674</td>\n",
       "    </tr>\n",
       "    <tr>\n",
       "      <th id=\"T_abfea_level0_row1\" class=\"row_heading level0 row1\" >1</th>\n",
       "      <td id=\"T_abfea_row1_col0\" class=\"data row1 col0\" >know</td>\n",
       "      <td id=\"T_abfea_row1_col1\" class=\"data row1 col1\" >638</td>\n",
       "    </tr>\n",
       "    <tr>\n",
       "      <th id=\"T_abfea_level0_row2\" class=\"row_heading level0 row2\" >2</th>\n",
       "      <td id=\"T_abfea_row2_col0\" class=\"data row2 col0\" >never</td>\n",
       "      <td id=\"T_abfea_row2_col1\" class=\"data row2 col1\" >430</td>\n",
       "    </tr>\n",
       "    <tr>\n",
       "      <th id=\"T_abfea_level0_row3\" class=\"row_heading level0 row3\" >3</th>\n",
       "      <td id=\"T_abfea_row3_col0\" class=\"data row3 col0\" >love</td>\n",
       "      <td id=\"T_abfea_row3_col1\" class=\"data row3 col1\" >429</td>\n",
       "    </tr>\n",
       "    <tr>\n",
       "      <th id=\"T_abfea_level0_row4\" class=\"row_heading level0 row4\" >4</th>\n",
       "      <td id=\"T_abfea_row4_col0\" class=\"data row4 col0\" >want</td>\n",
       "      <td id=\"T_abfea_row4_col1\" class=\"data row4 col1\" >427</td>\n",
       "    </tr>\n",
       "    <tr>\n",
       "      <th id=\"T_abfea_level0_row5\" class=\"row_heading level0 row5\" >5</th>\n",
       "      <td id=\"T_abfea_row5_col0\" class=\"data row5 col0\" >time</td>\n",
       "      <td id=\"T_abfea_row5_col1\" class=\"data row5 col1\" >410</td>\n",
       "    </tr>\n",
       "    <tr>\n",
       "      <th id=\"T_abfea_level0_row6\" class=\"row_heading level0 row6\" >6</th>\n",
       "      <td id=\"T_abfea_row6_col0\" class=\"data row6 col0\" >one</td>\n",
       "      <td id=\"T_abfea_row6_col1\" class=\"data row6 col1\" >368</td>\n",
       "    </tr>\n",
       "    <tr>\n",
       "      <th id=\"T_abfea_level0_row7\" class=\"row_heading level0 row7\" >7</th>\n",
       "      <td id=\"T_abfea_row7_col0\" class=\"data row7 col0\" >back</td>\n",
       "      <td id=\"T_abfea_row7_col1\" class=\"data row7 col1\" >328</td>\n",
       "    </tr>\n",
       "    <tr>\n",
       "      <th id=\"T_abfea_level0_row8\" class=\"row_heading level0 row8\" >8</th>\n",
       "      <td id=\"T_abfea_row8_col0\" class=\"data row8 col0\" >would</td>\n",
       "      <td id=\"T_abfea_row8_col1\" class=\"data row8 col1\" >327</td>\n",
       "    </tr>\n",
       "    <tr>\n",
       "      <th id=\"T_abfea_level0_row9\" class=\"row_heading level0 row9\" >9</th>\n",
       "      <td id=\"T_abfea_row9_col0\" class=\"data row9 col0\" >say</td>\n",
       "      <td id=\"T_abfea_row9_col1\" class=\"data row9 col1\" >324</td>\n",
       "    </tr>\n",
       "    <tr>\n",
       "      <th id=\"T_abfea_level0_row10\" class=\"row_heading level0 row10\" >10</th>\n",
       "      <td id=\"T_abfea_row10_col0\" class=\"data row10 col0\" >could</td>\n",
       "      <td id=\"T_abfea_row10_col1\" class=\"data row10 col1\" >287</td>\n",
       "    </tr>\n",
       "    <tr>\n",
       "      <th id=\"T_abfea_level0_row11\" class=\"row_heading level0 row11\" >11</th>\n",
       "      <td id=\"T_abfea_row11_col0\" class=\"data row11 col0\" >got</td>\n",
       "      <td id=\"T_abfea_row11_col1\" class=\"data row11 col1\" >270</td>\n",
       "    </tr>\n",
       "    <tr>\n",
       "      <th id=\"T_abfea_level0_row12\" class=\"row_heading level0 row12\" >12</th>\n",
       "      <td id=\"T_abfea_row12_col0\" class=\"data row12 col0\" >see</td>\n",
       "      <td id=\"T_abfea_row12_col1\" class=\"data row12 col1\" >257</td>\n",
       "    </tr>\n",
       "    <tr>\n",
       "      <th id=\"T_abfea_level0_row13\" class=\"row_heading level0 row13\" >13</th>\n",
       "      <td id=\"T_abfea_row13_col0\" class=\"data row13 col0\" >ooh</td>\n",
       "      <td id=\"T_abfea_row13_col1\" class=\"data row13 col1\" >250</td>\n",
       "    </tr>\n",
       "    <tr>\n",
       "      <th id=\"T_abfea_level0_row14\" class=\"row_heading level0 row14\" >14</th>\n",
       "      <td id=\"T_abfea_row14_col0\" class=\"data row14 col0\" >come</td>\n",
       "      <td id=\"T_abfea_row14_col1\" class=\"data row14 col1\" >247</td>\n",
       "    </tr>\n",
       "  </tbody>\n",
       "</table>\n"
      ],
      "text/plain": [
       "<pandas.io.formats.style.Styler at 0x1b0c73027c0>"
      ]
     },
     "execution_count": 13,
     "metadata": {},
     "output_type": "execute_result"
    }
   ],
   "source": [
    "# count no. of occurences of each word in lyric_series\n",
    "word_count = lyric_series.value_counts().reset_index()\n",
    "\n",
    "# name columns\n",
    "word_count.columns = ['Word', 'Count']\n",
    "\n",
    "# show word count table\n",
    "word_count.head(15).style.background_gradient()"
   ]
  },
  {
   "cell_type": "markdown",
   "metadata": {},
   "source": [
    "## Most Freq. Words - Bar Chart"
   ]
  },
  {
   "cell_type": "code",
   "execution_count": 14,
   "metadata": {},
   "outputs": [
    {
     "data": {
      "image/png": "[encoded data removed]",
      "text/plain": [
       "<Figure size 1200x800 with 1 Axes>"
      ]
     },
     "metadata": {},
     "output_type": "display_data"
    }
   ],
   "source": [
    "# define colors using a colormap\n",
    "colors = plt.cm.Reds(np.linspace(0.8, 0.1, len(word_count['Word'][:15])))\n",
    "\n",
    "# plot the top 15 most frequent words\n",
    "plt.figure(figsize=(12, 8))\n",
    "bars = plt.bar(word_count['Word'][:15],\n",
    "               word_count['Count'][:15],\n",
    "               color=colors\n",
    "               )\n",
    "\n",
    "# add color gradient to bars\n",
    "for bar, color in zip(bars, colors):\n",
    "    bar.set_color(color)\n",
    "\n",
    "plt.xlabel('Word', fontsize=15)\n",
    "plt.ylabel('Frequency', fontsize=15)\n",
    "plt.title('Most Frequent Words', fontsize=18)\n",
    "plt.xticks(rotation=45, ha='right', fontsize=12)\n",
    "plt.yticks(fontsize=10)\n",
    "plt.grid(axis='y', linestyle='--', alpha=0.7)\n",
    "plt.tight_layout()\n",
    "plt.show()"
   ]
  },
  {
   "cell_type": "markdown",
   "metadata": {},
   "source": [
    "## Most Freq. Words - Word Cloud"
   ]
  },
  {
   "cell_type": "code",
   "execution_count": 15,
   "metadata": {},
   "outputs": [
    {
     "data": {
      "image/png": "[encoded data removed]",
      "text/plain": [
       "<Figure size 1200x600 with 1 Axes>"
      ]
     },
     "metadata": {},
     "output_type": "display_data"
    }
   ],
   "source": [
    "# define text to use\n",
    "text = ' '.join(lyric_words)\n",
    "\n",
    "# generate the WordCloud\n",
    "wordcloud = WordCloud(relative_scaling = 0.3,\n",
    "                    min_font_size = 1,\n",
    "                    background_color = 'white',\n",
    "                    width = 1024,\n",
    "                    height = 768,\n",
    "                    max_words = 200,\n",
    "                    colormap = 'Reds',\n",
    "                    scale = 3,\n",
    "                    font_step = 4,\n",
    "                    collocations = False,\n",
    "                    margin = 5).generate(text)\n",
    "\n",
    "# display WordCloud\n",
    "plt.figure(figsize=(12, 6))\n",
    "plt.imshow(wordcloud, interpolation='bilinear')\n",
    "plt.axis('off')\n",
    "plt.show()\n",
    "\n",
    "# note: does not show 'like'"
   ]
  },
  {
   "cell_type": "markdown",
   "metadata": {},
   "source": [
    "## Specific Words"
   ]
  },
  {
   "cell_type": "markdown",
   "metadata": {},
   "source": [
    "### Swear Words"
   ]
  },
  {
   "cell_type": "code",
   "execution_count": 30,
   "metadata": {},
   "outputs": [
    {
     "data": {
      "text/html": [
       "<div>\n",
       "<style scoped>\n",
       "    .dataframe tbody tr th:only-of-type {\n",
       "        vertical-align: middle;\n",
       "    }\n",
       "\n",
       "    .dataframe tbody tr th {\n",
       "        vertical-align: top;\n",
       "    }\n",
       "\n",
       "    .dataframe thead th {\n",
       "        text-align: right;\n",
       "    }\n",
       "</style>\n",
       "<table border=\"1\" class=\"dataframe\">\n",
       "  <thead>\n",
       "    <tr style=\"text-align: right;\">\n",
       "      <th></th>\n",
       "      <th>Album</th>\n",
       "      <th>Song Name</th>\n",
       "      <th>Lyrics</th>\n",
       "      <th>hell</th>\n",
       "      <th>bitch</th>\n",
       "      <th>bitches</th>\n",
       "      <th>bitchin</th>\n",
       "      <th>asshole</th>\n",
       "      <th>shit</th>\n",
       "      <th>shitty</th>\n",
       "      <th>...</th>\n",
       "      <th>goddamn</th>\n",
       "      <th>fuck</th>\n",
       "      <th>fuckin</th>\n",
       "      <th>fucking</th>\n",
       "      <th>fucked</th>\n",
       "      <th>sexy</th>\n",
       "      <th>whore</th>\n",
       "      <th>slut</th>\n",
       "      <th>dickhead</th>\n",
       "      <th>godforsaken</th>\n",
       "    </tr>\n",
       "  </thead>\n",
       "  <tbody>\n",
       "    <tr>\n",
       "      <th>224</th>\n",
       "      <td>The Tortured Poets Department The Anthology</td>\n",
       "      <td>The Tortured Poets Department</td>\n",
       "      <td>you left your typewriter at my apartment strai...</td>\n",
       "      <td>0</td>\n",
       "      <td>0</td>\n",
       "      <td>0</td>\n",
       "      <td>0</td>\n",
       "      <td>0</td>\n",
       "      <td>0</td>\n",
       "      <td>0</td>\n",
       "      <td>...</td>\n",
       "      <td>0</td>\n",
       "      <td>0</td>\n",
       "      <td>0</td>\n",
       "      <td>2</td>\n",
       "      <td>0</td>\n",
       "      <td>0</td>\n",
       "      <td>0</td>\n",
       "      <td>0</td>\n",
       "      <td>0</td>\n",
       "      <td>0</td>\n",
       "    </tr>\n",
       "    <tr>\n",
       "      <th>225</th>\n",
       "      <td>The Tortured Poets Department The Anthology</td>\n",
       "      <td>Who's Afraid of Little Old Me</td>\n",
       "      <td>the whos who of whos that is poised for the at...</td>\n",
       "      <td>0</td>\n",
       "      <td>0</td>\n",
       "      <td>0</td>\n",
       "      <td>0</td>\n",
       "      <td>0</td>\n",
       "      <td>0</td>\n",
       "      <td>0</td>\n",
       "      <td>...</td>\n",
       "      <td>0</td>\n",
       "      <td>0</td>\n",
       "      <td>0</td>\n",
       "      <td>0</td>\n",
       "      <td>0</td>\n",
       "      <td>0</td>\n",
       "      <td>0</td>\n",
       "      <td>0</td>\n",
       "      <td>0</td>\n",
       "      <td>0</td>\n",
       "    </tr>\n",
       "    <tr>\n",
       "      <th>226</th>\n",
       "      <td>The Tortured Poets Department The Anthology</td>\n",
       "      <td>​​imgonnagetyouback</td>\n",
       "      <td>yeah  lilac short skirt the one that fits me l...</td>\n",
       "      <td>0</td>\n",
       "      <td>0</td>\n",
       "      <td>0</td>\n",
       "      <td>0</td>\n",
       "      <td>0</td>\n",
       "      <td>0</td>\n",
       "      <td>0</td>\n",
       "      <td>...</td>\n",
       "      <td>0</td>\n",
       "      <td>0</td>\n",
       "      <td>0</td>\n",
       "      <td>0</td>\n",
       "      <td>0</td>\n",
       "      <td>0</td>\n",
       "      <td>0</td>\n",
       "      <td>0</td>\n",
       "      <td>0</td>\n",
       "      <td>0</td>\n",
       "    </tr>\n",
       "    <tr>\n",
       "      <th>227</th>\n",
       "      <td>The Tortured Poets Department The Anthology</td>\n",
       "      <td>​​thanK you aIMee</td>\n",
       "      <td>when i picture my hometown theres a bronze spr...</td>\n",
       "      <td>0</td>\n",
       "      <td>0</td>\n",
       "      <td>0</td>\n",
       "      <td>0</td>\n",
       "      <td>0</td>\n",
       "      <td>0</td>\n",
       "      <td>0</td>\n",
       "      <td>...</td>\n",
       "      <td>0</td>\n",
       "      <td>2</td>\n",
       "      <td>0</td>\n",
       "      <td>0</td>\n",
       "      <td>0</td>\n",
       "      <td>0</td>\n",
       "      <td>0</td>\n",
       "      <td>0</td>\n",
       "      <td>0</td>\n",
       "      <td>0</td>\n",
       "    </tr>\n",
       "    <tr>\n",
       "      <th>228</th>\n",
       "      <td>The Tortured Poets Department The Anthology</td>\n",
       "      <td>loml</td>\n",
       "      <td>whos gonna stop us from waltzing back into rek...</td>\n",
       "      <td>1</td>\n",
       "      <td>0</td>\n",
       "      <td>0</td>\n",
       "      <td>0</td>\n",
       "      <td>0</td>\n",
       "      <td>1</td>\n",
       "      <td>0</td>\n",
       "      <td>...</td>\n",
       "      <td>0</td>\n",
       "      <td>0</td>\n",
       "      <td>0</td>\n",
       "      <td>0</td>\n",
       "      <td>0</td>\n",
       "      <td>0</td>\n",
       "      <td>0</td>\n",
       "      <td>0</td>\n",
       "      <td>0</td>\n",
       "      <td>0</td>\n",
       "    </tr>\n",
       "  </tbody>\n",
       "</table>\n",
       "<p>5 rows × 23 columns</p>\n",
       "</div>"
      ],
      "text/plain": [
       "                                           Album  \\\n",
       "224  The Tortured Poets Department The Anthology   \n",
       "225  The Tortured Poets Department The Anthology   \n",
       "226  The Tortured Poets Department The Anthology   \n",
       "227  The Tortured Poets Department The Anthology   \n",
       "228  The Tortured Poets Department The Anthology   \n",
       "\n",
       "                           Song Name  \\\n",
       "224    The Tortured Poets Department   \n",
       "225    Who's Afraid of Little Old Me   \n",
       "226              ​​imgonnagetyouback   \n",
       "227                ​​thanK you aIMee   \n",
       "228                             loml   \n",
       "\n",
       "                                                Lyrics   hell    bitch   \\\n",
       "224  you left your typewriter at my apartment strai...       0        0   \n",
       "225  the whos who of whos that is poised for the at...       0        0   \n",
       "226  yeah  lilac short skirt the one that fits me l...       0        0   \n",
       "227  when i picture my hometown theres a bronze spr...       0        0   \n",
       "228  whos gonna stop us from waltzing back into rek...       1        0   \n",
       "\n",
       "      bitches    bitchin    asshole    shit    shitty   ...   goddamn   \\\n",
       "224          0          0          0       0         0  ...          0   \n",
       "225          0          0          0       0         0  ...          0   \n",
       "226          0          0          0       0         0  ...          0   \n",
       "227          0          0          0       0         0  ...          0   \n",
       "228          0          0          0       1         0  ...          0   \n",
       "\n",
       "      fuck    fuckin    fucking    fucked    sexy    whore    slut   \\\n",
       "224       0         0          2         0       0        0       0   \n",
       "225       0         0          0         0       0        0       0   \n",
       "226       0         0          0         0       0        0       0   \n",
       "227       2         0          0         0       0        0       0   \n",
       "228       0         0          0         0       0        0       0   \n",
       "\n",
       "      dickhead    godforsaken   \n",
       "224           0              0  \n",
       "225           0              0  \n",
       "226           0              0  \n",
       "227           0              0  \n",
       "228           0              0  \n",
       "\n",
       "[5 rows x 23 columns]"
      ]
     },
     "execution_count": 30,
     "metadata": {},
     "output_type": "execute_result"
    }
   ],
   "source": [
    "# create new dataframe for understanding swear words\n",
    "df_swears = df[['Album', 'Song Name', 'Lyrics']].copy()\n",
    "\n",
    "# create list of swear words\n",
    "swears_list = [' hell ', ' bitch ', ' bitches ', ' bitchin ', ' asshole ', ' shit ', ' shitty ', ' shitstorm ',\n",
    "                ' damn ', ' damned ', ' goddamn ', ' fuck ', ' fuckin ', ' fucking ', ' fucked ',\n",
    "                ' sexy ', ' whore ', ' slut ', ' dickhead ', ' godforsaken ']\n",
    "\n",
    "# function to count swear words by song\n",
    "def find_swear_words(word: str, pattern: str) -> int:\n",
    "    return len(re.findall(pattern, word.lower()))\n",
    "\n",
    "# loop through each string in swears_list\n",
    "# apply find_swear_words function\n",
    "for col in swears_list:\n",
    "    df_swears[col] = df_swears['Lyrics'].apply(find_swear_words, pattern=col)\n",
    "\n",
    "df_swears.tail()"
   ]
  },
  {
   "cell_type": "code",
   "execution_count": 31,
   "metadata": {},
   "outputs": [
    {
     "data": {
      "text/html": [
       "<div>\n",
       "<style scoped>\n",
       "    .dataframe tbody tr th:only-of-type {\n",
       "        vertical-align: middle;\n",
       "    }\n",
       "\n",
       "    .dataframe tbody tr th {\n",
       "        vertical-align: top;\n",
       "    }\n",
       "\n",
       "    .dataframe thead th {\n",
       "        text-align: right;\n",
       "    }\n",
       "</style>\n",
       "<table border=\"1\" class=\"dataframe\">\n",
       "  <thead>\n",
       "    <tr style=\"text-align: right;\">\n",
       "      <th></th>\n",
       "      <th>hell</th>\n",
       "      <th>bitch</th>\n",
       "      <th>asshole</th>\n",
       "      <th>shit</th>\n",
       "      <th>damn</th>\n",
       "      <th>fuck</th>\n",
       "      <th>sexy</th>\n",
       "      <th>whore</th>\n",
       "      <th>slut</th>\n",
       "      <th>dickhead</th>\n",
       "      <th>godforsaken</th>\n",
       "    </tr>\n",
       "    <tr>\n",
       "      <th>Album</th>\n",
       "      <th></th>\n",
       "      <th></th>\n",
       "      <th></th>\n",
       "      <th></th>\n",
       "      <th></th>\n",
       "      <th></th>\n",
       "      <th></th>\n",
       "      <th></th>\n",
       "      <th></th>\n",
       "      <th></th>\n",
       "      <th></th>\n",
       "    </tr>\n",
       "  </thead>\n",
       "  <tbody>\n",
       "    <tr>\n",
       "      <th>1989 Deluxe</th>\n",
       "      <td>2</td>\n",
       "      <td>0</td>\n",
       "      <td>0</td>\n",
       "      <td>0</td>\n",
       "      <td>1</td>\n",
       "      <td>0</td>\n",
       "      <td>0</td>\n",
       "      <td>0</td>\n",
       "      <td>0</td>\n",
       "      <td>0</td>\n",
       "      <td>0</td>\n",
       "    </tr>\n",
       "    <tr>\n",
       "      <th>1989 Taylors Version</th>\n",
       "      <td>0</td>\n",
       "      <td>0</td>\n",
       "      <td>0</td>\n",
       "      <td>0</td>\n",
       "      <td>0</td>\n",
       "      <td>0</td>\n",
       "      <td>0</td>\n",
       "      <td>0</td>\n",
       "      <td>4</td>\n",
       "      <td>0</td>\n",
       "      <td>0</td>\n",
       "    </tr>\n",
       "    <tr>\n",
       "      <th>Fearless Platinum Edition</th>\n",
       "      <td>0</td>\n",
       "      <td>0</td>\n",
       "      <td>0</td>\n",
       "      <td>0</td>\n",
       "      <td>0</td>\n",
       "      <td>0</td>\n",
       "      <td>0</td>\n",
       "      <td>0</td>\n",
       "      <td>0</td>\n",
       "      <td>0</td>\n",
       "      <td>0</td>\n",
       "    </tr>\n",
       "    <tr>\n",
       "      <th>Fearless Taylors Version</th>\n",
       "      <td>0</td>\n",
       "      <td>0</td>\n",
       "      <td>0</td>\n",
       "      <td>0</td>\n",
       "      <td>0</td>\n",
       "      <td>0</td>\n",
       "      <td>0</td>\n",
       "      <td>0</td>\n",
       "      <td>0</td>\n",
       "      <td>0</td>\n",
       "      <td>0</td>\n",
       "    </tr>\n",
       "    <tr>\n",
       "      <th>Lover</th>\n",
       "      <td>2</td>\n",
       "      <td>2</td>\n",
       "      <td>0</td>\n",
       "      <td>0</td>\n",
       "      <td>1</td>\n",
       "      <td>0</td>\n",
       "      <td>0</td>\n",
       "      <td>0</td>\n",
       "      <td>0</td>\n",
       "      <td>0</td>\n",
       "      <td>0</td>\n",
       "    </tr>\n",
       "    <tr>\n",
       "      <th>Midnights The Til Dawn Edition</th>\n",
       "      <td>3</td>\n",
       "      <td>0</td>\n",
       "      <td>1</td>\n",
       "      <td>14</td>\n",
       "      <td>12</td>\n",
       "      <td>7</td>\n",
       "      <td>1</td>\n",
       "      <td>0</td>\n",
       "      <td>0</td>\n",
       "      <td>1</td>\n",
       "      <td>0</td>\n",
       "    </tr>\n",
       "    <tr>\n",
       "      <th>Red Deluxe Edition</th>\n",
       "      <td>2</td>\n",
       "      <td>0</td>\n",
       "      <td>0</td>\n",
       "      <td>0</td>\n",
       "      <td>0</td>\n",
       "      <td>0</td>\n",
       "      <td>0</td>\n",
       "      <td>0</td>\n",
       "      <td>0</td>\n",
       "      <td>0</td>\n",
       "      <td>0</td>\n",
       "    </tr>\n",
       "    <tr>\n",
       "      <th>Red Taylors Version</th>\n",
       "      <td>2</td>\n",
       "      <td>0</td>\n",
       "      <td>0</td>\n",
       "      <td>1</td>\n",
       "      <td>0</td>\n",
       "      <td>1</td>\n",
       "      <td>0</td>\n",
       "      <td>0</td>\n",
       "      <td>0</td>\n",
       "      <td>0</td>\n",
       "      <td>0</td>\n",
       "    </tr>\n",
       "    <tr>\n",
       "      <th>Reputation</th>\n",
       "      <td>0</td>\n",
       "      <td>0</td>\n",
       "      <td>0</td>\n",
       "      <td>1</td>\n",
       "      <td>2</td>\n",
       "      <td>0</td>\n",
       "      <td>0</td>\n",
       "      <td>0</td>\n",
       "      <td>0</td>\n",
       "      <td>0</td>\n",
       "      <td>0</td>\n",
       "    </tr>\n",
       "    <tr>\n",
       "      <th>Speak Now Deluxe Edition</th>\n",
       "      <td>0</td>\n",
       "      <td>0</td>\n",
       "      <td>0</td>\n",
       "      <td>0</td>\n",
       "      <td>0</td>\n",
       "      <td>0</td>\n",
       "      <td>0</td>\n",
       "      <td>0</td>\n",
       "      <td>0</td>\n",
       "      <td>0</td>\n",
       "      <td>0</td>\n",
       "    </tr>\n",
       "    <tr>\n",
       "      <th>Speak Now Taylors Version</th>\n",
       "      <td>1</td>\n",
       "      <td>0</td>\n",
       "      <td>0</td>\n",
       "      <td>0</td>\n",
       "      <td>0</td>\n",
       "      <td>0</td>\n",
       "      <td>0</td>\n",
       "      <td>0</td>\n",
       "      <td>0</td>\n",
       "      <td>0</td>\n",
       "      <td>0</td>\n",
       "    </tr>\n",
       "    <tr>\n",
       "      <th>Taylor Swift</th>\n",
       "      <td>0</td>\n",
       "      <td>0</td>\n",
       "      <td>0</td>\n",
       "      <td>0</td>\n",
       "      <td>1</td>\n",
       "      <td>0</td>\n",
       "      <td>0</td>\n",
       "      <td>0</td>\n",
       "      <td>0</td>\n",
       "      <td>0</td>\n",
       "      <td>0</td>\n",
       "    </tr>\n",
       "    <tr>\n",
       "      <th>The Tortured Poets Department The Anthology</th>\n",
       "      <td>13</td>\n",
       "      <td>5</td>\n",
       "      <td>0</td>\n",
       "      <td>6</td>\n",
       "      <td>2</td>\n",
       "      <td>30</td>\n",
       "      <td>1</td>\n",
       "      <td>2</td>\n",
       "      <td>0</td>\n",
       "      <td>0</td>\n",
       "      <td>0</td>\n",
       "    </tr>\n",
       "    <tr>\n",
       "      <th>evermore deluxe version</th>\n",
       "      <td>0</td>\n",
       "      <td>0</td>\n",
       "      <td>0</td>\n",
       "      <td>4</td>\n",
       "      <td>11</td>\n",
       "      <td>2</td>\n",
       "      <td>0</td>\n",
       "      <td>0</td>\n",
       "      <td>0</td>\n",
       "      <td>0</td>\n",
       "      <td>0</td>\n",
       "    </tr>\n",
       "    <tr>\n",
       "      <th>folklore deluxe version</th>\n",
       "      <td>2</td>\n",
       "      <td>1</td>\n",
       "      <td>0</td>\n",
       "      <td>3</td>\n",
       "      <td>1</td>\n",
       "      <td>3</td>\n",
       "      <td>0</td>\n",
       "      <td>0</td>\n",
       "      <td>0</td>\n",
       "      <td>0</td>\n",
       "      <td>1</td>\n",
       "    </tr>\n",
       "  </tbody>\n",
       "</table>\n",
       "</div>"
      ],
      "text/plain": [
       "                                             hell  bitch  asshole  shit  damn  \\\n",
       "Album                                                                           \n",
       "1989 Deluxe                                     2      0        0     0     1   \n",
       "1989 Taylors Version                            0      0        0     0     0   \n",
       "Fearless Platinum Edition                       0      0        0     0     0   \n",
       "Fearless Taylors Version                        0      0        0     0     0   \n",
       "Lover                                           2      2        0     0     1   \n",
       "Midnights The Til Dawn Edition                  3      0        1    14    12   \n",
       "Red Deluxe Edition                              2      0        0     0     0   \n",
       "Red Taylors Version                             2      0        0     1     0   \n",
       "Reputation                                      0      0        0     1     2   \n",
       "Speak Now Deluxe Edition                        0      0        0     0     0   \n",
       "Speak Now Taylors Version                       1      0        0     0     0   \n",
       "Taylor Swift                                    0      0        0     0     1   \n",
       "The Tortured Poets Department The Anthology    13      5        0     6     2   \n",
       "evermore deluxe version                         0      0        0     4    11   \n",
       "folklore deluxe version                         2      1        0     3     1   \n",
       "\n",
       "                                             fuck  sexy  whore  slut  \\\n",
       "Album                                                                  \n",
       "1989 Deluxe                                     0     0      0     0   \n",
       "1989 Taylors Version                            0     0      0     4   \n",
       "Fearless Platinum Edition                       0     0      0     0   \n",
       "Fearless Taylors Version                        0     0      0     0   \n",
       "Lover                                           0     0      0     0   \n",
       "Midnights The Til Dawn Edition                  7     1      0     0   \n",
       "Red Deluxe Edition                              0     0      0     0   \n",
       "Red Taylors Version                             1     0      0     0   \n",
       "Reputation                                      0     0      0     0   \n",
       "Speak Now Deluxe Edition                        0     0      0     0   \n",
       "Speak Now Taylors Version                       0     0      0     0   \n",
       "Taylor Swift                                    0     0      0     0   \n",
       "The Tortured Poets Department The Anthology    30     1      2     0   \n",
       "evermore deluxe version                         2     0      0     0   \n",
       "folklore deluxe version                         3     0      0     0   \n",
       "\n",
       "                                             dickhead  godforsaken  \n",
       "Album                                                               \n",
       "1989 Deluxe                                         0            0  \n",
       "1989 Taylors Version                                0            0  \n",
       "Fearless Platinum Edition                           0            0  \n",
       "Fearless Taylors Version                            0            0  \n",
       "Lover                                               0            0  \n",
       "Midnights The Til Dawn Edition                      1            0  \n",
       "Red Deluxe Edition                                  0            0  \n",
       "Red Taylors Version                                 0            0  \n",
       "Reputation                                          0            0  \n",
       "Speak Now Deluxe Edition                            0            0  \n",
       "Speak Now Taylors Version                           0            0  \n",
       "Taylor Swift                                        0            0  \n",
       "The Tortured Poets Department The Anthology         0            0  \n",
       "evermore deluxe version                             0            0  \n",
       "folklore deluxe version                             0            1  "
      ]
     },
     "execution_count": 31,
     "metadata": {},
     "output_type": "execute_result"
    }
   ],
   "source": [
    "# create new reduced dataframe\n",
    "df_swears_reduced = df_swears[['Album', ' hell ', ' bitch ', ' bitches ', ' bitchin ', ' asshole ', ' shit ', ' shitty ', ' shitstorm ',\n",
    "                                ' damn ', ' damned ', ' goddamn ', ' fuck ', ' fuckin ', ' fucking ', ' fucked ', ' sexy ', ' whore ',\n",
    "                                ' slut ', ' dickhead ', ' godforsaken ']].copy()\n",
    "\n",
    "# remove spaces from column names and combine similar swear words\n",
    "df_swears_reduced['hell'] = df_swears_reduced[[' hell ']]\n",
    "df_swears_reduced['bitch'] = df_swears_reduced[[' bitch ', ' bitches ', ' bitchin ']].sum(axis=1)\n",
    "df_swears_reduced['asshole'] = df_swears_reduced[[' asshole ']]\n",
    "df_swears_reduced['shit'] = df_swears_reduced[[' shit ', ' shitty ', ' shitstorm ']].sum(axis=1)\n",
    "df_swears_reduced['damn'] = df_swears_reduced[[' damn ', ' damned ', ' goddamn ']].sum(axis=1)\n",
    "df_swears_reduced['fuck'] = df_swears_reduced[[' fuck ', ' fuckin ', ' fucking ', ' fucked ']].sum(axis=1)\n",
    "df_swears_reduced['sexy'] = df_swears_reduced[[' sexy ']]\n",
    "df_swears_reduced['whore'] = df_swears_reduced[[' whore ']]\n",
    "df_swears_reduced['slut'] = df_swears_reduced[[' slut ']]\n",
    "df_swears_reduced['dickhead'] = df_swears_reduced[[' dickhead ']]\n",
    "df_swears_reduced['godforsaken'] = df_swears_reduced[[' godforsaken ']]\n",
    "\n",
    "# drop now-unnecessary columns\n",
    "df_swears_reduced = df_swears_reduced.drop([' hell ', ' bitch ', ' bitches ', ' bitchin ', ' asshole ', ' shit ', ' shitty ',\n",
    "                                            ' shitstorm ', ' damn ', ' damned ', ' goddamn ', ' fuck ', ' fuckin ', ' fucking ',\n",
    "                                            ' fucked ', ' sexy ', ' whore ', ' slut ', ' dickhead ', ' godforsaken '],\n",
    "                                            axis=1)\n",
    "\n",
    "# combine album rows\n",
    "df_swears_reduced = df_swears_reduced.groupby('Album').sum()\n",
    "\n",
    "df_swears_reduced"
   ]
  },
  {
   "cell_type": "markdown",
   "metadata": {},
   "source": [
    "#### Swear Words - Bar Charts"
   ]
  },
  {
   "cell_type": "code",
   "execution_count": 32,
   "metadata": {},
   "outputs": [
    {
     "data": {
      "image/png": "[encoded data removed]",
      "text/plain": [
       "<Figure size 1600x1200 with 1 Axes>"
      ]
     },
     "metadata": {},
     "output_type": "display_data"
    }
   ],
   "source": [
    "# number of swear words by album color-coded by word\n",
    "\n",
    "# define data\n",
    "plotdata = df_swears_reduced[['hell', 'bitch', 'asshole', 'shit', 'damn', 'fuck', 'sexy', 'whore', 'slut', 'dickhead', 'godforsaken']]\n",
    "\n",
    "# plot stacked bar chart\n",
    "plotdata.plot(kind='bar', stacked=True, figsize=(16, 12)).legend(loc='upper left', ncol=3, title='Swear Word')\n",
    "plt.legend(bbox_to_anchor=(1.05, 1), loc='upper left', ncol=1, title='Swear Word')\n",
    "plt.subplots_adjust(right=0.7)\n",
    "plt.title('Swears by Album', fontsize=20)\n",
    "plt.xlabel('Album', fontsize=15)\n",
    "plt.ylabel('No. of Swears', fontsize=15)\n",
    "\n",
    "plt.show()"
   ]
  },
  {
   "cell_type": "code",
   "execution_count": 33,
   "metadata": {},
   "outputs": [
    {
     "data": {
      "application/vnd.plotly.v1+json": {
       "config": {
        "plotlyServerURL": "https://plot.ly"
       },
       "data": [
        {
         "alignmentgroup": "True",
         "hovertemplate": "Swear Word=hell<br>Album=%{x}<br>No. of Words=%{y}<extra></extra>",
         "legendgroup": "hell",
         "marker": {
          "color": "#636efa",
          "pattern": {
           "shape": ""
          }
         },
         "name": "hell",
         "offsetgroup": "hell",
         "orientation": "v",
         "showlegend": true,
         "textposition": "auto",
         "type": "bar",
         "x": [
          "1989 Deluxe",
          "1989 Taylors Version",
          "Fearless Platinum Edition",
          "Fearless Taylors Version",
          "Lover",
          "Midnights The Til Dawn Edition",
          "Red Deluxe Edition",
          "Red Taylors Version",
          "Reputation",
          "Speak Now Deluxe Edition",
          "Speak Now Taylors Version",
          "Taylor Swift",
          "The Tortured Poets Department The Anthology",
          "evermore deluxe version",
          "folklore deluxe version"
         ],
         "xaxis": "x",
         "y": [
          2,
          0,
          0,
          0,
          2,
          3,
          2,
          2,
          0,
          0,
          1,
          0,
          13,
          0,
          2
         ],
         "yaxis": "y"
        },
        {
         "alignmentgroup": "True",
         "hovertemplate": "Swear Word=bitch<br>Album=%{x}<br>No. of Words=%{y}<extra></extra>",
         "legendgroup": "bitch",
         "marker": {
          "color": "#EF553B",
          "pattern": {
           "shape": ""
          }
         },
         "name": "bitch",
         "offsetgroup": "bitch",
         "orientation": "v",
         "showlegend": true,
         "textposition": "auto",
         "type": "bar",
         "x": [
          "1989 Deluxe",
          "1989 Taylors Version",
          "Fearless Platinum Edition",
          "Fearless Taylors Version",
          "Lover",
          "Midnights The Til Dawn Edition",
          "Red Deluxe Edition",
          "Red Taylors Version",
          "Reputation",
          "Speak Now Deluxe Edition",
          "Speak Now Taylors Version",
          "Taylor Swift",
          "The Tortured Poets Department The Anthology",
          "evermore deluxe version",
          "folklore deluxe version"
         ],
         "xaxis": "x",
         "y": [
          0,
          0,
          0,
          0,
          2,
          0,
          0,
          0,
          0,
          0,
          0,
          0,
          5,
          0,
          1
         ],
         "yaxis": "y"
        },
        {
         "alignmentgroup": "True",
         "hovertemplate": "Swear Word=asshole<br>Album=%{x}<br>No. of Words=%{y}<extra></extra>",
         "legendgroup": "asshole",
         "marker": {
          "color": "#00cc96",
          "pattern": {
           "shape": ""
          }
         },
         "name": "asshole",
         "offsetgroup": "asshole",
         "orientation": "v",
         "showlegend": true,
         "textposition": "auto",
         "type": "bar",
         "x": [
          "1989 Deluxe",
          "1989 Taylors Version",
          "Fearless Platinum Edition",
          "Fearless Taylors Version",
          "Lover",
          "Midnights The Til Dawn Edition",
          "Red Deluxe Edition",
          "Red Taylors Version",
          "Reputation",
          "Speak Now Deluxe Edition",
          "Speak Now Taylors Version",
          "Taylor Swift",
          "The Tortured Poets Department The Anthology",
          "evermore deluxe version",
          "folklore deluxe version"
         ],
         "xaxis": "x",
         "y": [
          0,
          0,
          0,
          0,
          0,
          1,
          0,
          0,
          0,
          0,
          0,
          0,
          0,
          0,
          0
         ],
         "yaxis": "y"
        },
        {
         "alignmentgroup": "True",
         "hovertemplate": "Swear Word=shit<br>Album=%{x}<br>No. of Words=%{y}<extra></extra>",
         "legendgroup": "shit",
         "marker": {
          "color": "#ab63fa",
          "pattern": {
           "shape": ""
          }
         },
         "name": "shit",
         "offsetgroup": "shit",
         "orientation": "v",
         "showlegend": true,
         "textposition": "auto",
         "type": "bar",
         "x": [
          "1989 Deluxe",
          "1989 Taylors Version",
          "Fearless Platinum Edition",
          "Fearless Taylors Version",
          "Lover",
          "Midnights The Til Dawn Edition",
          "Red Deluxe Edition",
          "Red Taylors Version",
          "Reputation",
          "Speak Now Deluxe Edition",
          "Speak Now Taylors Version",
          "Taylor Swift",
          "The Tortured Poets Department The Anthology",
          "evermore deluxe version",
          "folklore deluxe version"
         ],
         "xaxis": "x",
         "y": [
          0,
          0,
          0,
          0,
          0,
          14,
          0,
          1,
          1,
          0,
          0,
          0,
          6,
          4,
          3
         ],
         "yaxis": "y"
        },
        {
         "alignmentgroup": "True",
         "hovertemplate": "Swear Word=damn<br>Album=%{x}<br>No. of Words=%{y}<extra></extra>",
         "legendgroup": "damn",
         "marker": {
          "color": "#FFA15A",
          "pattern": {
           "shape": ""
          }
         },
         "name": "damn",
         "offsetgroup": "damn",
         "orientation": "v",
         "showlegend": true,
         "textposition": "auto",
         "type": "bar",
         "x": [
          "1989 Deluxe",
          "1989 Taylors Version",
          "Fearless Platinum Edition",
          "Fearless Taylors Version",
          "Lover",
          "Midnights The Til Dawn Edition",
          "Red Deluxe Edition",
          "Red Taylors Version",
          "Reputation",
          "Speak Now Deluxe Edition",
          "Speak Now Taylors Version",
          "Taylor Swift",
          "The Tortured Poets Department The Anthology",
          "evermore deluxe version",
          "folklore deluxe version"
         ],
         "xaxis": "x",
         "y": [
          1,
          0,
          0,
          0,
          1,
          12,
          0,
          0,
          2,
          0,
          0,
          1,
          2,
          11,
          1
         ],
         "yaxis": "y"
        },
        {
         "alignmentgroup": "True",
         "hovertemplate": "Swear Word=fuck<br>Album=%{x}<br>No. of Words=%{y}<extra></extra>",
         "legendgroup": "fuck",
         "marker": {
          "color": "#19d3f3",
          "pattern": {
           "shape": ""
          }
         },
         "name": "fuck",
         "offsetgroup": "fuck",
         "orientation": "v",
         "showlegend": true,
         "textposition": "auto",
         "type": "bar",
         "x": [
          "1989 Deluxe",
          "1989 Taylors Version",
          "Fearless Platinum Edition",
          "Fearless Taylors Version",
          "Lover",
          "Midnights The Til Dawn Edition",
          "Red Deluxe Edition",
          "Red Taylors Version",
          "Reputation",
          "Speak Now Deluxe Edition",
          "Speak Now Taylors Version",
          "Taylor Swift",
          "The Tortured Poets Department The Anthology",
          "evermore deluxe version",
          "folklore deluxe version"
         ],
         "xaxis": "x",
         "y": [
          0,
          0,
          0,
          0,
          0,
          7,
          0,
          1,
          0,
          0,
          0,
          0,
          30,
          2,
          3
         ],
         "yaxis": "y"
        },
        {
         "alignmentgroup": "True",
         "hovertemplate": "Swear Word=sexy<br>Album=%{x}<br>No. of Words=%{y}<extra></extra>",
         "legendgroup": "sexy",
         "marker": {
          "color": "#FF6692",
          "pattern": {
           "shape": ""
          }
         },
         "name": "sexy",
         "offsetgroup": "sexy",
         "orientation": "v",
         "showlegend": true,
         "textposition": "auto",
         "type": "bar",
         "x": [
          "1989 Deluxe",
          "1989 Taylors Version",
          "Fearless Platinum Edition",
          "Fearless Taylors Version",
          "Lover",
          "Midnights The Til Dawn Edition",
          "Red Deluxe Edition",
          "Red Taylors Version",
          "Reputation",
          "Speak Now Deluxe Edition",
          "Speak Now Taylors Version",
          "Taylor Swift",
          "The Tortured Poets Department The Anthology",
          "evermore deluxe version",
          "folklore deluxe version"
         ],
         "xaxis": "x",
         "y": [
          0,
          0,
          0,
          0,
          0,
          1,
          0,
          0,
          0,
          0,
          0,
          0,
          1,
          0,
          0
         ],
         "yaxis": "y"
        },
        {
         "alignmentgroup": "True",
         "hovertemplate": "Swear Word=whore<br>Album=%{x}<br>No. of Words=%{y}<extra></extra>",
         "legendgroup": "whore",
         "marker": {
          "color": "#B6E880",
          "pattern": {
           "shape": ""
          }
         },
         "name": "whore",
         "offsetgroup": "whore",
         "orientation": "v",
         "showlegend": true,
         "textposition": "auto",
         "type": "bar",
         "x": [
          "1989 Deluxe",
          "1989 Taylors Version",
          "Fearless Platinum Edition",
          "Fearless Taylors Version",
          "Lover",
          "Midnights The Til Dawn Edition",
          "Red Deluxe Edition",
          "Red Taylors Version",
          "Reputation",
          "Speak Now Deluxe Edition",
          "Speak Now Taylors Version",
          "Taylor Swift",
          "The Tortured Poets Department The Anthology",
          "evermore deluxe version",
          "folklore deluxe version"
         ],
         "xaxis": "x",
         "y": [
          0,
          0,
          0,
          0,
          0,
          0,
          0,
          0,
          0,
          0,
          0,
          0,
          2,
          0,
          0
         ],
         "yaxis": "y"
        },
        {
         "alignmentgroup": "True",
         "hovertemplate": "Swear Word=slut<br>Album=%{x}<br>No. of Words=%{y}<extra></extra>",
         "legendgroup": "slut",
         "marker": {
          "color": "#FF97FF",
          "pattern": {
           "shape": ""
          }
         },
         "name": "slut",
         "offsetgroup": "slut",
         "orientation": "v",
         "showlegend": true,
         "textposition": "auto",
         "type": "bar",
         "x": [
          "1989 Deluxe",
          "1989 Taylors Version",
          "Fearless Platinum Edition",
          "Fearless Taylors Version",
          "Lover",
          "Midnights The Til Dawn Edition",
          "Red Deluxe Edition",
          "Red Taylors Version",
          "Reputation",
          "Speak Now Deluxe Edition",
          "Speak Now Taylors Version",
          "Taylor Swift",
          "The Tortured Poets Department The Anthology",
          "evermore deluxe version",
          "folklore deluxe version"
         ],
         "xaxis": "x",
         "y": [
          0,
          4,
          0,
          0,
          0,
          0,
          0,
          0,
          0,
          0,
          0,
          0,
          0,
          0,
          0
         ],
         "yaxis": "y"
        },
        {
         "alignmentgroup": "True",
         "hovertemplate": "Swear Word=dickhead<br>Album=%{x}<br>No. of Words=%{y}<extra></extra>",
         "legendgroup": "dickhead",
         "marker": {
          "color": "#FECB52",
          "pattern": {
           "shape": ""
          }
         },
         "name": "dickhead",
         "offsetgroup": "dickhead",
         "orientation": "v",
         "showlegend": true,
         "textposition": "auto",
         "type": "bar",
         "x": [
          "1989 Deluxe",
          "1989 Taylors Version",
          "Fearless Platinum Edition",
          "Fearless Taylors Version",
          "Lover",
          "Midnights The Til Dawn Edition",
          "Red Deluxe Edition",
          "Red Taylors Version",
          "Reputation",
          "Speak Now Deluxe Edition",
          "Speak Now Taylors Version",
          "Taylor Swift",
          "The Tortured Poets Department The Anthology",
          "evermore deluxe version",
          "folklore deluxe version"
         ],
         "xaxis": "x",
         "y": [
          0,
          0,
          0,
          0,
          0,
          1,
          0,
          0,
          0,
          0,
          0,
          0,
          0,
          0,
          0
         ],
         "yaxis": "y"
        },
        {
         "alignmentgroup": "True",
         "hovertemplate": "Swear Word=godforsaken<br>Album=%{x}<br>No. of Words=%{y}<extra></extra>",
         "legendgroup": "godforsaken",
         "marker": {
          "color": "#636efa",
          "pattern": {
           "shape": ""
          }
         },
         "name": "godforsaken",
         "offsetgroup": "godforsaken",
         "orientation": "v",
         "showlegend": true,
         "textposition": "auto",
         "type": "bar",
         "x": [
          "1989 Deluxe",
          "1989 Taylors Version",
          "Fearless Platinum Edition",
          "Fearless Taylors Version",
          "Lover",
          "Midnights The Til Dawn Edition",
          "Red Deluxe Edition",
          "Red Taylors Version",
          "Reputation",
          "Speak Now Deluxe Edition",
          "Speak Now Taylors Version",
          "Taylor Swift",
          "The Tortured Poets Department The Anthology",
          "evermore deluxe version",
          "folklore deluxe version"
         ],
         "xaxis": "x",
         "y": [
          0,
          0,
          0,
          0,
          0,
          0,
          0,
          0,
          0,
          0,
          0,
          0,
          0,
          0,
          1
         ],
         "yaxis": "y"
        }
       ],
       "layout": {
        "barmode": "relative",
        "legend": {
         "title": {
          "text": "Swear Word"
         },
         "tracegroupgap": 0
        },
        "template": {
         "data": {
          "bar": [
           {
            "error_x": {
             "color": "#2a3f5f"
            },
            "error_y": {
             "color": "#2a3f5f"
            },
            "marker": {
             "line": {
              "color": "#E5ECF6",
              "width": 0.5
             },
             "pattern": {
              "fillmode": "overlay",
              "size": 10,
              "solidity": 0.2
             }
            },
            "type": "bar"
           }
          ],
          "barpolar": [
           {
            "marker": {
             "line": {
              "color": "#E5ECF6",
              "width": 0.5
             },
             "pattern": {
              "fillmode": "overlay",
              "size": 10,
              "solidity": 0.2
             }
            },
            "type": "barpolar"
           }
          ],
          "carpet": [
           {
            "aaxis": {
             "endlinecolor": "#2a3f5f",
             "gridcolor": "white",
             "linecolor": "white",
             "minorgridcolor": "white",
             "startlinecolor": "#2a3f5f"
            },
            "baxis": {
             "endlinecolor": "#2a3f5f",
             "gridcolor": "white",
             "linecolor": "white",
             "minorgridcolor": "white",
             "startlinecolor": "#2a3f5f"
            },
            "type": "carpet"
           }
          ],
          "choropleth": [
           {
            "colorbar": {
             "outlinewidth": 0,
             "ticks": ""
            },
            "type": "choropleth"
           }
          ],
          "contour": [
           {
            "colorbar": {
             "outlinewidth": 0,
             "ticks": ""
            },
            "colorscale": [
             [
              0,
              "#0d0887"
             ],
             [
              0.1111111111111111,
              "#46039f"
             ],
             [
              0.2222222222222222,
              "#7201a8"
             ],
             [
              0.3333333333333333,
              "#9c179e"
             ],
             [
              0.4444444444444444,
              "#bd3786"
             ],
             [
              0.5555555555555556,
              "#d8576b"
             ],
             [
              0.6666666666666666,
              "#ed7953"
             ],
             [
              0.7777777777777778,
              "#fb9f3a"
             ],
             [
              0.8888888888888888,
              "#fdca26"
             ],
             [
              1,
              "#f0f921"
             ]
            ],
            "type": "contour"
           }
          ],
          "contourcarpet": [
           {
            "colorbar": {
             "outlinewidth": 0,
             "ticks": ""
            },
            "type": "contourcarpet"
           }
          ],
          "heatmap": [
           {
            "colorbar": {
             "outlinewidth": 0,
             "ticks": ""
            },
            "colorscale": [
             [
              0,
              "#0d0887"
             ],
             [
              0.1111111111111111,
              "#46039f"
             ],
             [
              0.2222222222222222,
              "#7201a8"
             ],
             [
              0.3333333333333333,
              "#9c179e"
             ],
             [
              0.4444444444444444,
              "#bd3786"
             ],
             [
              0.5555555555555556,
              "#d8576b"
             ],
             [
              0.6666666666666666,
              "#ed7953"
             ],
             [
              0.7777777777777778,
              "#fb9f3a"
             ],
             [
              0.8888888888888888,
              "#fdca26"
             ],
             [
              1,
              "#f0f921"
             ]
            ],
            "type": "heatmap"
           }
          ],
          "heatmapgl": [
           {
            "colorbar": {
             "outlinewidth": 0,
             "ticks": ""
            },
            "colorscale": [
             [
              0,
              "#0d0887"
             ],
             [
              0.1111111111111111,
              "#46039f"
             ],
             [
              0.2222222222222222,
              "#7201a8"
             ],
             [
              0.3333333333333333,
              "#9c179e"
             ],
             [
              0.4444444444444444,
              "#bd3786"
             ],
             [
              0.5555555555555556,
              "#d8576b"
             ],
             [
              0.6666666666666666,
              "#ed7953"
             ],
             [
              0.7777777777777778,
              "#fb9f3a"
             ],
             [
              0.8888888888888888,
              "#fdca26"
             ],
             [
              1,
              "#f0f921"
             ]
            ],
            "type": "heatmapgl"
           }
          ],
          "histogram": [
           {
            "marker": {
             "pattern": {
              "fillmode": "overlay",
              "size": 10,
              "solidity": 0.2
             }
            },
            "type": "histogram"
           }
          ],
          "histogram2d": [
           {
            "colorbar": {
             "outlinewidth": 0,
             "ticks": ""
            },
            "colorscale": [
             [
              0,
              "#0d0887"
             ],
             [
              0.1111111111111111,
              "#46039f"
             ],
             [
              0.2222222222222222,
              "#7201a8"
             ],
             [
              0.3333333333333333,
              "#9c179e"
             ],
             [
              0.4444444444444444,
              "#bd3786"
             ],
             [
              0.5555555555555556,
              "#d8576b"
             ],
             [
              0.6666666666666666,
              "#ed7953"
             ],
             [
              0.7777777777777778,
              "#fb9f3a"
             ],
             [
              0.8888888888888888,
              "#fdca26"
             ],
             [
              1,
              "#f0f921"
             ]
            ],
            "type": "histogram2d"
           }
          ],
          "histogram2dcontour": [
           {
            "colorbar": {
             "outlinewidth": 0,
             "ticks": ""
            },
            "colorscale": [
             [
              0,
              "#0d0887"
             ],
             [
              0.1111111111111111,
              "#46039f"
             ],
             [
              0.2222222222222222,
              "#7201a8"
             ],
             [
              0.3333333333333333,
              "#9c179e"
             ],
             [
              0.4444444444444444,
              "#bd3786"
             ],
             [
              0.5555555555555556,
              "#d8576b"
             ],
             [
              0.6666666666666666,
              "#ed7953"
             ],
             [
              0.7777777777777778,
              "#fb9f3a"
             ],
             [
              0.8888888888888888,
              "#fdca26"
             ],
             [
              1,
              "#f0f921"
             ]
            ],
            "type": "histogram2dcontour"
           }
          ],
          "mesh3d": [
           {
            "colorbar": {
             "outlinewidth": 0,
             "ticks": ""
            },
            "type": "mesh3d"
           }
          ],
          "parcoords": [
           {
            "line": {
             "colorbar": {
              "outlinewidth": 0,
              "ticks": ""
             }
            },
            "type": "parcoords"
           }
          ],
          "pie": [
           {
            "automargin": true,
            "type": "pie"
           }
          ],
          "scatter": [
           {
            "fillpattern": {
             "fillmode": "overlay",
             "size": 10,
             "solidity": 0.2
            },
            "type": "scatter"
           }
          ],
          "scatter3d": [
           {
            "line": {
             "colorbar": {
              "outlinewidth": 0,
              "ticks": ""
             }
            },
            "marker": {
             "colorbar": {
              "outlinewidth": 0,
              "ticks": ""
             }
            },
            "type": "scatter3d"
           }
          ],
          "scattercarpet": [
           {
            "marker": {
             "colorbar": {
              "outlinewidth": 0,
              "ticks": ""
             }
            },
            "type": "scattercarpet"
           }
          ],
          "scattergeo": [
           {
            "marker": {
             "colorbar": {
              "outlinewidth": 0,
              "ticks": ""
             }
            },
            "type": "scattergeo"
           }
          ],
          "scattergl": [
           {
            "marker": {
             "colorbar": {
              "outlinewidth": 0,
              "ticks": ""
             }
            },
            "type": "scattergl"
           }
          ],
          "scattermapbox": [
           {
            "marker": {
             "colorbar": {
              "outlinewidth": 0,
              "ticks": ""
             }
            },
            "type": "scattermapbox"
           }
          ],
          "scatterpolar": [
           {
            "marker": {
             "colorbar": {
              "outlinewidth": 0,
              "ticks": ""
             }
            },
            "type": "scatterpolar"
           }
          ],
          "scatterpolargl": [
           {
            "marker": {
             "colorbar": {
              "outlinewidth": 0,
              "ticks": ""
             }
            },
            "type": "scatterpolargl"
           }
          ],
          "scatterternary": [
           {
            "marker": {
             "colorbar": {
              "outlinewidth": 0,
              "ticks": ""
             }
            },
            "type": "scatterternary"
           }
          ],
          "surface": [
           {
            "colorbar": {
             "outlinewidth": 0,
             "ticks": ""
            },
            "colorscale": [
             [
              0,
              "#0d0887"
             ],
             [
              0.1111111111111111,
              "#46039f"
             ],
             [
              0.2222222222222222,
              "#7201a8"
             ],
             [
              0.3333333333333333,
              "#9c179e"
             ],
             [
              0.4444444444444444,
              "#bd3786"
             ],
             [
              0.5555555555555556,
              "#d8576b"
             ],
             [
              0.6666666666666666,
              "#ed7953"
             ],
             [
              0.7777777777777778,
              "#fb9f3a"
             ],
             [
              0.8888888888888888,
              "#fdca26"
             ],
             [
              1,
              "#f0f921"
             ]
            ],
            "type": "surface"
           }
          ],
          "table": [
           {
            "cells": {
             "fill": {
              "color": "#EBF0F8"
             },
             "line": {
              "color": "white"
             }
            },
            "header": {
             "fill": {
              "color": "#C8D4E3"
             },
             "line": {
              "color": "white"
             }
            },
            "type": "table"
           }
          ]
         },
         "layout": {
          "annotationdefaults": {
           "arrowcolor": "#2a3f5f",
           "arrowhead": 0,
           "arrowwidth": 1
          },
          "autotypenumbers": "strict",
          "coloraxis": {
           "colorbar": {
            "outlinewidth": 0,
            "ticks": ""
           }
          },
          "colorscale": {
           "diverging": [
            [
             0,
             "#8e0152"
            ],
            [
             0.1,
             "#c51b7d"
            ],
            [
             0.2,
             "#de77ae"
            ],
            [
             0.3,
             "#f1b6da"
            ],
            [
             0.4,
             "#fde0ef"
            ],
            [
             0.5,
             "#f7f7f7"
            ],
            [
             0.6,
             "#e6f5d0"
            ],
            [
             0.7,
             "#b8e186"
            ],
            [
             0.8,
             "#7fbc41"
            ],
            [
             0.9,
             "#4d9221"
            ],
            [
             1,
             "#276419"
            ]
           ],
           "sequential": [
            [
             0,
             "#0d0887"
            ],
            [
             0.1111111111111111,
             "#46039f"
            ],
            [
             0.2222222222222222,
             "#7201a8"
            ],
            [
             0.3333333333333333,
             "#9c179e"
            ],
            [
             0.4444444444444444,
             "#bd3786"
            ],
            [
             0.5555555555555556,
             "#d8576b"
            ],
            [
             0.6666666666666666,
             "#ed7953"
            ],
            [
             0.7777777777777778,
             "#fb9f3a"
            ],
            [
             0.8888888888888888,
             "#fdca26"
            ],
            [
             1,
             "#f0f921"
            ]
           ],
           "sequentialminus": [
            [
             0,
             "#0d0887"
            ],
            [
             0.1111111111111111,
             "#46039f"
            ],
            [
             0.2222222222222222,
             "#7201a8"
            ],
            [
             0.3333333333333333,
             "#9c179e"
            ],
            [
             0.4444444444444444,
             "#bd3786"
            ],
            [
             0.5555555555555556,
             "#d8576b"
            ],
            [
             0.6666666666666666,
             "#ed7953"
            ],
            [
             0.7777777777777778,
             "#fb9f3a"
            ],
            [
             0.8888888888888888,
             "#fdca26"
            ],
            [
             1,
             "#f0f921"
            ]
           ]
          },
          "colorway": [
           "#636efa",
           "#EF553B",
           "#00cc96",
           "#ab63fa",
           "#FFA15A",
           "#19d3f3",
           "#FF6692",
           "#B6E880",
           "#FF97FF",
           "#FECB52"
          ],
          "font": {
           "color": "#2a3f5f"
          },
          "geo": {
           "bgcolor": "white",
           "lakecolor": "white",
           "landcolor": "#E5ECF6",
           "showlakes": true,
           "showland": true,
           "subunitcolor": "white"
          },
          "hoverlabel": {
           "align": "left"
          },
          "hovermode": "closest",
          "mapbox": {
           "style": "light"
          },
          "paper_bgcolor": "white",
          "plot_bgcolor": "#E5ECF6",
          "polar": {
           "angularaxis": {
            "gridcolor": "white",
            "linecolor": "white",
            "ticks": ""
           },
           "bgcolor": "#E5ECF6",
           "radialaxis": {
            "gridcolor": "white",
            "linecolor": "white",
            "ticks": ""
           }
          },
          "scene": {
           "xaxis": {
            "backgroundcolor": "#E5ECF6",
            "gridcolor": "white",
            "gridwidth": 2,
            "linecolor": "white",
            "showbackground": true,
            "ticks": "",
            "zerolinecolor": "white"
           },
           "yaxis": {
            "backgroundcolor": "#E5ECF6",
            "gridcolor": "white",
            "gridwidth": 2,
            "linecolor": "white",
            "showbackground": true,
            "ticks": "",
            "zerolinecolor": "white"
           },
           "zaxis": {
            "backgroundcolor": "#E5ECF6",
            "gridcolor": "white",
            "gridwidth": 2,
            "linecolor": "white",
            "showbackground": true,
            "ticks": "",
            "zerolinecolor": "white"
           }
          },
          "shapedefaults": {
           "line": {
            "color": "#2a3f5f"
           }
          },
          "ternary": {
           "aaxis": {
            "gridcolor": "white",
            "linecolor": "white",
            "ticks": ""
           },
           "baxis": {
            "gridcolor": "white",
            "linecolor": "white",
            "ticks": ""
           },
           "bgcolor": "#E5ECF6",
           "caxis": {
            "gridcolor": "white",
            "linecolor": "white",
            "ticks": ""
           }
          },
          "title": {
           "x": 0.05
          },
          "xaxis": {
           "automargin": true,
           "gridcolor": "white",
           "linecolor": "white",
           "ticks": "",
           "title": {
            "standoff": 15
           },
           "zerolinecolor": "white",
           "zerolinewidth": 2
          },
          "yaxis": {
           "automargin": true,
           "gridcolor": "white",
           "linecolor": "white",
           "ticks": "",
           "title": {
            "standoff": 15
           },
           "zerolinecolor": "white",
           "zerolinewidth": 2
          }
         }
        },
        "title": {
         "text": "Swear Words by Album"
        },
        "xaxis": {
         "anchor": "y",
         "domain": [
          0,
          1
         ],
         "title": {
          "text": "Album"
         }
        },
        "yaxis": {
         "anchor": "x",
         "domain": [
          0,
          1
         ],
         "title": {
          "text": "No. of Words"
         }
        }
       }
      }
     },
     "metadata": {},
     "output_type": "display_data"
    }
   ],
   "source": [
    "# interactive bar chart showing swear words\n",
    "\n",
    "# data\n",
    "color = [['hell', 'bitch', 'asshole', 'shit', 'damn', 'fuck', 'sexy', 'whore', 'slut', 'dickhead', 'godforsaken']]\n",
    "\n",
    "# show plot\n",
    "fig = px.bar(df_swears_reduced,\n",
    "               labels={'variable' : 'Swear Word',\n",
    "                       'value' : 'No. of Words'},\n",
    "               title='Swear Words by Album'\n",
    "               )\n",
    "\n",
    "fig.show()"
   ]
  },
  {
   "cell_type": "markdown",
   "metadata": {},
   "source": [
    "### References to Drugs and Alcohol"
   ]
  },
  {
   "cell_type": "code",
   "execution_count": 34,
   "metadata": {},
   "outputs": [
    {
     "data": {
      "text/html": [
       "<div>\n",
       "<style scoped>\n",
       "    .dataframe tbody tr th:only-of-type {\n",
       "        vertical-align: middle;\n",
       "    }\n",
       "\n",
       "    .dataframe tbody tr th {\n",
       "        vertical-align: top;\n",
       "    }\n",
       "\n",
       "    .dataframe thead th {\n",
       "        text-align: right;\n",
       "    }\n",
       "</style>\n",
       "<table border=\"1\" class=\"dataframe\">\n",
       "  <thead>\n",
       "    <tr style=\"text-align: right;\">\n",
       "      <th></th>\n",
       "      <th>Album</th>\n",
       "      <th>Song Name</th>\n",
       "      <th>Lyrics</th>\n",
       "      <th>alcohol</th>\n",
       "      <th>alcoholic</th>\n",
       "      <th>bar</th>\n",
       "      <th>drink</th>\n",
       "      <th>drinkin</th>\n",
       "      <th>drinking</th>\n",
       "      <th>drunk</th>\n",
       "      <th>...</th>\n",
       "      <th>smoking</th>\n",
       "      <th>smokin</th>\n",
       "      <th>smoked</th>\n",
       "      <th>stoned</th>\n",
       "      <th>overdose</th>\n",
       "      <th>narcotics</th>\n",
       "      <th>heroin</th>\n",
       "      <th>dopamine</th>\n",
       "      <th>pills</th>\n",
       "      <th>doin lines</th>\n",
       "    </tr>\n",
       "  </thead>\n",
       "  <tbody>\n",
       "    <tr>\n",
       "      <th>0</th>\n",
       "      <td>Taylor Swift</td>\n",
       "      <td>A Perfectly Good Heart</td>\n",
       "      <td>why would you wanna break a perfectly good hea...</td>\n",
       "      <td>0</td>\n",
       "      <td>0</td>\n",
       "      <td>0</td>\n",
       "      <td>0</td>\n",
       "      <td>0</td>\n",
       "      <td>0</td>\n",
       "      <td>0</td>\n",
       "      <td>...</td>\n",
       "      <td>0</td>\n",
       "      <td>0</td>\n",
       "      <td>0</td>\n",
       "      <td>0</td>\n",
       "      <td>0</td>\n",
       "      <td>0</td>\n",
       "      <td>0</td>\n",
       "      <td>0</td>\n",
       "      <td>0</td>\n",
       "      <td>0</td>\n",
       "    </tr>\n",
       "    <tr>\n",
       "      <th>1</th>\n",
       "      <td>Taylor Swift</td>\n",
       "      <td>A Place In This World</td>\n",
       "      <td>i dont know what i want so dont ask me cause i...</td>\n",
       "      <td>0</td>\n",
       "      <td>0</td>\n",
       "      <td>0</td>\n",
       "      <td>0</td>\n",
       "      <td>0</td>\n",
       "      <td>0</td>\n",
       "      <td>0</td>\n",
       "      <td>...</td>\n",
       "      <td>0</td>\n",
       "      <td>0</td>\n",
       "      <td>0</td>\n",
       "      <td>0</td>\n",
       "      <td>0</td>\n",
       "      <td>0</td>\n",
       "      <td>0</td>\n",
       "      <td>0</td>\n",
       "      <td>0</td>\n",
       "      <td>0</td>\n",
       "    </tr>\n",
       "  </tbody>\n",
       "</table>\n",
       "<p>2 rows × 37 columns</p>\n",
       "</div>"
      ],
      "text/plain": [
       "          Album                 Song Name  \\\n",
       "0  Taylor Swift    A Perfectly Good Heart   \n",
       "1  Taylor Swift     A Place In This World   \n",
       "\n",
       "                                              Lyrics   alcohol    alcoholic   \\\n",
       "0  why would you wanna break a perfectly good hea...          0            0   \n",
       "1  i dont know what i want so dont ask me cause i...          0            0   \n",
       "\n",
       "    bar    drink    drinkin    drinking    drunk   ...   smoking    smokin   \\\n",
       "0      0        0          0           0        0  ...          0         0   \n",
       "1      0        0          0           0        0  ...          0         0   \n",
       "\n",
       "    smoked    stoned    overdose    narcotics    heroin    dopamine    pills   \\\n",
       "0         0         0           0            0         0           0        0   \n",
       "1         0         0           0            0         0           0        0   \n",
       "\n",
       "    doin lines   \n",
       "0             0  \n",
       "1             0  \n",
       "\n",
       "[2 rows x 37 columns]"
      ]
     },
     "execution_count": 34,
     "metadata": {},
     "output_type": "execute_result"
    }
   ],
   "source": [
    "# create new dataframe for understanding drug references\n",
    "df_drugs = df[['Album', 'Song Name', 'Lyrics']].copy()\n",
    "\n",
    "# create list of drug references\n",
    "drug_list = [' alcohol ', ' alcoholic ', ' bar ', ' drink ', ' drinkin ', ' drinking ', ' drunk ',\n",
    "            ' sober ', ' beer ', ' beers ', ' wine ', ' rosé ', ' merlot ', ' champagne ', ' dom pérignon ',\n",
    "            ' liquor ', ' whiskey ', ' old fashioned ', ' patrón ', ' island breeze ', \n",
    "            ' drug ', ' drugs ', ' weed ', ' smoke ', ' smoking ', ' smokin ', ' smoked ', ' stoned ',\n",
    "            ' overdose ', ' narcotics ', ' heroin ', ' dopamine ', ' pills ', ' doin lines ']\n",
    "\n",
    "# function to count drug references by song\n",
    "def find_drug_words(word: str, pattern: str) -> int:\n",
    "    return len(re.findall(pattern, word.lower()))\n",
    "\n",
    "# loop through each string in drug_list\n",
    "# apply find_drug_words function\n",
    "for col in drug_list:\n",
    "    df_drugs[col] = df_drugs['Lyrics'].apply(find_drug_words, pattern=col)\n",
    "\n",
    "df_drugs.head(2)"
   ]
  },
  {
   "cell_type": "code",
   "execution_count": 35,
   "metadata": {},
   "outputs": [
    {
     "data": {
      "text/html": [
       "<div>\n",
       "<style scoped>\n",
       "    .dataframe tbody tr th:only-of-type {\n",
       "        vertical-align: middle;\n",
       "    }\n",
       "\n",
       "    .dataframe tbody tr th {\n",
       "        vertical-align: top;\n",
       "    }\n",
       "\n",
       "    .dataframe thead th {\n",
       "        text-align: right;\n",
       "    }\n",
       "</style>\n",
       "<table border=\"1\" class=\"dataframe\">\n",
       "  <thead>\n",
       "    <tr style=\"text-align: right;\">\n",
       "      <th></th>\n",
       "      <th>alcohol</th>\n",
       "      <th>bar</th>\n",
       "      <th>drink</th>\n",
       "      <th>sober</th>\n",
       "      <th>beer</th>\n",
       "      <th>wine</th>\n",
       "      <th>champagne</th>\n",
       "      <th>liquor</th>\n",
       "      <th>mixed drinks</th>\n",
       "      <th>drug</th>\n",
       "      <th>weed</th>\n",
       "      <th>smoke</th>\n",
       "      <th>stoned</th>\n",
       "      <th>overdose</th>\n",
       "      <th>narcotics</th>\n",
       "      <th>heroin</th>\n",
       "      <th>dopamine</th>\n",
       "      <th>pills</th>\n",
       "      <th>doin lines</th>\n",
       "    </tr>\n",
       "    <tr>\n",
       "      <th>Album</th>\n",
       "      <th></th>\n",
       "      <th></th>\n",
       "      <th></th>\n",
       "      <th></th>\n",
       "      <th></th>\n",
       "      <th></th>\n",
       "      <th></th>\n",
       "      <th></th>\n",
       "      <th></th>\n",
       "      <th></th>\n",
       "      <th></th>\n",
       "      <th></th>\n",
       "      <th></th>\n",
       "      <th></th>\n",
       "      <th></th>\n",
       "      <th></th>\n",
       "      <th></th>\n",
       "      <th></th>\n",
       "      <th></th>\n",
       "    </tr>\n",
       "  </thead>\n",
       "  <tbody>\n",
       "    <tr>\n",
       "      <th>1989 Deluxe</th>\n",
       "      <td>0</td>\n",
       "      <td>0</td>\n",
       "      <td>1</td>\n",
       "      <td>1</td>\n",
       "      <td>0</td>\n",
       "      <td>1</td>\n",
       "      <td>0</td>\n",
       "      <td>0</td>\n",
       "      <td>0</td>\n",
       "      <td>0</td>\n",
       "      <td>0</td>\n",
       "      <td>0</td>\n",
       "      <td>0</td>\n",
       "      <td>0</td>\n",
       "      <td>0</td>\n",
       "      <td>0</td>\n",
       "      <td>0</td>\n",
       "      <td>0</td>\n",
       "      <td>0</td>\n",
       "    </tr>\n",
       "    <tr>\n",
       "      <th>1989 Taylors Version</th>\n",
       "      <td>0</td>\n",
       "      <td>0</td>\n",
       "      <td>6</td>\n",
       "      <td>0</td>\n",
       "      <td>0</td>\n",
       "      <td>0</td>\n",
       "      <td>0</td>\n",
       "      <td>0</td>\n",
       "      <td>0</td>\n",
       "      <td>0</td>\n",
       "      <td>0</td>\n",
       "      <td>1</td>\n",
       "      <td>0</td>\n",
       "      <td>0</td>\n",
       "      <td>0</td>\n",
       "      <td>0</td>\n",
       "      <td>0</td>\n",
       "      <td>0</td>\n",
       "      <td>0</td>\n",
       "    </tr>\n",
       "  </tbody>\n",
       "</table>\n",
       "</div>"
      ],
      "text/plain": [
       "                      alcohol  bar  drink  sober  beer  wine  champagne  \\\n",
       "Album                                                                     \n",
       "1989 Deluxe                 0    0      1      1     0     1          0   \n",
       "1989 Taylors Version        0    0      6      0     0     0          0   \n",
       "\n",
       "                      liquor  mixed drinks  drug  weed  smoke  stoned  \\\n",
       "Album                                                                   \n",
       "1989 Deluxe                0             0     0     0      0       0   \n",
       "1989 Taylors Version       0             0     0     0      1       0   \n",
       "\n",
       "                      overdose  narcotics  heroin  dopamine  pills  doin lines  \n",
       "Album                                                                           \n",
       "1989 Deluxe                  0          0       0         0      0           0  \n",
       "1989 Taylors Version         0          0       0         0      0           0  "
      ]
     },
     "execution_count": 35,
     "metadata": {},
     "output_type": "execute_result"
    }
   ],
   "source": [
    "# create new reduced dataframe\n",
    "df_drug_reduced = df_drugs[['Album', ' alcohol ', ' alcoholic ', ' bar ', ' drink ', ' drinkin ', ' drinking ',\n",
    "                            ' drunk ', ' sober ', ' beer ', ' beers ', ' wine ', ' rosé ', ' merlot ', ' champagne ', ' dom pérignon ',\n",
    "                            ' liquor ', ' whiskey ', ' old fashioned ', ' patrón ', ' island breeze ', \n",
    "                            ' drug ', ' drugs ', ' weed ', ' smoke ', ' smoking ', ' smokin ', ' smoked ', ' stoned ',\n",
    "                            ' overdose ', ' narcotics ', ' heroin ', ' dopamine ', ' pills ', ' doin lines ']].copy()\n",
    "\n",
    "# remove spaces and combine similar swear words\n",
    "df_drug_reduced['alcohol'] = df_drug_reduced[[' alcohol ', ' alcoholic ']].sum(axis=1)\n",
    "df_drug_reduced['bar'] = df_drug_reduced[[' bar ']]\n",
    "df_drug_reduced['drink'] = df_drug_reduced[[' drink ', ' drinkin ', ' drinking ', ' drunk ']].sum(axis=1)\n",
    "df_drug_reduced['sober'] = df_drug_reduced[[' sober ']]\n",
    "df_drug_reduced['beer'] = df_drug_reduced[[' beer ', ' beers ']].sum(axis=1)\n",
    "df_drug_reduced['wine'] = df_drug_reduced[[' wine ', ' rosé ', ' merlot ']].sum(axis=1)\n",
    "df_drug_reduced['champagne'] = df_drug_reduced[[' champagne ', ' dom pérignon ']].sum(axis=1)\n",
    "df_drug_reduced['liquor'] = df_drug_reduced[[' liquor ', ' whiskey ', ' patrón ']].sum(axis=1)\n",
    "df_drug_reduced['mixed drinks'] = df_drug_reduced[[' old fashioned ', ' island breeze ']].sum(axis=1)\n",
    "df_drug_reduced['drug'] = df_drug_reduced[[' drug ', ' drugs ']].sum(axis=1)\n",
    "df_drug_reduced['weed'] = df_drug_reduced[[' weed ']]\n",
    "df_drug_reduced['smoke'] = df_drug_reduced[[' smoke ', ' smoking ', ' smokin ', ' smoked ']].sum(axis=1)\n",
    "df_drug_reduced['stoned'] = df_drug_reduced[[' stoned ']]\n",
    "df_drug_reduced['overdose'] = df_drug_reduced[[' overdose ']]\n",
    "df_drug_reduced['narcotics'] = df_drug_reduced[[' narcotics ']]\n",
    "df_drug_reduced['heroin'] = df_drug_reduced[[' heroin ']]\n",
    "df_drug_reduced['dopamine'] = df_drug_reduced[[' dopamine ']]\n",
    "df_drug_reduced['pills'] = df_drug_reduced[[' pills ']]\n",
    "df_drug_reduced['doin lines'] = df_drug_reduced[[' doin lines ']]\n",
    "\n",
    "# drop now-unnecessary columns\n",
    "df_drug_reduced = df_drug_reduced.drop([' alcohol ', ' alcoholic ', ' bar ', ' drink ', ' drinkin ', ' drinking ', ' drunk ',\n",
    "                                        ' sober ', ' beer ', ' beers ', ' wine ', ' rosé ', ' merlot ', ' champagne ', ' dom pérignon ',\n",
    "                                        ' liquor ', ' whiskey ', ' old fashioned ', ' patrón ', ' island breeze ', \n",
    "                                        ' drug ', ' drugs ', ' weed ', ' smoke ', ' smoking ', ' smokin ', ' smoked ', ' stoned ',\n",
    "                                        ' overdose ', ' narcotics ', ' heroin ', ' dopamine ', ' pills ', ' doin lines '\n",
    "                                        ], axis=1)\n",
    "\n",
    "# combine album rows\n",
    "df_drug_reduced = df_drug_reduced.groupby('Album').sum()\n",
    "\n",
    "df_drug_reduced.head(2)"
   ]
  },
  {
   "cell_type": "markdown",
   "metadata": {},
   "source": [
    "#### Drugs & Alcohol - Bar Charts"
   ]
  },
  {
   "cell_type": "code",
   "execution_count": 36,
   "metadata": {},
   "outputs": [
    {
     "data": {
      "image/png": "[encoded data removed]",
      "text/plain": [
       "<Figure size 1600x1200 with 1 Axes>"
      ]
     },
     "metadata": {},
     "output_type": "display_data"
    }
   ],
   "source": [
    "# number of drug references by album color-coded by word\n",
    "\n",
    "# define data\n",
    "plotdata = df_drug_reduced[['alcohol', 'bar', 'drink', 'sober', 'beer', 'wine', 'champagne', 'liquor', 'mixed drinks', 'drug', 'weed',\n",
    "                            'smoke', 'stoned', 'overdose', 'narcotics', 'heroin', 'dopamine', 'pills', 'doin lines']]\n",
    "\n",
    "# plot stacked bar chart\n",
    "plotdata.plot(kind='bar', stacked=True, figsize=(16, 12))\n",
    "plt.legend(bbox_to_anchor=(1.05, 1), loc='upper left', ncol=1, title='Reference')\n",
    "plt.subplots_adjust(right=0.7)\n",
    "plt.title('Drug & Alcohol References by Album', fontsize=16)\n",
    "plt.xlabel('Album', fontsize=12)\n",
    "plt.ylabel('No. of Words', fontsize=12)\n",
    "\n",
    "plt.show()"
   ]
  },
  {
   "cell_type": "code",
   "execution_count": 37,
   "metadata": {},
   "outputs": [
    {
     "data": {
      "application/vnd.plotly.v1+json": {
       "config": {
        "plotlyServerURL": "https://plot.ly"
       },
       "data": [
        {
         "alignmentgroup": "True",
         "hovertemplate": "Reference=alcohol<br>Album=%{x}<br>No. of Words=%{y}<extra></extra>",
         "legendgroup": "alcohol",
         "marker": {
          "color": "#636efa",
          "pattern": {
           "shape": ""
          }
         },
         "name": "alcohol",
         "offsetgroup": "alcohol",
         "orientation": "v",
         "showlegend": true,
         "textposition": "auto",
         "type": "bar",
         "x": [
          "1989 Deluxe",
          "1989 Taylors Version",
          "Fearless Platinum Edition",
          "Fearless Taylors Version",
          "Lover",
          "Midnights The Til Dawn Edition",
          "Red Deluxe Edition",
          "Red Taylors Version",
          "Reputation",
          "Speak Now Deluxe Edition",
          "Speak Now Taylors Version",
          "Taylor Swift",
          "The Tortured Poets Department The Anthology",
          "evermore deluxe version",
          "folklore deluxe version"
         ],
         "xaxis": "x",
         "y": [
          0,
          0,
          0,
          0,
          0,
          0,
          0,
          0,
          0,
          0,
          0,
          0,
          1,
          0,
          0
         ],
         "yaxis": "y"
        },
        {
         "alignmentgroup": "True",
         "hovertemplate": "Reference=bar<br>Album=%{x}<br>No. of Words=%{y}<extra></extra>",
         "legendgroup": "bar",
         "marker": {
          "color": "#EF553B",
          "pattern": {
           "shape": ""
          }
         },
         "name": "bar",
         "offsetgroup": "bar",
         "orientation": "v",
         "showlegend": true,
         "textposition": "auto",
         "type": "bar",
         "x": [
          "1989 Deluxe",
          "1989 Taylors Version",
          "Fearless Platinum Edition",
          "Fearless Taylors Version",
          "Lover",
          "Midnights The Til Dawn Edition",
          "Red Deluxe Edition",
          "Red Taylors Version",
          "Reputation",
          "Speak Now Deluxe Edition",
          "Speak Now Taylors Version",
          "Taylor Swift",
          "The Tortured Poets Department The Anthology",
          "evermore deluxe version",
          "folklore deluxe version"
         ],
         "xaxis": "x",
         "y": [
          0,
          0,
          0,
          0,
          3,
          2,
          0,
          0,
          3,
          1,
          0,
          0,
          3,
          1,
          1
         ],
         "yaxis": "y"
        },
        {
         "alignmentgroup": "True",
         "hovertemplate": "Reference=drink<br>Album=%{x}<br>No. of Words=%{y}<extra></extra>",
         "legendgroup": "drink",
         "marker": {
          "color": "#00cc96",
          "pattern": {
           "shape": ""
          }
         },
         "name": "drink",
         "offsetgroup": "drink",
         "orientation": "v",
         "showlegend": true,
         "textposition": "auto",
         "type": "bar",
         "x": [
          "1989 Deluxe",
          "1989 Taylors Version",
          "Fearless Platinum Edition",
          "Fearless Taylors Version",
          "Lover",
          "Midnights The Til Dawn Edition",
          "Red Deluxe Edition",
          "Red Taylors Version",
          "Reputation",
          "Speak Now Deluxe Edition",
          "Speak Now Taylors Version",
          "Taylor Swift",
          "The Tortured Poets Department The Anthology",
          "evermore deluxe version",
          "folklore deluxe version"
         ],
         "xaxis": "x",
         "y": [
          1,
          6,
          0,
          0,
          7,
          3,
          0,
          3,
          9,
          1,
          0,
          0,
          5,
          1,
          3
         ],
         "yaxis": "y"
        },
        {
         "alignmentgroup": "True",
         "hovertemplate": "Reference=sober<br>Album=%{x}<br>No. of Words=%{y}<extra></extra>",
         "legendgroup": "sober",
         "marker": {
          "color": "#ab63fa",
          "pattern": {
           "shape": ""
          }
         },
         "name": "sober",
         "offsetgroup": "sober",
         "orientation": "v",
         "showlegend": true,
         "textposition": "auto",
         "type": "bar",
         "x": [
          "1989 Deluxe",
          "1989 Taylors Version",
          "Fearless Platinum Edition",
          "Fearless Taylors Version",
          "Lover",
          "Midnights The Til Dawn Edition",
          "Red Deluxe Edition",
          "Red Taylors Version",
          "Reputation",
          "Speak Now Deluxe Edition",
          "Speak Now Taylors Version",
          "Taylor Swift",
          "The Tortured Poets Department The Anthology",
          "evermore deluxe version",
          "folklore deluxe version"
         ],
         "xaxis": "x",
         "y": [
          1,
          0,
          0,
          0,
          0,
          0,
          0,
          0,
          0,
          0,
          0,
          0,
          0,
          0,
          0
         ],
         "yaxis": "y"
        },
        {
         "alignmentgroup": "True",
         "hovertemplate": "Reference=beer<br>Album=%{x}<br>No. of Words=%{y}<extra></extra>",
         "legendgroup": "beer",
         "marker": {
          "color": "#FFA15A",
          "pattern": {
           "shape": ""
          }
         },
         "name": "beer",
         "offsetgroup": "beer",
         "orientation": "v",
         "showlegend": true,
         "textposition": "auto",
         "type": "bar",
         "x": [
          "1989 Deluxe",
          "1989 Taylors Version",
          "Fearless Platinum Edition",
          "Fearless Taylors Version",
          "Lover",
          "Midnights The Til Dawn Edition",
          "Red Deluxe Edition",
          "Red Taylors Version",
          "Reputation",
          "Speak Now Deluxe Edition",
          "Speak Now Taylors Version",
          "Taylor Swift",
          "The Tortured Poets Department The Anthology",
          "evermore deluxe version",
          "folklore deluxe version"
         ],
         "xaxis": "x",
         "y": [
          0,
          0,
          0,
          0,
          0,
          0,
          0,
          0,
          1,
          0,
          0,
          0,
          1,
          1,
          0
         ],
         "yaxis": "y"
        },
        {
         "alignmentgroup": "True",
         "hovertemplate": "Reference=wine<br>Album=%{x}<br>No. of Words=%{y}<extra></extra>",
         "legendgroup": "wine",
         "marker": {
          "color": "#19d3f3",
          "pattern": {
           "shape": ""
          }
         },
         "name": "wine",
         "offsetgroup": "wine",
         "orientation": "v",
         "showlegend": true,
         "textposition": "auto",
         "type": "bar",
         "x": [
          "1989 Deluxe",
          "1989 Taylors Version",
          "Fearless Platinum Edition",
          "Fearless Taylors Version",
          "Lover",
          "Midnights The Til Dawn Edition",
          "Red Deluxe Edition",
          "Red Taylors Version",
          "Reputation",
          "Speak Now Deluxe Edition",
          "Speak Now Taylors Version",
          "Taylor Swift",
          "The Tortured Poets Department The Anthology",
          "evermore deluxe version",
          "folklore deluxe version"
         ],
         "xaxis": "x",
         "y": [
          1,
          0,
          0,
          0,
          3,
          6,
          0,
          0,
          1,
          0,
          0,
          0,
          4,
          4,
          4
         ],
         "yaxis": "y"
        },
        {
         "alignmentgroup": "True",
         "hovertemplate": "Reference=champagne<br>Album=%{x}<br>No. of Words=%{y}<extra></extra>",
         "legendgroup": "champagne",
         "marker": {
          "color": "#FF6692",
          "pattern": {
           "shape": ""
          }
         },
         "name": "champagne",
         "offsetgroup": "champagne",
         "orientation": "v",
         "showlegend": true,
         "textposition": "auto",
         "type": "bar",
         "x": [
          "1989 Deluxe",
          "1989 Taylors Version",
          "Fearless Platinum Edition",
          "Fearless Taylors Version",
          "Lover",
          "Midnights The Til Dawn Edition",
          "Red Deluxe Edition",
          "Red Taylors Version",
          "Reputation",
          "Speak Now Deluxe Edition",
          "Speak Now Taylors Version",
          "Taylor Swift",
          "The Tortured Poets Department The Anthology",
          "evermore deluxe version",
          "folklore deluxe version"
         ],
         "xaxis": "x",
         "y": [
          0,
          0,
          0,
          0,
          0,
          3,
          0,
          0,
          1,
          0,
          0,
          0,
          0,
          8,
          1
         ],
         "yaxis": "y"
        },
        {
         "alignmentgroup": "True",
         "hovertemplate": "Reference=liquor<br>Album=%{x}<br>No. of Words=%{y}<extra></extra>",
         "legendgroup": "liquor",
         "marker": {
          "color": "#B6E880",
          "pattern": {
           "shape": ""
          }
         },
         "name": "liquor",
         "offsetgroup": "liquor",
         "orientation": "v",
         "showlegend": true,
         "textposition": "auto",
         "type": "bar",
         "x": [
          "1989 Deluxe",
          "1989 Taylors Version",
          "Fearless Platinum Edition",
          "Fearless Taylors Version",
          "Lover",
          "Midnights The Til Dawn Edition",
          "Red Deluxe Edition",
          "Red Taylors Version",
          "Reputation",
          "Speak Now Deluxe Edition",
          "Speak Now Taylors Version",
          "Taylor Swift",
          "The Tortured Poets Department The Anthology",
          "evermore deluxe version",
          "folklore deluxe version"
         ],
         "xaxis": "x",
         "y": [
          0,
          0,
          0,
          0,
          2,
          1,
          0,
          0,
          1,
          0,
          0,
          0,
          2,
          0,
          1
         ],
         "yaxis": "y"
        },
        {
         "alignmentgroup": "True",
         "hovertemplate": "Reference=mixed drinks<br>Album=%{x}<br>No. of Words=%{y}<extra></extra>",
         "legendgroup": "mixed drinks",
         "marker": {
          "color": "#FF97FF",
          "pattern": {
           "shape": ""
          }
         },
         "name": "mixed drinks",
         "offsetgroup": "mixed drinks",
         "orientation": "v",
         "showlegend": true,
         "textposition": "auto",
         "type": "bar",
         "x": [
          "1989 Deluxe",
          "1989 Taylors Version",
          "Fearless Platinum Edition",
          "Fearless Taylors Version",
          "Lover",
          "Midnights The Til Dawn Edition",
          "Red Deluxe Edition",
          "Red Taylors Version",
          "Reputation",
          "Speak Now Deluxe Edition",
          "Speak Now Taylors Version",
          "Taylor Swift",
          "The Tortured Poets Department The Anthology",
          "evermore deluxe version",
          "folklore deluxe version"
         ],
         "xaxis": "x",
         "y": [
          0,
          0,
          0,
          0,
          0,
          0,
          0,
          0,
          5,
          0,
          0,
          0,
          0,
          0,
          0
         ],
         "yaxis": "y"
        },
        {
         "alignmentgroup": "True",
         "hovertemplate": "Reference=drug<br>Album=%{x}<br>No. of Words=%{y}<extra></extra>",
         "legendgroup": "drug",
         "marker": {
          "color": "#FECB52",
          "pattern": {
           "shape": ""
          }
         },
         "name": "drug",
         "offsetgroup": "drug",
         "orientation": "v",
         "showlegend": true,
         "textposition": "auto",
         "type": "bar",
         "x": [
          "1989 Deluxe",
          "1989 Taylors Version",
          "Fearless Platinum Edition",
          "Fearless Taylors Version",
          "Lover",
          "Midnights The Til Dawn Edition",
          "Red Deluxe Edition",
          "Red Taylors Version",
          "Reputation",
          "Speak Now Deluxe Edition",
          "Speak Now Taylors Version",
          "Taylor Swift",
          "The Tortured Poets Department The Anthology",
          "evermore deluxe version",
          "folklore deluxe version"
         ],
         "xaxis": "x",
         "y": [
          0,
          0,
          0,
          0,
          1,
          0,
          0,
          0,
          9,
          0,
          0,
          0,
          8,
          0,
          1
         ],
         "yaxis": "y"
        },
        {
         "alignmentgroup": "True",
         "hovertemplate": "Reference=weed<br>Album=%{x}<br>No. of Words=%{y}<extra></extra>",
         "legendgroup": "weed",
         "marker": {
          "color": "#636efa",
          "pattern": {
           "shape": ""
          }
         },
         "name": "weed",
         "offsetgroup": "weed",
         "orientation": "v",
         "showlegend": true,
         "textposition": "auto",
         "type": "bar",
         "x": [
          "1989 Deluxe",
          "1989 Taylors Version",
          "Fearless Platinum Edition",
          "Fearless Taylors Version",
          "Lover",
          "Midnights The Til Dawn Edition",
          "Red Deluxe Edition",
          "Red Taylors Version",
          "Reputation",
          "Speak Now Deluxe Edition",
          "Speak Now Taylors Version",
          "Taylor Swift",
          "The Tortured Poets Department The Anthology",
          "evermore deluxe version",
          "folklore deluxe version"
         ],
         "xaxis": "x",
         "y": [
          0,
          0,
          0,
          0,
          0,
          0,
          0,
          0,
          0,
          0,
          0,
          0,
          1,
          0,
          0
         ],
         "yaxis": "y"
        },
        {
         "alignmentgroup": "True",
         "hovertemplate": "Reference=smoke<br>Album=%{x}<br>No. of Words=%{y}<extra></extra>",
         "legendgroup": "smoke",
         "marker": {
          "color": "#EF553B",
          "pattern": {
           "shape": ""
          }
         },
         "name": "smoke",
         "offsetgroup": "smoke",
         "orientation": "v",
         "showlegend": true,
         "textposition": "auto",
         "type": "bar",
         "x": [
          "1989 Deluxe",
          "1989 Taylors Version",
          "Fearless Platinum Edition",
          "Fearless Taylors Version",
          "Lover",
          "Midnights The Til Dawn Edition",
          "Red Deluxe Edition",
          "Red Taylors Version",
          "Reputation",
          "Speak Now Deluxe Edition",
          "Speak Now Taylors Version",
          "Taylor Swift",
          "The Tortured Poets Department The Anthology",
          "evermore deluxe version",
          "folklore deluxe version"
         ],
         "xaxis": "x",
         "y": [
          0,
          1,
          0,
          0,
          2,
          1,
          0,
          0,
          0,
          0,
          1,
          0,
          6,
          0,
          2
         ],
         "yaxis": "y"
        },
        {
         "alignmentgroup": "True",
         "hovertemplate": "Reference=stoned<br>Album=%{x}<br>No. of Words=%{y}<extra></extra>",
         "legendgroup": "stoned",
         "marker": {
          "color": "#00cc96",
          "pattern": {
           "shape": ""
          }
         },
         "name": "stoned",
         "offsetgroup": "stoned",
         "orientation": "v",
         "showlegend": true,
         "textposition": "auto",
         "type": "bar",
         "x": [
          "1989 Deluxe",
          "1989 Taylors Version",
          "Fearless Platinum Edition",
          "Fearless Taylors Version",
          "Lover",
          "Midnights The Til Dawn Edition",
          "Red Deluxe Edition",
          "Red Taylors Version",
          "Reputation",
          "Speak Now Deluxe Edition",
          "Speak Now Taylors Version",
          "Taylor Swift",
          "The Tortured Poets Department The Anthology",
          "evermore deluxe version",
          "folklore deluxe version"
         ],
         "xaxis": "x",
         "y": [
          0,
          0,
          0,
          0,
          0,
          0,
          0,
          0,
          0,
          0,
          0,
          0,
          1,
          0,
          0
         ],
         "yaxis": "y"
        },
        {
         "alignmentgroup": "True",
         "hovertemplate": "Reference=overdose<br>Album=%{x}<br>No. of Words=%{y}<extra></extra>",
         "legendgroup": "overdose",
         "marker": {
          "color": "#ab63fa",
          "pattern": {
           "shape": ""
          }
         },
         "name": "overdose",
         "offsetgroup": "overdose",
         "orientation": "v",
         "showlegend": true,
         "textposition": "auto",
         "type": "bar",
         "x": [
          "1989 Deluxe",
          "1989 Taylors Version",
          "Fearless Platinum Edition",
          "Fearless Taylors Version",
          "Lover",
          "Midnights The Til Dawn Edition",
          "Red Deluxe Edition",
          "Red Taylors Version",
          "Reputation",
          "Speak Now Deluxe Edition",
          "Speak Now Taylors Version",
          "Taylor Swift",
          "The Tortured Poets Department The Anthology",
          "evermore deluxe version",
          "folklore deluxe version"
         ],
         "xaxis": "x",
         "y": [
          0,
          0,
          0,
          0,
          0,
          0,
          0,
          0,
          1,
          0,
          0,
          0,
          0,
          0,
          0
         ],
         "yaxis": "y"
        },
        {
         "alignmentgroup": "True",
         "hovertemplate": "Reference=narcotics<br>Album=%{x}<br>No. of Words=%{y}<extra></extra>",
         "legendgroup": "narcotics",
         "marker": {
          "color": "#FFA15A",
          "pattern": {
           "shape": ""
          }
         },
         "name": "narcotics",
         "offsetgroup": "narcotics",
         "orientation": "v",
         "showlegend": true,
         "textposition": "auto",
         "type": "bar",
         "x": [
          "1989 Deluxe",
          "1989 Taylors Version",
          "Fearless Platinum Edition",
          "Fearless Taylors Version",
          "Lover",
          "Midnights The Til Dawn Edition",
          "Red Deluxe Edition",
          "Red Taylors Version",
          "Reputation",
          "Speak Now Deluxe Edition",
          "Speak Now Taylors Version",
          "Taylor Swift",
          "The Tortured Poets Department The Anthology",
          "evermore deluxe version",
          "folklore deluxe version"
         ],
         "xaxis": "x",
         "y": [
          0,
          0,
          0,
          0,
          0,
          0,
          0,
          0,
          0,
          0,
          0,
          0,
          1,
          0,
          0
         ],
         "yaxis": "y"
        },
        {
         "alignmentgroup": "True",
         "hovertemplate": "Reference=heroin<br>Album=%{x}<br>No. of Words=%{y}<extra></extra>",
         "legendgroup": "heroin",
         "marker": {
          "color": "#19d3f3",
          "pattern": {
           "shape": ""
          }
         },
         "name": "heroin",
         "offsetgroup": "heroin",
         "orientation": "v",
         "showlegend": true,
         "textposition": "auto",
         "type": "bar",
         "x": [
          "1989 Deluxe",
          "1989 Taylors Version",
          "Fearless Platinum Edition",
          "Fearless Taylors Version",
          "Lover",
          "Midnights The Til Dawn Edition",
          "Red Deluxe Edition",
          "Red Taylors Version",
          "Reputation",
          "Speak Now Deluxe Edition",
          "Speak Now Taylors Version",
          "Taylor Swift",
          "The Tortured Poets Department The Anthology",
          "evermore deluxe version",
          "folklore deluxe version"
         ],
         "xaxis": "x",
         "y": [
          0,
          0,
          0,
          0,
          0,
          0,
          0,
          0,
          0,
          0,
          0,
          0,
          2,
          0,
          0
         ],
         "yaxis": "y"
        },
        {
         "alignmentgroup": "True",
         "hovertemplate": "Reference=dopamine<br>Album=%{x}<br>No. of Words=%{y}<extra></extra>",
         "legendgroup": "dopamine",
         "marker": {
          "color": "#FF6692",
          "pattern": {
           "shape": ""
          }
         },
         "name": "dopamine",
         "offsetgroup": "dopamine",
         "orientation": "v",
         "showlegend": true,
         "textposition": "auto",
         "type": "bar",
         "x": [
          "1989 Deluxe",
          "1989 Taylors Version",
          "Fearless Platinum Edition",
          "Fearless Taylors Version",
          "Lover",
          "Midnights The Til Dawn Edition",
          "Red Deluxe Edition",
          "Red Taylors Version",
          "Reputation",
          "Speak Now Deluxe Edition",
          "Speak Now Taylors Version",
          "Taylor Swift",
          "The Tortured Poets Department The Anthology",
          "evermore deluxe version",
          "folklore deluxe version"
         ],
         "xaxis": "x",
         "y": [
          0,
          0,
          0,
          0,
          0,
          0,
          0,
          0,
          0,
          0,
          0,
          0,
          1,
          0,
          0
         ],
         "yaxis": "y"
        },
        {
         "alignmentgroup": "True",
         "hovertemplate": "Reference=pills<br>Album=%{x}<br>No. of Words=%{y}<extra></extra>",
         "legendgroup": "pills",
         "marker": {
          "color": "#B6E880",
          "pattern": {
           "shape": ""
          }
         },
         "name": "pills",
         "offsetgroup": "pills",
         "orientation": "v",
         "showlegend": true,
         "textposition": "auto",
         "type": "bar",
         "x": [
          "1989 Deluxe",
          "1989 Taylors Version",
          "Fearless Platinum Edition",
          "Fearless Taylors Version",
          "Lover",
          "Midnights The Til Dawn Edition",
          "Red Deluxe Edition",
          "Red Taylors Version",
          "Reputation",
          "Speak Now Deluxe Edition",
          "Speak Now Taylors Version",
          "Taylor Swift",
          "The Tortured Poets Department The Anthology",
          "evermore deluxe version",
          "folklore deluxe version"
         ],
         "xaxis": "x",
         "y": [
          0,
          0,
          0,
          0,
          0,
          0,
          0,
          0,
          0,
          0,
          0,
          0,
          1,
          0,
          0
         ],
         "yaxis": "y"
        },
        {
         "alignmentgroup": "True",
         "hovertemplate": "Reference=doin lines<br>Album=%{x}<br>No. of Words=%{y}<extra></extra>",
         "legendgroup": "doin lines",
         "marker": {
          "color": "#FF97FF",
          "pattern": {
           "shape": ""
          }
         },
         "name": "doin lines",
         "offsetgroup": "doin lines",
         "orientation": "v",
         "showlegend": true,
         "textposition": "auto",
         "type": "bar",
         "x": [
          "1989 Deluxe",
          "1989 Taylors Version",
          "Fearless Platinum Edition",
          "Fearless Taylors Version",
          "Lover",
          "Midnights The Til Dawn Edition",
          "Red Deluxe Edition",
          "Red Taylors Version",
          "Reputation",
          "Speak Now Deluxe Edition",
          "Speak Now Taylors Version",
          "Taylor Swift",
          "The Tortured Poets Department The Anthology",
          "evermore deluxe version",
          "folklore deluxe version"
         ],
         "xaxis": "x",
         "y": [
          0,
          0,
          0,
          0,
          0,
          1,
          0,
          0,
          0,
          0,
          0,
          0,
          0,
          0,
          0
         ],
         "yaxis": "y"
        }
       ],
       "layout": {
        "barmode": "relative",
        "legend": {
         "title": {
          "text": "Reference"
         },
         "tracegroupgap": 0
        },
        "template": {
         "data": {
          "bar": [
           {
            "error_x": {
             "color": "#2a3f5f"
            },
            "error_y": {
             "color": "#2a3f5f"
            },
            "marker": {
             "line": {
              "color": "#E5ECF6",
              "width": 0.5
             },
             "pattern": {
              "fillmode": "overlay",
              "size": 10,
              "solidity": 0.2
             }
            },
            "type": "bar"
           }
          ],
          "barpolar": [
           {
            "marker": {
             "line": {
              "color": "#E5ECF6",
              "width": 0.5
             },
             "pattern": {
              "fillmode": "overlay",
              "size": 10,
              "solidity": 0.2
             }
            },
            "type": "barpolar"
           }
          ],
          "carpet": [
           {
            "aaxis": {
             "endlinecolor": "#2a3f5f",
             "gridcolor": "white",
             "linecolor": "white",
             "minorgridcolor": "white",
             "startlinecolor": "#2a3f5f"
            },
            "baxis": {
             "endlinecolor": "#2a3f5f",
             "gridcolor": "white",
             "linecolor": "white",
             "minorgridcolor": "white",
             "startlinecolor": "#2a3f5f"
            },
            "type": "carpet"
           }
          ],
          "choropleth": [
           {
            "colorbar": {
             "outlinewidth": 0,
             "ticks": ""
            },
            "type": "choropleth"
           }
          ],
          "contour": [
           {
            "colorbar": {
             "outlinewidth": 0,
             "ticks": ""
            },
            "colorscale": [
             [
              0,
              "#0d0887"
             ],
             [
              0.1111111111111111,
              "#46039f"
             ],
             [
              0.2222222222222222,
              "#7201a8"
             ],
             [
              0.3333333333333333,
              "#9c179e"
             ],
             [
              0.4444444444444444,
              "#bd3786"
             ],
             [
              0.5555555555555556,
              "#d8576b"
             ],
             [
              0.6666666666666666,
              "#ed7953"
             ],
             [
              0.7777777777777778,
              "#fb9f3a"
             ],
             [
              0.8888888888888888,
              "#fdca26"
             ],
             [
              1,
              "#f0f921"
             ]
            ],
            "type": "contour"
           }
          ],
          "contourcarpet": [
           {
            "colorbar": {
             "outlinewidth": 0,
             "ticks": ""
            },
            "type": "contourcarpet"
           }
          ],
          "heatmap": [
           {
            "colorbar": {
             "outlinewidth": 0,
             "ticks": ""
            },
            "colorscale": [
             [
              0,
              "#0d0887"
             ],
             [
              0.1111111111111111,
              "#46039f"
             ],
             [
              0.2222222222222222,
              "#7201a8"
             ],
             [
              0.3333333333333333,
              "#9c179e"
             ],
             [
              0.4444444444444444,
              "#bd3786"
             ],
             [
              0.5555555555555556,
              "#d8576b"
             ],
             [
              0.6666666666666666,
              "#ed7953"
             ],
             [
              0.7777777777777778,
              "#fb9f3a"
             ],
             [
              0.8888888888888888,
              "#fdca26"
             ],
             [
              1,
              "#f0f921"
             ]
            ],
            "type": "heatmap"
           }
          ],
          "heatmapgl": [
           {
            "colorbar": {
             "outlinewidth": 0,
             "ticks": ""
            },
            "colorscale": [
             [
              0,
              "#0d0887"
             ],
             [
              0.1111111111111111,
              "#46039f"
             ],
             [
              0.2222222222222222,
              "#7201a8"
             ],
             [
              0.3333333333333333,
              "#9c179e"
             ],
             [
              0.4444444444444444,
              "#bd3786"
             ],
             [
              0.5555555555555556,
              "#d8576b"
             ],
             [
              0.6666666666666666,
              "#ed7953"
             ],
             [
              0.7777777777777778,
              "#fb9f3a"
             ],
             [
              0.8888888888888888,
              "#fdca26"
             ],
             [
              1,
              "#f0f921"
             ]
            ],
            "type": "heatmapgl"
           }
          ],
          "histogram": [
           {
            "marker": {
             "pattern": {
              "fillmode": "overlay",
              "size": 10,
              "solidity": 0.2
             }
            },
            "type": "histogram"
           }
          ],
          "histogram2d": [
           {
            "colorbar": {
             "outlinewidth": 0,
             "ticks": ""
            },
            "colorscale": [
             [
              0,
              "#0d0887"
             ],
             [
              0.1111111111111111,
              "#46039f"
             ],
             [
              0.2222222222222222,
              "#7201a8"
             ],
             [
              0.3333333333333333,
              "#9c179e"
             ],
             [
              0.4444444444444444,
              "#bd3786"
             ],
             [
              0.5555555555555556,
              "#d8576b"
             ],
             [
              0.6666666666666666,
              "#ed7953"
             ],
             [
              0.7777777777777778,
              "#fb9f3a"
             ],
             [
              0.8888888888888888,
              "#fdca26"
             ],
             [
              1,
              "#f0f921"
             ]
            ],
            "type": "histogram2d"
           }
          ],
          "histogram2dcontour": [
           {
            "colorbar": {
             "outlinewidth": 0,
             "ticks": ""
            },
            "colorscale": [
             [
              0,
              "#0d0887"
             ],
             [
              0.1111111111111111,
              "#46039f"
             ],
             [
              0.2222222222222222,
              "#7201a8"
             ],
             [
              0.3333333333333333,
              "#9c179e"
             ],
             [
              0.4444444444444444,
              "#bd3786"
             ],
             [
              0.5555555555555556,
              "#d8576b"
             ],
             [
              0.6666666666666666,
              "#ed7953"
             ],
             [
              0.7777777777777778,
              "#fb9f3a"
             ],
             [
              0.8888888888888888,
              "#fdca26"
             ],
             [
              1,
              "#f0f921"
             ]
            ],
            "type": "histogram2dcontour"
           }
          ],
          "mesh3d": [
           {
            "colorbar": {
             "outlinewidth": 0,
             "ticks": ""
            },
            "type": "mesh3d"
           }
          ],
          "parcoords": [
           {
            "line": {
             "colorbar": {
              "outlinewidth": 0,
              "ticks": ""
             }
            },
            "type": "parcoords"
           }
          ],
          "pie": [
           {
            "automargin": true,
            "type": "pie"
           }
          ],
          "scatter": [
           {
            "fillpattern": {
             "fillmode": "overlay",
             "size": 10,
             "solidity": 0.2
            },
            "type": "scatter"
           }
          ],
          "scatter3d": [
           {
            "line": {
             "colorbar": {
              "outlinewidth": 0,
              "ticks": ""
             }
            },
            "marker": {
             "colorbar": {
              "outlinewidth": 0,
              "ticks": ""
             }
            },
            "type": "scatter3d"
           }
          ],
          "scattercarpet": [
           {
            "marker": {
             "colorbar": {
              "outlinewidth": 0,
              "ticks": ""
             }
            },
            "type": "scattercarpet"
           }
          ],
          "scattergeo": [
           {
            "marker": {
             "colorbar": {
              "outlinewidth": 0,
              "ticks": ""
             }
            },
            "type": "scattergeo"
           }
          ],
          "scattergl": [
           {
            "marker": {
             "colorbar": {
              "outlinewidth": 0,
              "ticks": ""
             }
            },
            "type": "scattergl"
           }
          ],
          "scattermapbox": [
           {
            "marker": {
             "colorbar": {
              "outlinewidth": 0,
              "ticks": ""
             }
            },
            "type": "scattermapbox"
           }
          ],
          "scatterpolar": [
           {
            "marker": {
             "colorbar": {
              "outlinewidth": 0,
              "ticks": ""
             }
            },
            "type": "scatterpolar"
           }
          ],
          "scatterpolargl": [
           {
            "marker": {
             "colorbar": {
              "outlinewidth": 0,
              "ticks": ""
             }
            },
            "type": "scatterpolargl"
           }
          ],
          "scatterternary": [
           {
            "marker": {
             "colorbar": {
              "outlinewidth": 0,
              "ticks": ""
             }
            },
            "type": "scatterternary"
           }
          ],
          "surface": [
           {
            "colorbar": {
             "outlinewidth": 0,
             "ticks": ""
            },
            "colorscale": [
             [
              0,
              "#0d0887"
             ],
             [
              0.1111111111111111,
              "#46039f"
             ],
             [
              0.2222222222222222,
              "#7201a8"
             ],
             [
              0.3333333333333333,
              "#9c179e"
             ],
             [
              0.4444444444444444,
              "#bd3786"
             ],
             [
              0.5555555555555556,
              "#d8576b"
             ],
             [
              0.6666666666666666,
              "#ed7953"
             ],
             [
              0.7777777777777778,
              "#fb9f3a"
             ],
             [
              0.8888888888888888,
              "#fdca26"
             ],
             [
              1,
              "#f0f921"
             ]
            ],
            "type": "surface"
           }
          ],
          "table": [
           {
            "cells": {
             "fill": {
              "color": "#EBF0F8"
             },
             "line": {
              "color": "white"
             }
            },
            "header": {
             "fill": {
              "color": "#C8D4E3"
             },
             "line": {
              "color": "white"
             }
            },
            "type": "table"
           }
          ]
         },
         "layout": {
          "annotationdefaults": {
           "arrowcolor": "#2a3f5f",
           "arrowhead": 0,
           "arrowwidth": 1
          },
          "autotypenumbers": "strict",
          "coloraxis": {
           "colorbar": {
            "outlinewidth": 0,
            "ticks": ""
           }
          },
          "colorscale": {
           "diverging": [
            [
             0,
             "#8e0152"
            ],
            [
             0.1,
             "#c51b7d"
            ],
            [
             0.2,
             "#de77ae"
            ],
            [
             0.3,
             "#f1b6da"
            ],
            [
             0.4,
             "#fde0ef"
            ],
            [
             0.5,
             "#f7f7f7"
            ],
            [
             0.6,
             "#e6f5d0"
            ],
            [
             0.7,
             "#b8e186"
            ],
            [
             0.8,
             "#7fbc41"
            ],
            [
             0.9,
             "#4d9221"
            ],
            [
             1,
             "#276419"
            ]
           ],
           "sequential": [
            [
             0,
             "#0d0887"
            ],
            [
             0.1111111111111111,
             "#46039f"
            ],
            [
             0.2222222222222222,
             "#7201a8"
            ],
            [
             0.3333333333333333,
             "#9c179e"
            ],
            [
             0.4444444444444444,
             "#bd3786"
            ],
            [
             0.5555555555555556,
             "#d8576b"
            ],
            [
             0.6666666666666666,
             "#ed7953"
            ],
            [
             0.7777777777777778,
             "#fb9f3a"
            ],
            [
             0.8888888888888888,
             "#fdca26"
            ],
            [
             1,
             "#f0f921"
            ]
           ],
           "sequentialminus": [
            [
             0,
             "#0d0887"
            ],
            [
             0.1111111111111111,
             "#46039f"
            ],
            [
             0.2222222222222222,
             "#7201a8"
            ],
            [
             0.3333333333333333,
             "#9c179e"
            ],
            [
             0.4444444444444444,
             "#bd3786"
            ],
            [
             0.5555555555555556,
             "#d8576b"
            ],
            [
             0.6666666666666666,
             "#ed7953"
            ],
            [
             0.7777777777777778,
             "#fb9f3a"
            ],
            [
             0.8888888888888888,
             "#fdca26"
            ],
            [
             1,
             "#f0f921"
            ]
           ]
          },
          "colorway": [
           "#636efa",
           "#EF553B",
           "#00cc96",
           "#ab63fa",
           "#FFA15A",
           "#19d3f3",
           "#FF6692",
           "#B6E880",
           "#FF97FF",
           "#FECB52"
          ],
          "font": {
           "color": "#2a3f5f"
          },
          "geo": {
           "bgcolor": "white",
           "lakecolor": "white",
           "landcolor": "#E5ECF6",
           "showlakes": true,
           "showland": true,
           "subunitcolor": "white"
          },
          "hoverlabel": {
           "align": "left"
          },
          "hovermode": "closest",
          "mapbox": {
           "style": "light"
          },
          "paper_bgcolor": "white",
          "plot_bgcolor": "#E5ECF6",
          "polar": {
           "angularaxis": {
            "gridcolor": "white",
            "linecolor": "white",
            "ticks": ""
           },
           "bgcolor": "#E5ECF6",
           "radialaxis": {
            "gridcolor": "white",
            "linecolor": "white",
            "ticks": ""
           }
          },
          "scene": {
           "xaxis": {
            "backgroundcolor": "#E5ECF6",
            "gridcolor": "white",
            "gridwidth": 2,
            "linecolor": "white",
            "showbackground": true,
            "ticks": "",
            "zerolinecolor": "white"
           },
           "yaxis": {
            "backgroundcolor": "#E5ECF6",
            "gridcolor": "white",
            "gridwidth": 2,
            "linecolor": "white",
            "showbackground": true,
            "ticks": "",
            "zerolinecolor": "white"
           },
           "zaxis": {
            "backgroundcolor": "#E5ECF6",
            "gridcolor": "white",
            "gridwidth": 2,
            "linecolor": "white",
            "showbackground": true,
            "ticks": "",
            "zerolinecolor": "white"
           }
          },
          "shapedefaults": {
           "line": {
            "color": "#2a3f5f"
           }
          },
          "ternary": {
           "aaxis": {
            "gridcolor": "white",
            "linecolor": "white",
            "ticks": ""
           },
           "baxis": {
            "gridcolor": "white",
            "linecolor": "white",
            "ticks": ""
           },
           "bgcolor": "#E5ECF6",
           "caxis": {
            "gridcolor": "white",
            "linecolor": "white",
            "ticks": ""
           }
          },
          "title": {
           "x": 0.05
          },
          "xaxis": {
           "automargin": true,
           "gridcolor": "white",
           "linecolor": "white",
           "ticks": "",
           "title": {
            "standoff": 15
           },
           "zerolinecolor": "white",
           "zerolinewidth": 2
          },
          "yaxis": {
           "automargin": true,
           "gridcolor": "white",
           "linecolor": "white",
           "ticks": "",
           "title": {
            "standoff": 15
           },
           "zerolinecolor": "white",
           "zerolinewidth": 2
          }
         }
        },
        "title": {
         "text": "Drug & Alcohol References by Album"
        },
        "xaxis": {
         "anchor": "y",
         "domain": [
          0,
          1
         ],
         "title": {
          "text": "Album"
         }
        },
        "yaxis": {
         "anchor": "x",
         "domain": [
          0,
          1
         ],
         "title": {
          "text": "No. of Words"
         }
        }
       }
      }
     },
     "metadata": {},
     "output_type": "display_data"
    }
   ],
   "source": [
    "# interactive bar chart showing drug and alcohol references\n",
    "\n",
    "# data\n",
    "color = [['alcohol', 'bar', 'drink', 'sober', 'beer', 'wine', 'champagne', 'liquor', 'mixed drinks', 'drug', 'weed',\n",
    "        'smoke', 'stoned', 'overdose', 'narcotics', 'heroin', 'dopamine', 'pills', 'doin lines']]\n",
    "\n",
    "# show plot\n",
    "fig = px.bar(df_drug_reduced,\n",
    "               labels={'variable' : 'Reference',\n",
    "                       'value' : 'No. of Words'},\n",
    "               title='Drug & Alcohol References by Album'\n",
    "               )\n",
    "\n",
    "fig.show()"
   ]
  },
  {
   "cell_type": "markdown",
   "metadata": {},
   "source": [
    "### References to Religion"
   ]
  },
  {
   "cell_type": "code",
   "execution_count": 38,
   "metadata": {},
   "outputs": [
    {
     "data": {
      "text/html": [
       "<div>\n",
       "<style scoped>\n",
       "    .dataframe tbody tr th:only-of-type {\n",
       "        vertical-align: middle;\n",
       "    }\n",
       "\n",
       "    .dataframe tbody tr th {\n",
       "        vertical-align: top;\n",
       "    }\n",
       "\n",
       "    .dataframe thead th {\n",
       "        text-align: right;\n",
       "    }\n",
       "</style>\n",
       "<table border=\"1\" class=\"dataframe\">\n",
       "  <thead>\n",
       "    <tr style=\"text-align: right;\">\n",
       "      <th></th>\n",
       "      <th>Album</th>\n",
       "      <th>Song Name</th>\n",
       "      <th>Lyrics</th>\n",
       "      <th>amen</th>\n",
       "      <th>christian</th>\n",
       "      <th>church</th>\n",
       "      <th>faith</th>\n",
       "      <th>faithless</th>\n",
       "      <th>god</th>\n",
       "      <th>gods</th>\n",
       "      <th>...</th>\n",
       "      <th>sacred</th>\n",
       "      <th>worship</th>\n",
       "      <th>soul</th>\n",
       "      <th>spirit</th>\n",
       "      <th>prophecy</th>\n",
       "      <th>miracle</th>\n",
       "      <th>bless</th>\n",
       "      <th>crucify</th>\n",
       "      <th>temple</th>\n",
       "      <th>eve</th>\n",
       "    </tr>\n",
       "  </thead>\n",
       "  <tbody>\n",
       "    <tr>\n",
       "      <th>0</th>\n",
       "      <td>Taylor Swift</td>\n",
       "      <td>A Perfectly Good Heart</td>\n",
       "      <td>why would you wanna break a perfectly good hea...</td>\n",
       "      <td>0</td>\n",
       "      <td>0</td>\n",
       "      <td>0</td>\n",
       "      <td>0</td>\n",
       "      <td>0</td>\n",
       "      <td>0</td>\n",
       "      <td>0</td>\n",
       "      <td>...</td>\n",
       "      <td>0</td>\n",
       "      <td>0</td>\n",
       "      <td>0</td>\n",
       "      <td>0</td>\n",
       "      <td>0</td>\n",
       "      <td>0</td>\n",
       "      <td>0</td>\n",
       "      <td>0</td>\n",
       "      <td>0</td>\n",
       "      <td>0</td>\n",
       "    </tr>\n",
       "    <tr>\n",
       "      <th>1</th>\n",
       "      <td>Taylor Swift</td>\n",
       "      <td>A Place In This World</td>\n",
       "      <td>i dont know what i want so dont ask me cause i...</td>\n",
       "      <td>0</td>\n",
       "      <td>0</td>\n",
       "      <td>0</td>\n",
       "      <td>0</td>\n",
       "      <td>0</td>\n",
       "      <td>0</td>\n",
       "      <td>0</td>\n",
       "      <td>...</td>\n",
       "      <td>0</td>\n",
       "      <td>0</td>\n",
       "      <td>0</td>\n",
       "      <td>0</td>\n",
       "      <td>0</td>\n",
       "      <td>0</td>\n",
       "      <td>0</td>\n",
       "      <td>0</td>\n",
       "      <td>0</td>\n",
       "      <td>0</td>\n",
       "    </tr>\n",
       "  </tbody>\n",
       "</table>\n",
       "<p>2 rows × 55 columns</p>\n",
       "</div>"
      ],
      "text/plain": [
       "          Album                 Song Name  \\\n",
       "0  Taylor Swift    A Perfectly Good Heart   \n",
       "1  Taylor Swift     A Place In This World   \n",
       "\n",
       "                                              Lyrics   amen    christian   \\\n",
       "0  why would you wanna break a perfectly good hea...       0            0   \n",
       "1  i dont know what i want so dont ask me cause i...       0            0   \n",
       "\n",
       "    church    faith    faithless    god    gods   ...   sacred    worship   \\\n",
       "0         0        0            0      0       0  ...         0          0   \n",
       "1         0        0            0      0       0  ...         0          0   \n",
       "\n",
       "    soul    spirit    prophecy    miracle    bless    crucify    temple   \\\n",
       "0       0         0           0          0        0          0         0   \n",
       "1       0         0           0          0        0          0         0   \n",
       "\n",
       "    eve   \n",
       "0      0  \n",
       "1      0  \n",
       "\n",
       "[2 rows x 55 columns]"
      ]
     },
     "execution_count": 38,
     "metadata": {},
     "output_type": "execute_result"
    }
   ],
   "source": [
    "# create new dataframe for understanding religious words\n",
    "df_rlgn = df[['Album', 'Song Name', 'Lyrics']].copy()\n",
    "\n",
    "# create list of religious words\n",
    "rlgn_list = [' amen ', ' christian ', ' church ', ' faith ', ' faithless ', ' god ', ' gods ', ' lord ', ' devil ', ' devils ',\n",
    "            ' angel ', ' angels ', ' demons ', ' saint ', ' jesus ', ' holy ', ' pray ', ' praying ', ' prayer ', ' altar ', ' sin ',\n",
    "            ' guilty ', ' guilt ', ' hell ', ' heaven ', ' heavenly ', ' halo ', ' preacher ', ' christmas ', ' methodist ',\n",
    "            ' hallelujah ', ' forgive ', ' forgiveness ', ' forgiven ', ' unforgiven ', ' confess ', ' confessions ',\n",
    "            ' religion ', ' religions ', ' religious ', ' epiphany ', ' grace ', ' sacred ', ' worship ', ' soul ', ' spirit ',\n",
    "            ' prophecy ', ' miracle ', ' bless ', ' crucify ', ' temple ', ' eve ']\n",
    "\n",
    "# function to count religious words by song\n",
    "def find_rlgn_words(word: str, pattern: str) -> int:\n",
    "    return len(re.findall(pattern, word.lower()))\n",
    "\n",
    "# loop through each string in rlgn_list\n",
    "# apply find_rlgn_words function\n",
    "for col in rlgn_list:\n",
    "    df_rlgn[col] = df_rlgn['Lyrics'].apply(find_rlgn_words, pattern=col)\n",
    "\n",
    "df_rlgn.head(2)"
   ]
  },
  {
   "cell_type": "code",
   "execution_count": 39,
   "metadata": {},
   "outputs": [
    {
     "data": {
      "text/html": [
       "<div>\n",
       "<style scoped>\n",
       "    .dataframe tbody tr th:only-of-type {\n",
       "        vertical-align: middle;\n",
       "    }\n",
       "\n",
       "    .dataframe tbody tr th {\n",
       "        vertical-align: top;\n",
       "    }\n",
       "\n",
       "    .dataframe thead th {\n",
       "        text-align: right;\n",
       "    }\n",
       "</style>\n",
       "<table border=\"1\" class=\"dataframe\">\n",
       "  <thead>\n",
       "    <tr style=\"text-align: right;\">\n",
       "      <th></th>\n",
       "      <th>Amen</th>\n",
       "      <th>Christian</th>\n",
       "      <th>church</th>\n",
       "      <th>faith</th>\n",
       "      <th>God</th>\n",
       "      <th>Lord</th>\n",
       "      <th>Jesus</th>\n",
       "      <th>saint</th>\n",
       "      <th>holy</th>\n",
       "      <th>devil/demon</th>\n",
       "      <th>...</th>\n",
       "      <th>sacred</th>\n",
       "      <th>worship</th>\n",
       "      <th>soul</th>\n",
       "      <th>spirit</th>\n",
       "      <th>prophecy</th>\n",
       "      <th>miracle</th>\n",
       "      <th>bless</th>\n",
       "      <th>crucify</th>\n",
       "      <th>temple</th>\n",
       "      <th>Eve</th>\n",
       "    </tr>\n",
       "    <tr>\n",
       "      <th>Album</th>\n",
       "      <th></th>\n",
       "      <th></th>\n",
       "      <th></th>\n",
       "      <th></th>\n",
       "      <th></th>\n",
       "      <th></th>\n",
       "      <th></th>\n",
       "      <th></th>\n",
       "      <th></th>\n",
       "      <th></th>\n",
       "      <th></th>\n",
       "      <th></th>\n",
       "      <th></th>\n",
       "      <th></th>\n",
       "      <th></th>\n",
       "      <th></th>\n",
       "      <th></th>\n",
       "      <th></th>\n",
       "      <th></th>\n",
       "      <th></th>\n",
       "      <th></th>\n",
       "    </tr>\n",
       "  </thead>\n",
       "  <tbody>\n",
       "    <tr>\n",
       "      <th>1989 Deluxe</th>\n",
       "      <td>0</td>\n",
       "      <td>0</td>\n",
       "      <td>0</td>\n",
       "      <td>2</td>\n",
       "      <td>3</td>\n",
       "      <td>0</td>\n",
       "      <td>0</td>\n",
       "      <td>0</td>\n",
       "      <td>0</td>\n",
       "      <td>0</td>\n",
       "      <td>...</td>\n",
       "      <td>0</td>\n",
       "      <td>0</td>\n",
       "      <td>0</td>\n",
       "      <td>0</td>\n",
       "      <td>0</td>\n",
       "      <td>0</td>\n",
       "      <td>0</td>\n",
       "      <td>0</td>\n",
       "      <td>0</td>\n",
       "      <td>0</td>\n",
       "    </tr>\n",
       "    <tr>\n",
       "      <th>1989 Taylors Version</th>\n",
       "      <td>0</td>\n",
       "      <td>0</td>\n",
       "      <td>0</td>\n",
       "      <td>0</td>\n",
       "      <td>0</td>\n",
       "      <td>5</td>\n",
       "      <td>0</td>\n",
       "      <td>0</td>\n",
       "      <td>0</td>\n",
       "      <td>0</td>\n",
       "      <td>...</td>\n",
       "      <td>0</td>\n",
       "      <td>0</td>\n",
       "      <td>0</td>\n",
       "      <td>0</td>\n",
       "      <td>0</td>\n",
       "      <td>0</td>\n",
       "      <td>0</td>\n",
       "      <td>0</td>\n",
       "      <td>0</td>\n",
       "      <td>0</td>\n",
       "    </tr>\n",
       "  </tbody>\n",
       "</table>\n",
       "<p>2 rows × 37 columns</p>\n",
       "</div>"
      ],
      "text/plain": [
       "                      Amen  Christian  church  faith  God  Lord  Jesus  saint  \\\n",
       "Album                                                                           \n",
       "1989 Deluxe              0          0       0      2    3     0      0      0   \n",
       "1989 Taylors Version     0          0       0      0    0     5      0      0   \n",
       "\n",
       "                      holy  devil/demon  ...  sacred  worship  soul  spirit  \\\n",
       "Album                                    ...                                  \n",
       "1989 Deluxe              0            0  ...       0        0     0       0   \n",
       "1989 Taylors Version     0            0  ...       0        0     0       0   \n",
       "\n",
       "                      prophecy  miracle  bless  crucify  temple  Eve  \n",
       "Album                                                                 \n",
       "1989 Deluxe                  0        0      0        0       0    0  \n",
       "1989 Taylors Version         0        0      0        0       0    0  \n",
       "\n",
       "[2 rows x 37 columns]"
      ]
     },
     "execution_count": 39,
     "metadata": {},
     "output_type": "execute_result"
    }
   ],
   "source": [
    "# create new reduced dataframe\n",
    "df_rlgn_reduced = df_rlgn[['Album', ' amen ', ' christian ', ' church ', ' faith ', ' faithless ', ' god ', ' gods ',\n",
    "                            ' lord ', ' devil ', ' devils ', ' angel ', ' angels ', ' demons ', ' saint ', ' jesus ',\n",
    "                            ' holy ', ' pray ', ' praying ', ' prayer ', ' altar ', ' sin ', ' guilty ', ' guilt ',\n",
    "                            ' hell ', ' heaven ', ' heavenly ', ' halo ', ' preacher ', ' christmas ', ' methodist ',\n",
    "                            ' hallelujah ', ' forgive ', ' forgiveness ', ' forgiven ', ' unforgiven ', ' confess ',\n",
    "                            ' confessions ', ' religion ', ' religions ', ' religious ', ' epiphany ', ' grace ', ' sacred ',\n",
    "                            ' worship ', ' soul ', ' spirit ', ' prophecy ', ' miracle ', ' bless ', ' crucify ', ' temple ', ' eve '\n",
    "                            ]].copy()\n",
    "\n",
    "# remove spaces and combine similar swear words\n",
    "df_rlgn_reduced['Amen'] = df_rlgn_reduced[[' amen ']]\n",
    "df_rlgn_reduced['Christian'] = df_rlgn_reduced[[' christian ']]\n",
    "df_rlgn_reduced['church'] = df_rlgn_reduced[[' church ']]\n",
    "df_rlgn_reduced['faith'] = df_rlgn_reduced[[' faith ', ' faithless ']].sum(axis=1)\n",
    "df_rlgn_reduced['God'] = df_rlgn_reduced[[' god ', ' gods ']].sum(axis=1)\n",
    "df_rlgn_reduced['Lord'] = df_rlgn_reduced[[' lord ']]\n",
    "df_rlgn_reduced['Jesus'] = df_rlgn_reduced[[' jesus ']]\n",
    "df_rlgn_reduced['saint'] = df_rlgn_reduced[[' saint ']]\n",
    "df_rlgn_reduced['holy'] = df_rlgn_reduced[[' holy ']]\n",
    "df_rlgn_reduced['devil/demon'] = df_rlgn_reduced[[' devil ', ' devils ', ' demons ']].sum(axis=1)\n",
    "df_rlgn_reduced['angel'] = df_rlgn_reduced[[' angel ', ' angels ']].sum(axis=1)\n",
    "df_rlgn_reduced['pray'] = df_rlgn_reduced[[' pray ', ' praying ', ' prayer ']].sum(axis=1)\n",
    "df_rlgn_reduced['altar'] = df_rlgn_reduced[[' altar ']]\n",
    "df_rlgn_reduced['sin'] = df_rlgn_reduced[[' sin ']]\n",
    "df_rlgn_reduced['guilt'] = df_rlgn_reduced[[' guilty ', ' guilt ']].sum(axis=1)\n",
    "df_rlgn_reduced['Hell'] = df_rlgn_reduced[[' hell ']]\n",
    "df_rlgn_reduced['Heaven'] = df_rlgn_reduced[[' heaven ', ' heavenly ']].sum(axis=1)\n",
    "df_rlgn_reduced['halo'] = df_rlgn_reduced[[' halo ']]\n",
    "df_rlgn_reduced['preacher'] = df_rlgn_reduced[[' preacher ']]\n",
    "df_rlgn_reduced['Christmas'] = df_rlgn_reduced[[' christmas ']]\n",
    "df_rlgn_reduced['Methodist'] = df_rlgn_reduced[[' methodist ']]\n",
    "df_rlgn_reduced['hallelujah'] = df_rlgn_reduced[[' hallelujah ']]\n",
    "df_rlgn_reduced['forgive'] = df_rlgn_reduced[[' forgive ', ' forgiveness ', ' forgiven ', ' unforgiven ']].sum(axis=1)\n",
    "df_rlgn_reduced['confess'] = df_rlgn_reduced[[' confess ', ' confessions ']].sum(axis=1)\n",
    "df_rlgn_reduced['religion'] = df_rlgn_reduced[[' religion ', ' religions ', ' religious ']].sum(axis=1)\n",
    "df_rlgn_reduced['epiphany'] = df_rlgn_reduced[[' epiphany ']]\n",
    "df_rlgn_reduced['grace'] = df_rlgn_reduced[[' grace ']]\n",
    "df_rlgn_reduced['sacred'] = df_rlgn_reduced[[' sacred ']]\n",
    "df_rlgn_reduced['worship'] = df_rlgn_reduced[[' worship ']]\n",
    "df_rlgn_reduced['soul'] = df_rlgn_reduced[[' soul ']]\n",
    "df_rlgn_reduced['spirit'] = df_rlgn_reduced[[' spirit ']]\n",
    "df_rlgn_reduced['prophecy'] = df_rlgn_reduced[[' prophecy ']]\n",
    "df_rlgn_reduced['miracle'] = df_rlgn_reduced[[' miracle ']]\n",
    "df_rlgn_reduced['bless'] = df_rlgn_reduced[[' bless ']]\n",
    "df_rlgn_reduced['crucify'] = df_rlgn_reduced[[' crucify ']]\n",
    "df_rlgn_reduced['temple'] = df_rlgn_reduced[[' temple ']]\n",
    "df_rlgn_reduced['Eve'] = df_rlgn_reduced[[' eve ']]\n",
    "\n",
    "\n",
    "# drop now-unnecessary columns\n",
    "df_rlgn_reduced = df_rlgn_reduced.drop([' amen ', ' christian ', ' church ', ' faith ', ' faithless ', ' god ', ' gods ',\n",
    "                                        ' lord ', ' devil ', ' devils ', ' angel ', ' angels ', ' demons ', ' saint ', ' jesus ',\n",
    "                                        ' holy ', ' pray ', ' praying ', ' prayer ', ' altar ', ' sin ', ' guilty ', ' guilt ',\n",
    "                                        ' hell ', ' heaven ', ' heavenly ', ' halo ', ' preacher ', ' christmas ', ' methodist ',\n",
    "                                        ' hallelujah ', ' forgive ', ' forgiveness ', ' forgiven ', ' unforgiven ', ' confess ',\n",
    "                                        ' confessions ', ' religion ', ' religions ', ' religious ', ' epiphany ', ' grace ',\n",
    "                                        ' sacred ', ' worship ', ' soul ', ' spirit ', ' prophecy ', ' miracle ', ' bless ',\n",
    "                                        ' crucify ', ' temple ', ' eve '\n",
    "                                        ], axis=1)\n",
    "\n",
    "# combine album rows\n",
    "df_rlgn_reduced = df_rlgn_reduced.groupby('Album').sum()\n",
    "\n",
    "df_rlgn_reduced.head(2)"
   ]
  },
  {
   "cell_type": "markdown",
   "metadata": {},
   "source": [
    "#### Religion References - Bar Charts"
   ]
  },
  {
   "cell_type": "code",
   "execution_count": 43,
   "metadata": {},
   "outputs": [
    {
     "data": {
      "image/png": "[encoded data removed]",
      "text/plain": [
       "<Figure size 1600x1200 with 1 Axes>"
      ]
     },
     "metadata": {},
     "output_type": "display_data"
    }
   ],
   "source": [
    "# number of religious words by album color-coded by word\n",
    "\n",
    "# define data\n",
    "plotdata = df_rlgn_reduced[['Amen', 'Christian', 'church', 'faith', 'God', 'Lord', 'devil/demon', 'angel', 'saint',\n",
    "                            'Jesus', 'holy', 'pray', 'altar', 'sin', 'guilt', 'Hell', 'Heaven', 'halo', 'preacher',\n",
    "                            'Christmas', 'Methodist', 'hallelujah', 'forgive', 'confess', 'religion', 'epiphany',\n",
    "                            'grace', 'sacred', 'worship', 'soul', 'spirit', 'prophecy', 'miracle', 'bless',\n",
    "                             'crucify', 'temple', 'Eve'\n",
    "                            ]]\n",
    "\n",
    "# plot stacked bar chart\n",
    "plotdata.plot(kind='bar', stacked=True, figsize=(16, 12))\n",
    "plt.legend(bbox_to_anchor=(1.05, 1), loc='upper left', ncol=2, title='Religious Word')\n",
    "plt.subplots_adjust(right=0.7)\n",
    "plt.title('Religious References by Album', fontsize=20)\n",
    "plt.xlabel('Album', fontsize=15)\n",
    "plt.ylabel('No. of Religious Words', fontsize=15)\n",
    "\n",
    "plt.show()"
   ]
  },
  {
   "cell_type": "code",
   "execution_count": 44,
   "metadata": {},
   "outputs": [
    {
     "data": {
      "application/vnd.plotly.v1+json": {
       "config": {
        "plotlyServerURL": "https://plot.ly"
       },
       "data": [
        {
         "alignmentgroup": "True",
         "hovertemplate": "Religious Word=Amen<br>Album=%{x}<br>No. of Words=%{y}<extra></extra>",
         "legendgroup": "Amen",
         "marker": {
          "color": "#636efa",
          "pattern": {
           "shape": ""
          }
         },
         "name": "Amen",
         "offsetgroup": "Amen",
         "orientation": "v",
         "showlegend": true,
         "textposition": "auto",
         "type": "bar",
         "x": [
          "1989 Deluxe",
          "1989 Taylors Version",
          "Fearless Platinum Edition",
          "Fearless Taylors Version",
          "Lover",
          "Midnights The Til Dawn Edition",
          "Red Deluxe Edition",
          "Red Taylors Version",
          "Reputation",
          "Speak Now Deluxe Edition",
          "Speak Now Taylors Version",
          "Taylor Swift",
          "The Tortured Poets Department The Anthology",
          "evermore deluxe version",
          "folklore deluxe version"
         ],
         "xaxis": "x",
         "y": [
          0,
          0,
          0,
          0,
          0,
          0,
          0,
          0,
          0,
          0,
          0,
          3,
          0,
          0,
          0
         ],
         "yaxis": "y"
        },
        {
         "alignmentgroup": "True",
         "hovertemplate": "Religious Word=Christian<br>Album=%{x}<br>No. of Words=%{y}<extra></extra>",
         "legendgroup": "Christian",
         "marker": {
          "color": "#EF553B",
          "pattern": {
           "shape": ""
          }
         },
         "name": "Christian",
         "offsetgroup": "Christian",
         "orientation": "v",
         "showlegend": true,
         "textposition": "auto",
         "type": "bar",
         "x": [
          "1989 Deluxe",
          "1989 Taylors Version",
          "Fearless Platinum Edition",
          "Fearless Taylors Version",
          "Lover",
          "Midnights The Til Dawn Edition",
          "Red Deluxe Edition",
          "Red Taylors Version",
          "Reputation",
          "Speak Now Deluxe Edition",
          "Speak Now Taylors Version",
          "Taylor Swift",
          "The Tortured Poets Department The Anthology",
          "evermore deluxe version",
          "folklore deluxe version"
         ],
         "xaxis": "x",
         "y": [
          0,
          0,
          0,
          0,
          0,
          0,
          0,
          0,
          0,
          0,
          0,
          0,
          1,
          0,
          0
         ],
         "yaxis": "y"
        },
        {
         "alignmentgroup": "True",
         "hovertemplate": "Religious Word=church<br>Album=%{x}<br>No. of Words=%{y}<extra></extra>",
         "legendgroup": "church",
         "marker": {
          "color": "#00cc96",
          "pattern": {
           "shape": ""
          }
         },
         "name": "church",
         "offsetgroup": "church",
         "orientation": "v",
         "showlegend": true,
         "textposition": "auto",
         "type": "bar",
         "x": [
          "1989 Deluxe",
          "1989 Taylors Version",
          "Fearless Platinum Edition",
          "Fearless Taylors Version",
          "Lover",
          "Midnights The Til Dawn Edition",
          "Red Deluxe Edition",
          "Red Taylors Version",
          "Reputation",
          "Speak Now Deluxe Edition",
          "Speak Now Taylors Version",
          "Taylor Swift",
          "The Tortured Poets Department The Anthology",
          "evermore deluxe version",
          "folklore deluxe version"
         ],
         "xaxis": "x",
         "y": [
          0,
          0,
          0,
          0,
          1,
          0,
          0,
          0,
          0,
          4,
          0,
          0,
          0,
          0,
          0
         ],
         "yaxis": "y"
        },
        {
         "alignmentgroup": "True",
         "hovertemplate": "Religious Word=faith<br>Album=%{x}<br>No. of Words=%{y}<extra></extra>",
         "legendgroup": "faith",
         "marker": {
          "color": "#ab63fa",
          "pattern": {
           "shape": ""
          }
         },
         "name": "faith",
         "offsetgroup": "faith",
         "orientation": "v",
         "showlegend": true,
         "textposition": "auto",
         "type": "bar",
         "x": [
          "1989 Deluxe",
          "1989 Taylors Version",
          "Fearless Platinum Edition",
          "Fearless Taylors Version",
          "Lover",
          "Midnights The Til Dawn Edition",
          "Red Deluxe Edition",
          "Red Taylors Version",
          "Reputation",
          "Speak Now Deluxe Edition",
          "Speak Now Taylors Version",
          "Taylor Swift",
          "The Tortured Poets Department The Anthology",
          "evermore deluxe version",
          "folklore deluxe version"
         ],
         "xaxis": "x",
         "y": [
          2,
          0,
          1,
          0,
          5,
          2,
          0,
          0,
          0,
          1,
          1,
          0,
          1,
          1,
          2
         ],
         "yaxis": "y"
        },
        {
         "alignmentgroup": "True",
         "hovertemplate": "Religious Word=God<br>Album=%{x}<br>No. of Words=%{y}<extra></extra>",
         "legendgroup": "God",
         "marker": {
          "color": "#FFA15A",
          "pattern": {
           "shape": ""
          }
         },
         "name": "God",
         "offsetgroup": "God",
         "orientation": "v",
         "showlegend": true,
         "textposition": "auto",
         "type": "bar",
         "x": [
          "1989 Deluxe",
          "1989 Taylors Version",
          "Fearless Platinum Edition",
          "Fearless Taylors Version",
          "Lover",
          "Midnights The Til Dawn Edition",
          "Red Deluxe Edition",
          "Red Taylors Version",
          "Reputation",
          "Speak Now Deluxe Edition",
          "Speak Now Taylors Version",
          "Taylor Swift",
          "The Tortured Poets Department The Anthology",
          "evermore deluxe version",
          "folklore deluxe version"
         ],
         "xaxis": "x",
         "y": [
          3,
          0,
          1,
          2,
          7,
          10,
          0,
          1,
          0,
          1,
          1,
          4,
          8,
          0,
          0
         ],
         "yaxis": "y"
        },
        {
         "alignmentgroup": "True",
         "hovertemplate": "Religious Word=Lord<br>Album=%{x}<br>No. of Words=%{y}<extra></extra>",
         "legendgroup": "Lord",
         "marker": {
          "color": "#19d3f3",
          "pattern": {
           "shape": ""
          }
         },
         "name": "Lord",
         "offsetgroup": "Lord",
         "orientation": "v",
         "showlegend": true,
         "textposition": "auto",
         "type": "bar",
         "x": [
          "1989 Deluxe",
          "1989 Taylors Version",
          "Fearless Platinum Edition",
          "Fearless Taylors Version",
          "Lover",
          "Midnights The Til Dawn Edition",
          "Red Deluxe Edition",
          "Red Taylors Version",
          "Reputation",
          "Speak Now Deluxe Edition",
          "Speak Now Taylors Version",
          "Taylor Swift",
          "The Tortured Poets Department The Anthology",
          "evermore deluxe version",
          "folklore deluxe version"
         ],
         "xaxis": "x",
         "y": [
          0,
          5,
          0,
          0,
          0,
          1,
          1,
          1,
          9,
          0,
          0,
          0,
          4,
          0,
          0
         ],
         "yaxis": "y"
        },
        {
         "alignmentgroup": "True",
         "hovertemplate": "Religious Word=Jesus<br>Album=%{x}<br>No. of Words=%{y}<extra></extra>",
         "legendgroup": "Jesus",
         "marker": {
          "color": "#FF6692",
          "pattern": {
           "shape": ""
          }
         },
         "name": "Jesus",
         "offsetgroup": "Jesus",
         "orientation": "v",
         "showlegend": true,
         "textposition": "auto",
         "type": "bar",
         "x": [
          "1989 Deluxe",
          "1989 Taylors Version",
          "Fearless Platinum Edition",
          "Fearless Taylors Version",
          "Lover",
          "Midnights The Til Dawn Edition",
          "Red Deluxe Edition",
          "Red Taylors Version",
          "Reputation",
          "Speak Now Deluxe Edition",
          "Speak Now Taylors Version",
          "Taylor Swift",
          "The Tortured Poets Department The Anthology",
          "evermore deluxe version",
          "folklore deluxe version"
         ],
         "xaxis": "x",
         "y": [
          0,
          0,
          0,
          0,
          1,
          0,
          0,
          0,
          0,
          0,
          0,
          0,
          0,
          0,
          0
         ],
         "yaxis": "y"
        },
        {
         "alignmentgroup": "True",
         "hovertemplate": "Religious Word=saint<br>Album=%{x}<br>No. of Words=%{y}<extra></extra>",
         "legendgroup": "saint",
         "marker": {
          "color": "#B6E880",
          "pattern": {
           "shape": ""
          }
         },
         "name": "saint",
         "offsetgroup": "saint",
         "orientation": "v",
         "showlegend": true,
         "textposition": "auto",
         "type": "bar",
         "x": [
          "1989 Deluxe",
          "1989 Taylors Version",
          "Fearless Platinum Edition",
          "Fearless Taylors Version",
          "Lover",
          "Midnights The Til Dawn Edition",
          "Red Deluxe Edition",
          "Red Taylors Version",
          "Reputation",
          "Speak Now Deluxe Edition",
          "Speak Now Taylors Version",
          "Taylor Swift",
          "The Tortured Poets Department The Anthology",
          "evermore deluxe version",
          "folklore deluxe version"
         ],
         "xaxis": "x",
         "y": [
          0,
          0,
          0,
          0,
          1,
          0,
          2,
          0,
          0,
          3,
          0,
          0,
          0,
          0,
          0
         ],
         "yaxis": "y"
        },
        {
         "alignmentgroup": "True",
         "hovertemplate": "Religious Word=holy<br>Album=%{x}<br>No. of Words=%{y}<extra></extra>",
         "legendgroup": "holy",
         "marker": {
          "color": "#FF97FF",
          "pattern": {
           "shape": ""
          }
         },
         "name": "holy",
         "offsetgroup": "holy",
         "orientation": "v",
         "showlegend": true,
         "textposition": "auto",
         "type": "bar",
         "x": [
          "1989 Deluxe",
          "1989 Taylors Version",
          "Fearless Platinum Edition",
          "Fearless Taylors Version",
          "Lover",
          "Midnights The Til Dawn Edition",
          "Red Deluxe Edition",
          "Red Taylors Version",
          "Reputation",
          "Speak Now Deluxe Edition",
          "Speak Now Taylors Version",
          "Taylor Swift",
          "The Tortured Poets Department The Anthology",
          "evermore deluxe version",
          "folklore deluxe version"
         ],
         "xaxis": "x",
         "y": [
          0,
          0,
          0,
          0,
          1,
          0,
          3,
          0,
          0,
          0,
          0,
          0,
          2,
          0,
          0
         ],
         "yaxis": "y"
        },
        {
         "alignmentgroup": "True",
         "hovertemplate": "Religious Word=devil/demon<br>Album=%{x}<br>No. of Words=%{y}<extra></extra>",
         "legendgroup": "devil/demon",
         "marker": {
          "color": "#FECB52",
          "pattern": {
           "shape": ""
          }
         },
         "name": "devil/demon",
         "offsetgroup": "devil/demon",
         "orientation": "v",
         "showlegend": true,
         "textposition": "auto",
         "type": "bar",
         "x": [
          "1989 Deluxe",
          "1989 Taylors Version",
          "Fearless Platinum Edition",
          "Fearless Taylors Version",
          "Lover",
          "Midnights The Til Dawn Edition",
          "Red Deluxe Edition",
          "Red Taylors Version",
          "Reputation",
          "Speak Now Deluxe Edition",
          "Speak Now Taylors Version",
          "Taylor Swift",
          "The Tortured Poets Department The Anthology",
          "evermore deluxe version",
          "folklore deluxe version"
         ],
         "xaxis": "x",
         "y": [
          0,
          0,
          0,
          0,
          3,
          4,
          1,
          0,
          0,
          0,
          0,
          0,
          3,
          0,
          3
         ],
         "yaxis": "y"
        },
        {
         "alignmentgroup": "True",
         "hovertemplate": "Religious Word=angel<br>Album=%{x}<br>No. of Words=%{y}<extra></extra>",
         "legendgroup": "angel",
         "marker": {
          "color": "#636efa",
          "pattern": {
           "shape": ""
          }
         },
         "name": "angel",
         "offsetgroup": "angel",
         "orientation": "v",
         "showlegend": true,
         "textposition": "auto",
         "type": "bar",
         "x": [
          "1989 Deluxe",
          "1989 Taylors Version",
          "Fearless Platinum Edition",
          "Fearless Taylors Version",
          "Lover",
          "Midnights The Til Dawn Edition",
          "Red Deluxe Edition",
          "Red Taylors Version",
          "Reputation",
          "Speak Now Deluxe Edition",
          "Speak Now Taylors Version",
          "Taylor Swift",
          "The Tortured Poets Department The Anthology",
          "evermore deluxe version",
          "folklore deluxe version"
         ],
         "xaxis": "x",
         "y": [
          0,
          0,
          5,
          0,
          2,
          0,
          1,
          0,
          0,
          0,
          0,
          0,
          2,
          0,
          0
         ],
         "yaxis": "y"
        },
        {
         "alignmentgroup": "True",
         "hovertemplate": "Religious Word=pray<br>Album=%{x}<br>No. of Words=%{y}<extra></extra>",
         "legendgroup": "pray",
         "marker": {
          "color": "#EF553B",
          "pattern": {
           "shape": ""
          }
         },
         "name": "pray",
         "offsetgroup": "pray",
         "orientation": "v",
         "showlegend": true,
         "textposition": "auto",
         "type": "bar",
         "x": [
          "1989 Deluxe",
          "1989 Taylors Version",
          "Fearless Platinum Edition",
          "Fearless Taylors Version",
          "Lover",
          "Midnights The Til Dawn Edition",
          "Red Deluxe Edition",
          "Red Taylors Version",
          "Reputation",
          "Speak Now Deluxe Edition",
          "Speak Now Taylors Version",
          "Taylor Swift",
          "The Tortured Poets Department The Anthology",
          "evermore deluxe version",
          "folklore deluxe version"
         ],
         "xaxis": "x",
         "y": [
          0,
          0,
          0,
          0,
          2,
          3,
          0,
          5,
          0,
          2,
          0,
          0,
          4,
          1,
          0
         ],
         "yaxis": "y"
        },
        {
         "alignmentgroup": "True",
         "hovertemplate": "Religious Word=altar<br>Album=%{x}<br>No. of Words=%{y}<extra></extra>",
         "legendgroup": "altar",
         "marker": {
          "color": "#00cc96",
          "pattern": {
           "shape": ""
          }
         },
         "name": "altar",
         "offsetgroup": "altar",
         "orientation": "v",
         "showlegend": true,
         "textposition": "auto",
         "type": "bar",
         "x": [
          "1989 Deluxe",
          "1989 Taylors Version",
          "Fearless Platinum Edition",
          "Fearless Taylors Version",
          "Lover",
          "Midnights The Til Dawn Edition",
          "Red Deluxe Edition",
          "Red Taylors Version",
          "Reputation",
          "Speak Now Deluxe Edition",
          "Speak Now Taylors Version",
          "Taylor Swift",
          "The Tortured Poets Department The Anthology",
          "evermore deluxe version",
          "folklore deluxe version"
         ],
         "xaxis": "x",
         "y": [
          0,
          0,
          0,
          0,
          2,
          0,
          0,
          0,
          0,
          0,
          0,
          0,
          1,
          0,
          0
         ],
         "yaxis": "y"
        },
        {
         "alignmentgroup": "True",
         "hovertemplate": "Religious Word=sin<br>Album=%{x}<br>No. of Words=%{y}<extra></extra>",
         "legendgroup": "sin",
         "marker": {
          "color": "#ab63fa",
          "pattern": {
           "shape": ""
          }
         },
         "name": "sin",
         "offsetgroup": "sin",
         "orientation": "v",
         "showlegend": true,
         "textposition": "auto",
         "type": "bar",
         "x": [
          "1989 Deluxe",
          "1989 Taylors Version",
          "Fearless Platinum Edition",
          "Fearless Taylors Version",
          "Lover",
          "Midnights The Til Dawn Edition",
          "Red Deluxe Edition",
          "Red Taylors Version",
          "Reputation",
          "Speak Now Deluxe Edition",
          "Speak Now Taylors Version",
          "Taylor Swift",
          "The Tortured Poets Department The Anthology",
          "evermore deluxe version",
          "folklore deluxe version"
         ],
         "xaxis": "x",
         "y": [
          1,
          0,
          0,
          0,
          0,
          0,
          1,
          0,
          0,
          0,
          0,
          0,
          3,
          0,
          0
         ],
         "yaxis": "y"
        },
        {
         "alignmentgroup": "True",
         "hovertemplate": "Religious Word=guilt<br>Album=%{x}<br>No. of Words=%{y}<extra></extra>",
         "legendgroup": "guilt",
         "marker": {
          "color": "#FFA15A",
          "pattern": {
           "shape": ""
          }
         },
         "name": "guilt",
         "offsetgroup": "guilt",
         "orientation": "v",
         "showlegend": true,
         "textposition": "auto",
         "type": "bar",
         "x": [
          "1989 Deluxe",
          "1989 Taylors Version",
          "Fearless Platinum Edition",
          "Fearless Taylors Version",
          "Lover",
          "Midnights The Til Dawn Edition",
          "Red Deluxe Edition",
          "Red Taylors Version",
          "Reputation",
          "Speak Now Deluxe Edition",
          "Speak Now Taylors Version",
          "Taylor Swift",
          "The Tortured Poets Department The Anthology",
          "evermore deluxe version",
          "folklore deluxe version"
         ],
         "xaxis": "x",
         "y": [
          0,
          0,
          0,
          0,
          0,
          0,
          0,
          0,
          0,
          0,
          0,
          0,
          3,
          1,
          0
         ],
         "yaxis": "y"
        },
        {
         "alignmentgroup": "True",
         "hovertemplate": "Religious Word=Hell<br>Album=%{x}<br>No. of Words=%{y}<extra></extra>",
         "legendgroup": "Hell",
         "marker": {
          "color": "#19d3f3",
          "pattern": {
           "shape": ""
          }
         },
         "name": "Hell",
         "offsetgroup": "Hell",
         "orientation": "v",
         "showlegend": true,
         "textposition": "auto",
         "type": "bar",
         "x": [
          "1989 Deluxe",
          "1989 Taylors Version",
          "Fearless Platinum Edition",
          "Fearless Taylors Version",
          "Lover",
          "Midnights The Til Dawn Edition",
          "Red Deluxe Edition",
          "Red Taylors Version",
          "Reputation",
          "Speak Now Deluxe Edition",
          "Speak Now Taylors Version",
          "Taylor Swift",
          "The Tortured Poets Department The Anthology",
          "evermore deluxe version",
          "folklore deluxe version"
         ],
         "xaxis": "x",
         "y": [
          2,
          0,
          0,
          0,
          2,
          3,
          2,
          2,
          0,
          0,
          1,
          0,
          13,
          0,
          2
         ],
         "yaxis": "y"
        },
        {
         "alignmentgroup": "True",
         "hovertemplate": "Religious Word=Heaven<br>Album=%{x}<br>No. of Words=%{y}<extra></extra>",
         "legendgroup": "Heaven",
         "marker": {
          "color": "#FF6692",
          "pattern": {
           "shape": ""
          }
         },
         "name": "Heaven",
         "offsetgroup": "Heaven",
         "orientation": "v",
         "showlegend": true,
         "textposition": "auto",
         "type": "bar",
         "x": [
          "1989 Deluxe",
          "1989 Taylors Version",
          "Fearless Platinum Edition",
          "Fearless Taylors Version",
          "Lover",
          "Midnights The Til Dawn Edition",
          "Red Deluxe Edition",
          "Red Taylors Version",
          "Reputation",
          "Speak Now Deluxe Edition",
          "Speak Now Taylors Version",
          "Taylor Swift",
          "The Tortured Poets Department The Anthology",
          "evermore deluxe version",
          "folklore deluxe version"
         ],
         "xaxis": "x",
         "y": [
          2,
          0,
          3,
          0,
          3,
          3,
          0,
          0,
          0,
          0,
          0,
          0,
          3,
          1,
          1
         ],
         "yaxis": "y"
        },
        {
         "alignmentgroup": "True",
         "hovertemplate": "Religious Word=halo<br>Album=%{x}<br>No. of Words=%{y}<extra></extra>",
         "legendgroup": "halo",
         "marker": {
          "color": "#B6E880",
          "pattern": {
           "shape": ""
          }
         },
         "name": "halo",
         "offsetgroup": "halo",
         "orientation": "v",
         "showlegend": true,
         "textposition": "auto",
         "type": "bar",
         "x": [
          "1989 Deluxe",
          "1989 Taylors Version",
          "Fearless Platinum Edition",
          "Fearless Taylors Version",
          "Lover",
          "Midnights The Til Dawn Edition",
          "Red Deluxe Edition",
          "Red Taylors Version",
          "Reputation",
          "Speak Now Deluxe Edition",
          "Speak Now Taylors Version",
          "Taylor Swift",
          "The Tortured Poets Department The Anthology",
          "evermore deluxe version",
          "folklore deluxe version"
         ],
         "xaxis": "x",
         "y": [
          0,
          0,
          0,
          0,
          0,
          0,
          0,
          0,
          1,
          0,
          0,
          0,
          1,
          0,
          0
         ],
         "yaxis": "y"
        },
        {
         "alignmentgroup": "True",
         "hovertemplate": "Religious Word=preacher<br>Album=%{x}<br>No. of Words=%{y}<extra></extra>",
         "legendgroup": "preacher",
         "marker": {
          "color": "#FF97FF",
          "pattern": {
           "shape": ""
          }
         },
         "name": "preacher",
         "offsetgroup": "preacher",
         "orientation": "v",
         "showlegend": true,
         "textposition": "auto",
         "type": "bar",
         "x": [
          "1989 Deluxe",
          "1989 Taylors Version",
          "Fearless Platinum Edition",
          "Fearless Taylors Version",
          "Lover",
          "Midnights The Til Dawn Edition",
          "Red Deluxe Edition",
          "Red Taylors Version",
          "Reputation",
          "Speak Now Deluxe Edition",
          "Speak Now Taylors Version",
          "Taylor Swift",
          "The Tortured Poets Department The Anthology",
          "evermore deluxe version",
          "folklore deluxe version"
         ],
         "xaxis": "x",
         "y": [
          0,
          0,
          0,
          0,
          0,
          0,
          0,
          0,
          0,
          1,
          0,
          0,
          0,
          0,
          0
         ],
         "yaxis": "y"
        },
        {
         "alignmentgroup": "True",
         "hovertemplate": "Religious Word=Christmas<br>Album=%{x}<br>No. of Words=%{y}<extra></extra>",
         "legendgroup": "Christmas",
         "marker": {
          "color": "#FECB52",
          "pattern": {
           "shape": ""
          }
         },
         "name": "Christmas",
         "offsetgroup": "Christmas",
         "orientation": "v",
         "showlegend": true,
         "textposition": "auto",
         "type": "bar",
         "x": [
          "1989 Deluxe",
          "1989 Taylors Version",
          "Fearless Platinum Edition",
          "Fearless Taylors Version",
          "Lover",
          "Midnights The Til Dawn Edition",
          "Red Deluxe Edition",
          "Red Taylors Version",
          "Reputation",
          "Speak Now Deluxe Edition",
          "Speak Now Taylors Version",
          "Taylor Swift",
          "The Tortured Poets Department The Anthology",
          "evermore deluxe version",
          "folklore deluxe version"
         ],
         "xaxis": "x",
         "y": [
          0,
          0,
          0,
          0,
          1,
          0,
          2,
          0,
          0,
          0,
          0,
          0,
          1,
          1,
          0
         ],
         "yaxis": "y"
        },
        {
         "alignmentgroup": "True",
         "hovertemplate": "Religious Word=Methodist<br>Album=%{x}<br>No. of Words=%{y}<extra></extra>",
         "legendgroup": "Methodist",
         "marker": {
          "color": "#636efa",
          "pattern": {
           "shape": ""
          }
         },
         "name": "Methodist",
         "offsetgroup": "Methodist",
         "orientation": "v",
         "showlegend": true,
         "textposition": "auto",
         "type": "bar",
         "x": [
          "1989 Deluxe",
          "1989 Taylors Version",
          "Fearless Platinum Edition",
          "Fearless Taylors Version",
          "Lover",
          "Midnights The Til Dawn Edition",
          "Red Deluxe Edition",
          "Red Taylors Version",
          "Reputation",
          "Speak Now Deluxe Edition",
          "Speak Now Taylors Version",
          "Taylor Swift",
          "The Tortured Poets Department The Anthology",
          "evermore deluxe version",
          "folklore deluxe version"
         ],
         "xaxis": "x",
         "y": [
          0,
          0,
          0,
          0,
          0,
          0,
          0,
          0,
          0,
          0,
          0,
          0,
          0,
          1,
          0
         ],
         "yaxis": "y"
        },
        {
         "alignmentgroup": "True",
         "hovertemplate": "Religious Word=hallelujah<br>Album=%{x}<br>No. of Words=%{y}<extra></extra>",
         "legendgroup": "hallelujah",
         "marker": {
          "color": "#EF553B",
          "pattern": {
           "shape": ""
          }
         },
         "name": "hallelujah",
         "offsetgroup": "hallelujah",
         "orientation": "v",
         "showlegend": true,
         "textposition": "auto",
         "type": "bar",
         "x": [
          "1989 Deluxe",
          "1989 Taylors Version",
          "Fearless Platinum Edition",
          "Fearless Taylors Version",
          "Lover",
          "Midnights The Til Dawn Edition",
          "Red Deluxe Edition",
          "Red Taylors Version",
          "Reputation",
          "Speak Now Deluxe Edition",
          "Speak Now Taylors Version",
          "Taylor Swift",
          "The Tortured Poets Department The Anthology",
          "evermore deluxe version",
          "folklore deluxe version"
         ],
         "xaxis": "x",
         "y": [
          0,
          0,
          6,
          0,
          0,
          0,
          0,
          0,
          0,
          0,
          0,
          0,
          0,
          0,
          0
         ],
         "yaxis": "y"
        },
        {
         "alignmentgroup": "True",
         "hovertemplate": "Religious Word=forgive<br>Album=%{x}<br>No. of Words=%{y}<extra></extra>",
         "legendgroup": "forgive",
         "marker": {
          "color": "#00cc96",
          "pattern": {
           "shape": ""
          }
         },
         "name": "forgive",
         "offsetgroup": "forgive",
         "orientation": "v",
         "showlegend": true,
         "textposition": "auto",
         "type": "bar",
         "x": [
          "1989 Deluxe",
          "1989 Taylors Version",
          "Fearless Platinum Edition",
          "Fearless Taylors Version",
          "Lover",
          "Midnights The Til Dawn Edition",
          "Red Deluxe Edition",
          "Red Taylors Version",
          "Reputation",
          "Speak Now Deluxe Edition",
          "Speak Now Taylors Version",
          "Taylor Swift",
          "The Tortured Poets Department The Anthology",
          "evermore deluxe version",
          "folklore deluxe version"
         ],
         "xaxis": "x",
         "y": [
          0,
          1,
          1,
          0,
          2,
          0,
          0,
          0,
          1,
          0,
          0,
          3,
          4,
          2,
          0
         ],
         "yaxis": "y"
        },
        {
         "alignmentgroup": "True",
         "hovertemplate": "Religious Word=confess<br>Album=%{x}<br>No. of Words=%{y}<extra></extra>",
         "legendgroup": "confess",
         "marker": {
          "color": "#ab63fa",
          "pattern": {
           "shape": ""
          }
         },
         "name": "confess",
         "offsetgroup": "confess",
         "orientation": "v",
         "showlegend": true,
         "textposition": "auto",
         "type": "bar",
         "x": [
          "1989 Deluxe",
          "1989 Taylors Version",
          "Fearless Platinum Edition",
          "Fearless Taylors Version",
          "Lover",
          "Midnights The Til Dawn Edition",
          "Red Deluxe Edition",
          "Red Taylors Version",
          "Reputation",
          "Speak Now Deluxe Edition",
          "Speak Now Taylors Version",
          "Taylor Swift",
          "The Tortured Poets Department The Anthology",
          "evermore deluxe version",
          "folklore deluxe version"
         ],
         "xaxis": "x",
         "y": [
          0,
          0,
          1,
          0,
          1,
          2,
          1,
          0,
          0,
          0,
          7,
          0,
          2,
          0,
          0
         ],
         "yaxis": "y"
        },
        {
         "alignmentgroup": "True",
         "hovertemplate": "Religious Word=religion<br>Album=%{x}<br>No. of Words=%{y}<extra></extra>",
         "legendgroup": "religion",
         "marker": {
          "color": "#FFA15A",
          "pattern": {
           "shape": ""
          }
         },
         "name": "religion",
         "offsetgroup": "religion",
         "orientation": "v",
         "showlegend": true,
         "textposition": "auto",
         "type": "bar",
         "x": [
          "1989 Deluxe",
          "1989 Taylors Version",
          "Fearless Platinum Edition",
          "Fearless Taylors Version",
          "Lover",
          "Midnights The Til Dawn Edition",
          "Red Deluxe Edition",
          "Red Taylors Version",
          "Reputation",
          "Speak Now Deluxe Edition",
          "Speak Now Taylors Version",
          "Taylor Swift",
          "The Tortured Poets Department The Anthology",
          "evermore deluxe version",
          "folklore deluxe version"
         ],
         "xaxis": "x",
         "y": [
          0,
          0,
          0,
          0,
          3,
          0,
          0,
          0,
          0,
          0,
          0,
          0,
          0,
          0,
          0
         ],
         "yaxis": "y"
        },
        {
         "alignmentgroup": "True",
         "hovertemplate": "Religious Word=epiphany<br>Album=%{x}<br>No. of Words=%{y}<extra></extra>",
         "legendgroup": "epiphany",
         "marker": {
          "color": "#19d3f3",
          "pattern": {
           "shape": ""
          }
         },
         "name": "epiphany",
         "offsetgroup": "epiphany",
         "orientation": "v",
         "showlegend": true,
         "textposition": "auto",
         "type": "bar",
         "x": [
          "1989 Deluxe",
          "1989 Taylors Version",
          "Fearless Platinum Edition",
          "Fearless Taylors Version",
          "Lover",
          "Midnights The Til Dawn Edition",
          "Red Deluxe Edition",
          "Red Taylors Version",
          "Reputation",
          "Speak Now Deluxe Edition",
          "Speak Now Taylors Version",
          "Taylor Swift",
          "The Tortured Poets Department The Anthology",
          "evermore deluxe version",
          "folklore deluxe version"
         ],
         "xaxis": "x",
         "y": [
          0,
          0,
          0,
          0,
          0,
          0,
          0,
          0,
          0,
          0,
          0,
          0,
          0,
          0,
          2
         ],
         "yaxis": "y"
        },
        {
         "alignmentgroup": "True",
         "hovertemplate": "Religious Word=grace<br>Album=%{x}<br>No. of Words=%{y}<extra></extra>",
         "legendgroup": "grace",
         "marker": {
          "color": "#FF6692",
          "pattern": {
           "shape": ""
          }
         },
         "name": "grace",
         "offsetgroup": "grace",
         "orientation": "v",
         "showlegend": true,
         "textposition": "auto",
         "type": "bar",
         "x": [
          "1989 Deluxe",
          "1989 Taylors Version",
          "Fearless Platinum Edition",
          "Fearless Taylors Version",
          "Lover",
          "Midnights The Til Dawn Edition",
          "Red Deluxe Edition",
          "Red Taylors Version",
          "Reputation",
          "Speak Now Deluxe Edition",
          "Speak Now Taylors Version",
          "Taylor Swift",
          "The Tortured Poets Department The Anthology",
          "evermore deluxe version",
          "folklore deluxe version"
         ],
         "xaxis": "x",
         "y": [
          0,
          0,
          0,
          0,
          0,
          0,
          3,
          0,
          1,
          0,
          1,
          0,
          0,
          0,
          3
         ],
         "yaxis": "y"
        },
        {
         "alignmentgroup": "True",
         "hovertemplate": "Religious Word=sacred<br>Album=%{x}<br>No. of Words=%{y}<extra></extra>",
         "legendgroup": "sacred",
         "marker": {
          "color": "#B6E880",
          "pattern": {
           "shape": ""
          }
         },
         "name": "sacred",
         "offsetgroup": "sacred",
         "orientation": "v",
         "showlegend": true,
         "textposition": "auto",
         "type": "bar",
         "x": [
          "1989 Deluxe",
          "1989 Taylors Version",
          "Fearless Platinum Edition",
          "Fearless Taylors Version",
          "Lover",
          "Midnights The Til Dawn Edition",
          "Red Deluxe Edition",
          "Red Taylors Version",
          "Reputation",
          "Speak Now Deluxe Edition",
          "Speak Now Taylors Version",
          "Taylor Swift",
          "The Tortured Poets Department The Anthology",
          "evermore deluxe version",
          "folklore deluxe version"
         ],
         "xaxis": "x",
         "y": [
          0,
          0,
          0,
          0,
          1,
          0,
          0,
          5,
          1,
          0,
          0,
          0,
          0,
          0,
          0
         ],
         "yaxis": "y"
        },
        {
         "alignmentgroup": "True",
         "hovertemplate": "Religious Word=worship<br>Album=%{x}<br>No. of Words=%{y}<extra></extra>",
         "legendgroup": "worship",
         "marker": {
          "color": "#FF97FF",
          "pattern": {
           "shape": ""
          }
         },
         "name": "worship",
         "offsetgroup": "worship",
         "orientation": "v",
         "showlegend": true,
         "textposition": "auto",
         "type": "bar",
         "x": [
          "1989 Deluxe",
          "1989 Taylors Version",
          "Fearless Platinum Edition",
          "Fearless Taylors Version",
          "Lover",
          "Midnights The Til Dawn Edition",
          "Red Deluxe Edition",
          "Red Taylors Version",
          "Reputation",
          "Speak Now Deluxe Edition",
          "Speak Now Taylors Version",
          "Taylor Swift",
          "The Tortured Poets Department The Anthology",
          "evermore deluxe version",
          "folklore deluxe version"
         ],
         "xaxis": "x",
         "y": [
          0,
          0,
          0,
          0,
          10,
          0,
          0,
          0,
          0,
          0,
          0,
          0,
          0,
          0,
          0
         ],
         "yaxis": "y"
        },
        {
         "alignmentgroup": "True",
         "hovertemplate": "Religious Word=soul<br>Album=%{x}<br>No. of Words=%{y}<extra></extra>",
         "legendgroup": "soul",
         "marker": {
          "color": "#FECB52",
          "pattern": {
           "shape": ""
          }
         },
         "name": "soul",
         "offsetgroup": "soul",
         "orientation": "v",
         "showlegend": true,
         "textposition": "auto",
         "type": "bar",
         "x": [
          "1989 Deluxe",
          "1989 Taylors Version",
          "Fearless Platinum Edition",
          "Fearless Taylors Version",
          "Lover",
          "Midnights The Til Dawn Edition",
          "Red Deluxe Edition",
          "Red Taylors Version",
          "Reputation",
          "Speak Now Deluxe Edition",
          "Speak Now Taylors Version",
          "Taylor Swift",
          "The Tortured Poets Department The Anthology",
          "evermore deluxe version",
          "folklore deluxe version"
         ],
         "xaxis": "x",
         "y": [
          0,
          0,
          0,
          0,
          6,
          4,
          0,
          1,
          12,
          0,
          1,
          0,
          3,
          9,
          0
         ],
         "yaxis": "y"
        },
        {
         "alignmentgroup": "True",
         "hovertemplate": "Religious Word=spirit<br>Album=%{x}<br>No. of Words=%{y}<extra></extra>",
         "legendgroup": "spirit",
         "marker": {
          "color": "#636efa",
          "pattern": {
           "shape": ""
          }
         },
         "name": "spirit",
         "offsetgroup": "spirit",
         "orientation": "v",
         "showlegend": true,
         "textposition": "auto",
         "type": "bar",
         "x": [
          "1989 Deluxe",
          "1989 Taylors Version",
          "Fearless Platinum Edition",
          "Fearless Taylors Version",
          "Lover",
          "Midnights The Til Dawn Edition",
          "Red Deluxe Edition",
          "Red Taylors Version",
          "Reputation",
          "Speak Now Deluxe Edition",
          "Speak Now Taylors Version",
          "Taylor Swift",
          "The Tortured Poets Department The Anthology",
          "evermore deluxe version",
          "folklore deluxe version"
         ],
         "xaxis": "x",
         "y": [
          0,
          0,
          0,
          0,
          1,
          0,
          0,
          0,
          0,
          0,
          0,
          0,
          2,
          1,
          0
         ],
         "yaxis": "y"
        },
        {
         "alignmentgroup": "True",
         "hovertemplate": "Religious Word=prophecy<br>Album=%{x}<br>No. of Words=%{y}<extra></extra>",
         "legendgroup": "prophecy",
         "marker": {
          "color": "#EF553B",
          "pattern": {
           "shape": ""
          }
         },
         "name": "prophecy",
         "offsetgroup": "prophecy",
         "orientation": "v",
         "showlegend": true,
         "textposition": "auto",
         "type": "bar",
         "x": [
          "1989 Deluxe",
          "1989 Taylors Version",
          "Fearless Platinum Edition",
          "Fearless Taylors Version",
          "Lover",
          "Midnights The Til Dawn Edition",
          "Red Deluxe Edition",
          "Red Taylors Version",
          "Reputation",
          "Speak Now Deluxe Edition",
          "Speak Now Taylors Version",
          "Taylor Swift",
          "The Tortured Poets Department The Anthology",
          "evermore deluxe version",
          "folklore deluxe version"
         ],
         "xaxis": "x",
         "y": [
          0,
          0,
          0,
          0,
          0,
          0,
          0,
          0,
          0,
          0,
          0,
          0,
          6,
          0,
          0
         ],
         "yaxis": "y"
        },
        {
         "alignmentgroup": "True",
         "hovertemplate": "Religious Word=miracle<br>Album=%{x}<br>No. of Words=%{y}<extra></extra>",
         "legendgroup": "miracle",
         "marker": {
          "color": "#00cc96",
          "pattern": {
           "shape": ""
          }
         },
         "name": "miracle",
         "offsetgroup": "miracle",
         "orientation": "v",
         "showlegend": true,
         "textposition": "auto",
         "type": "bar",
         "x": [
          "1989 Deluxe",
          "1989 Taylors Version",
          "Fearless Platinum Edition",
          "Fearless Taylors Version",
          "Lover",
          "Midnights The Til Dawn Edition",
          "Red Deluxe Edition",
          "Red Taylors Version",
          "Reputation",
          "Speak Now Deluxe Edition",
          "Speak Now Taylors Version",
          "Taylor Swift",
          "The Tortured Poets Department The Anthology",
          "evermore deluxe version",
          "folklore deluxe version"
         ],
         "xaxis": "x",
         "y": [
          0,
          0,
          0,
          0,
          0,
          0,
          0,
          0,
          0,
          0,
          0,
          3,
          1,
          0,
          0
         ],
         "yaxis": "y"
        },
        {
         "alignmentgroup": "True",
         "hovertemplate": "Religious Word=bless<br>Album=%{x}<br>No. of Words=%{y}<extra></extra>",
         "legendgroup": "bless",
         "marker": {
          "color": "#ab63fa",
          "pattern": {
           "shape": ""
          }
         },
         "name": "bless",
         "offsetgroup": "bless",
         "orientation": "v",
         "showlegend": true,
         "textposition": "auto",
         "type": "bar",
         "x": [
          "1989 Deluxe",
          "1989 Taylors Version",
          "Fearless Platinum Edition",
          "Fearless Taylors Version",
          "Lover",
          "Midnights The Til Dawn Edition",
          "Red Deluxe Edition",
          "Red Taylors Version",
          "Reputation",
          "Speak Now Deluxe Edition",
          "Speak Now Taylors Version",
          "Taylor Swift",
          "The Tortured Poets Department The Anthology",
          "evermore deluxe version",
          "folklore deluxe version"
         ],
         "xaxis": "x",
         "y": [
          0,
          0,
          0,
          0,
          15,
          0,
          0,
          0,
          0,
          0,
          0,
          0,
          0,
          0,
          0
         ],
         "yaxis": "y"
        },
        {
         "alignmentgroup": "True",
         "hovertemplate": "Religious Word=crucify<br>Album=%{x}<br>No. of Words=%{y}<extra></extra>",
         "legendgroup": "crucify",
         "marker": {
          "color": "#FFA15A",
          "pattern": {
           "shape": ""
          }
         },
         "name": "crucify",
         "offsetgroup": "crucify",
         "orientation": "v",
         "showlegend": true,
         "textposition": "auto",
         "type": "bar",
         "x": [
          "1989 Deluxe",
          "1989 Taylors Version",
          "Fearless Platinum Edition",
          "Fearless Taylors Version",
          "Lover",
          "Midnights The Til Dawn Edition",
          "Red Deluxe Edition",
          "Red Taylors Version",
          "Reputation",
          "Speak Now Deluxe Edition",
          "Speak Now Taylors Version",
          "Taylor Swift",
          "The Tortured Poets Department The Anthology",
          "evermore deluxe version",
          "folklore deluxe version"
         ],
         "xaxis": "x",
         "y": [
          0,
          0,
          0,
          0,
          0,
          0,
          0,
          0,
          0,
          0,
          0,
          0,
          1,
          0,
          0
         ],
         "yaxis": "y"
        },
        {
         "alignmentgroup": "True",
         "hovertemplate": "Religious Word=temple<br>Album=%{x}<br>No. of Words=%{y}<extra></extra>",
         "legendgroup": "temple",
         "marker": {
          "color": "#19d3f3",
          "pattern": {
           "shape": ""
          }
         },
         "name": "temple",
         "offsetgroup": "temple",
         "orientation": "v",
         "showlegend": true,
         "textposition": "auto",
         "type": "bar",
         "x": [
          "1989 Deluxe",
          "1989 Taylors Version",
          "Fearless Platinum Edition",
          "Fearless Taylors Version",
          "Lover",
          "Midnights The Til Dawn Edition",
          "Red Deluxe Edition",
          "Red Taylors Version",
          "Reputation",
          "Speak Now Deluxe Edition",
          "Speak Now Taylors Version",
          "Taylor Swift",
          "The Tortured Poets Department The Anthology",
          "evermore deluxe version",
          "folklore deluxe version"
         ],
         "xaxis": "x",
         "y": [
          0,
          0,
          0,
          0,
          0,
          0,
          0,
          0,
          0,
          0,
          0,
          0,
          0,
          1,
          0
         ],
         "yaxis": "y"
        },
        {
         "alignmentgroup": "True",
         "hovertemplate": "Religious Word=Eve<br>Album=%{x}<br>No. of Words=%{y}<extra></extra>",
         "legendgroup": "Eve",
         "marker": {
          "color": "#FF6692",
          "pattern": {
           "shape": ""
          }
         },
         "name": "Eve",
         "offsetgroup": "Eve",
         "orientation": "v",
         "showlegend": true,
         "textposition": "auto",
         "type": "bar",
         "x": [
          "1989 Deluxe",
          "1989 Taylors Version",
          "Fearless Platinum Edition",
          "Fearless Taylors Version",
          "Lover",
          "Midnights The Til Dawn Edition",
          "Red Deluxe Edition",
          "Red Taylors Version",
          "Reputation",
          "Speak Now Deluxe Edition",
          "Speak Now Taylors Version",
          "Taylor Swift",
          "The Tortured Poets Department The Anthology",
          "evermore deluxe version",
          "folklore deluxe version"
         ],
         "xaxis": "x",
         "y": [
          0,
          0,
          0,
          0,
          0,
          0,
          0,
          0,
          0,
          0,
          0,
          0,
          1,
          0,
          0
         ],
         "yaxis": "y"
        }
       ],
       "layout": {
        "barmode": "relative",
        "legend": {
         "title": {
          "text": "Religious Word"
         },
         "tracegroupgap": 0
        },
        "template": {
         "data": {
          "bar": [
           {
            "error_x": {
             "color": "#2a3f5f"
            },
            "error_y": {
             "color": "#2a3f5f"
            },
            "marker": {
             "line": {
              "color": "#E5ECF6",
              "width": 0.5
             },
             "pattern": {
              "fillmode": "overlay",
              "size": 10,
              "solidity": 0.2
             }
            },
            "type": "bar"
           }
          ],
          "barpolar": [
           {
            "marker": {
             "line": {
              "color": "#E5ECF6",
              "width": 0.5
             },
             "pattern": {
              "fillmode": "overlay",
              "size": 10,
              "solidity": 0.2
             }
            },
            "type": "barpolar"
           }
          ],
          "carpet": [
           {
            "aaxis": {
             "endlinecolor": "#2a3f5f",
             "gridcolor": "white",
             "linecolor": "white",
             "minorgridcolor": "white",
             "startlinecolor": "#2a3f5f"
            },
            "baxis": {
             "endlinecolor": "#2a3f5f",
             "gridcolor": "white",
             "linecolor": "white",
             "minorgridcolor": "white",
             "startlinecolor": "#2a3f5f"
            },
            "type": "carpet"
           }
          ],
          "choropleth": [
           {
            "colorbar": {
             "outlinewidth": 0,
             "ticks": ""
            },
            "type": "choropleth"
           }
          ],
          "contour": [
           {
            "colorbar": {
             "outlinewidth": 0,
             "ticks": ""
            },
            "colorscale": [
             [
              0,
              "#0d0887"
             ],
             [
              0.1111111111111111,
              "#46039f"
             ],
             [
              0.2222222222222222,
              "#7201a8"
             ],
             [
              0.3333333333333333,
              "#9c179e"
             ],
             [
              0.4444444444444444,
              "#bd3786"
             ],
             [
              0.5555555555555556,
              "#d8576b"
             ],
             [
              0.6666666666666666,
              "#ed7953"
             ],
             [
              0.7777777777777778,
              "#fb9f3a"
             ],
             [
              0.8888888888888888,
              "#fdca26"
             ],
             [
              1,
              "#f0f921"
             ]
            ],
            "type": "contour"
           }
          ],
          "contourcarpet": [
           {
            "colorbar": {
             "outlinewidth": 0,
             "ticks": ""
            },
            "type": "contourcarpet"
           }
          ],
          "heatmap": [
           {
            "colorbar": {
             "outlinewidth": 0,
             "ticks": ""
            },
            "colorscale": [
             [
              0,
              "#0d0887"
             ],
             [
              0.1111111111111111,
              "#46039f"
             ],
             [
              0.2222222222222222,
              "#7201a8"
             ],
             [
              0.3333333333333333,
              "#9c179e"
             ],
             [
              0.4444444444444444,
              "#bd3786"
             ],
             [
              0.5555555555555556,
              "#d8576b"
             ],
             [
              0.6666666666666666,
              "#ed7953"
             ],
             [
              0.7777777777777778,
              "#fb9f3a"
             ],
             [
              0.8888888888888888,
              "#fdca26"
             ],
             [
              1,
              "#f0f921"
             ]
            ],
            "type": "heatmap"
           }
          ],
          "heatmapgl": [
           {
            "colorbar": {
             "outlinewidth": 0,
             "ticks": ""
            },
            "colorscale": [
             [
              0,
              "#0d0887"
             ],
             [
              0.1111111111111111,
              "#46039f"
             ],
             [
              0.2222222222222222,
              "#7201a8"
             ],
             [
              0.3333333333333333,
              "#9c179e"
             ],
             [
              0.4444444444444444,
              "#bd3786"
             ],
             [
              0.5555555555555556,
              "#d8576b"
             ],
             [
              0.6666666666666666,
              "#ed7953"
             ],
             [
              0.7777777777777778,
              "#fb9f3a"
             ],
             [
              0.8888888888888888,
              "#fdca26"
             ],
             [
              1,
              "#f0f921"
             ]
            ],
            "type": "heatmapgl"
           }
          ],
          "histogram": [
           {
            "marker": {
             "pattern": {
              "fillmode": "overlay",
              "size": 10,
              "solidity": 0.2
             }
            },
            "type": "histogram"
           }
          ],
          "histogram2d": [
           {
            "colorbar": {
             "outlinewidth": 0,
             "ticks": ""
            },
            "colorscale": [
             [
              0,
              "#0d0887"
             ],
             [
              0.1111111111111111,
              "#46039f"
             ],
             [
              0.2222222222222222,
              "#7201a8"
             ],
             [
              0.3333333333333333,
              "#9c179e"
             ],
             [
              0.4444444444444444,
              "#bd3786"
             ],
             [
              0.5555555555555556,
              "#d8576b"
             ],
             [
              0.6666666666666666,
              "#ed7953"
             ],
             [
              0.7777777777777778,
              "#fb9f3a"
             ],
             [
              0.8888888888888888,
              "#fdca26"
             ],
             [
              1,
              "#f0f921"
             ]
            ],
            "type": "histogram2d"
           }
          ],
          "histogram2dcontour": [
           {
            "colorbar": {
             "outlinewidth": 0,
             "ticks": ""
            },
            "colorscale": [
             [
              0,
              "#0d0887"
             ],
             [
              0.1111111111111111,
              "#46039f"
             ],
             [
              0.2222222222222222,
              "#7201a8"
             ],
             [
              0.3333333333333333,
              "#9c179e"
             ],
             [
              0.4444444444444444,
              "#bd3786"
             ],
             [
              0.5555555555555556,
              "#d8576b"
             ],
             [
              0.6666666666666666,
              "#ed7953"
             ],
             [
              0.7777777777777778,
              "#fb9f3a"
             ],
             [
              0.8888888888888888,
              "#fdca26"
             ],
             [
              1,
              "#f0f921"
             ]
            ],
            "type": "histogram2dcontour"
           }
          ],
          "mesh3d": [
           {
            "colorbar": {
             "outlinewidth": 0,
             "ticks": ""
            },
            "type": "mesh3d"
           }
          ],
          "parcoords": [
           {
            "line": {
             "colorbar": {
              "outlinewidth": 0,
              "ticks": ""
             }
            },
            "type": "parcoords"
           }
          ],
          "pie": [
           {
            "automargin": true,
            "type": "pie"
           }
          ],
          "scatter": [
           {
            "fillpattern": {
             "fillmode": "overlay",
             "size": 10,
             "solidity": 0.2
            },
            "type": "scatter"
           }
          ],
          "scatter3d": [
           {
            "line": {
             "colorbar": {
              "outlinewidth": 0,
              "ticks": ""
             }
            },
            "marker": {
             "colorbar": {
              "outlinewidth": 0,
              "ticks": ""
             }
            },
            "type": "scatter3d"
           }
          ],
          "scattercarpet": [
           {
            "marker": {
             "colorbar": {
              "outlinewidth": 0,
              "ticks": ""
             }
            },
            "type": "scattercarpet"
           }
          ],
          "scattergeo": [
           {
            "marker": {
             "colorbar": {
              "outlinewidth": 0,
              "ticks": ""
             }
            },
            "type": "scattergeo"
           }
          ],
          "scattergl": [
           {
            "marker": {
             "colorbar": {
              "outlinewidth": 0,
              "ticks": ""
             }
            },
            "type": "scattergl"
           }
          ],
          "scattermapbox": [
           {
            "marker": {
             "colorbar": {
              "outlinewidth": 0,
              "ticks": ""
             }
            },
            "type": "scattermapbox"
           }
          ],
          "scatterpolar": [
           {
            "marker": {
             "colorbar": {
              "outlinewidth": 0,
              "ticks": ""
             }
            },
            "type": "scatterpolar"
           }
          ],
          "scatterpolargl": [
           {
            "marker": {
             "colorbar": {
              "outlinewidth": 0,
              "ticks": ""
             }
            },
            "type": "scatterpolargl"
           }
          ],
          "scatterternary": [
           {
            "marker": {
             "colorbar": {
              "outlinewidth": 0,
              "ticks": ""
             }
            },
            "type": "scatterternary"
           }
          ],
          "surface": [
           {
            "colorbar": {
             "outlinewidth": 0,
             "ticks": ""
            },
            "colorscale": [
             [
              0,
              "#0d0887"
             ],
             [
              0.1111111111111111,
              "#46039f"
             ],
             [
              0.2222222222222222,
              "#7201a8"
             ],
             [
              0.3333333333333333,
              "#9c179e"
             ],
             [
              0.4444444444444444,
              "#bd3786"
             ],
             [
              0.5555555555555556,
              "#d8576b"
             ],
             [
              0.6666666666666666,
              "#ed7953"
             ],
             [
              0.7777777777777778,
              "#fb9f3a"
             ],
             [
              0.8888888888888888,
              "#fdca26"
             ],
             [
              1,
              "#f0f921"
             ]
            ],
            "type": "surface"
           }
          ],
          "table": [
           {
            "cells": {
             "fill": {
              "color": "#EBF0F8"
             },
             "line": {
              "color": "white"
             }
            },
            "header": {
             "fill": {
              "color": "#C8D4E3"
             },
             "line": {
              "color": "white"
             }
            },
            "type": "table"
           }
          ]
         },
         "layout": {
          "annotationdefaults": {
           "arrowcolor": "#2a3f5f",
           "arrowhead": 0,
           "arrowwidth": 1
          },
          "autotypenumbers": "strict",
          "coloraxis": {
           "colorbar": {
            "outlinewidth": 0,
            "ticks": ""
           }
          },
          "colorscale": {
           "diverging": [
            [
             0,
             "#8e0152"
            ],
            [
             0.1,
             "#c51b7d"
            ],
            [
             0.2,
             "#de77ae"
            ],
            [
             0.3,
             "#f1b6da"
            ],
            [
             0.4,
             "#fde0ef"
            ],
            [
             0.5,
             "#f7f7f7"
            ],
            [
             0.6,
             "#e6f5d0"
            ],
            [
             0.7,
             "#b8e186"
            ],
            [
             0.8,
             "#7fbc41"
            ],
            [
             0.9,
             "#4d9221"
            ],
            [
             1,
             "#276419"
            ]
           ],
           "sequential": [
            [
             0,
             "#0d0887"
            ],
            [
             0.1111111111111111,
             "#46039f"
            ],
            [
             0.2222222222222222,
             "#7201a8"
            ],
            [
             0.3333333333333333,
             "#9c179e"
            ],
            [
             0.4444444444444444,
             "#bd3786"
            ],
            [
             0.5555555555555556,
             "#d8576b"
            ],
            [
             0.6666666666666666,
             "#ed7953"
            ],
            [
             0.7777777777777778,
             "#fb9f3a"
            ],
            [
             0.8888888888888888,
             "#fdca26"
            ],
            [
             1,
             "#f0f921"
            ]
           ],
           "sequentialminus": [
            [
             0,
             "#0d0887"
            ],
            [
             0.1111111111111111,
             "#46039f"
            ],
            [
             0.2222222222222222,
             "#7201a8"
            ],
            [
             0.3333333333333333,
             "#9c179e"
            ],
            [
             0.4444444444444444,
             "#bd3786"
            ],
            [
             0.5555555555555556,
             "#d8576b"
            ],
            [
             0.6666666666666666,
             "#ed7953"
            ],
            [
             0.7777777777777778,
             "#fb9f3a"
            ],
            [
             0.8888888888888888,
             "#fdca26"
            ],
            [
             1,
             "#f0f921"
            ]
           ]
          },
          "colorway": [
           "#636efa",
           "#EF553B",
           "#00cc96",
           "#ab63fa",
           "#FFA15A",
           "#19d3f3",
           "#FF6692",
           "#B6E880",
           "#FF97FF",
           "#FECB52"
          ],
          "font": {
           "color": "#2a3f5f"
          },
          "geo": {
           "bgcolor": "white",
           "lakecolor": "white",
           "landcolor": "#E5ECF6",
           "showlakes": true,
           "showland": true,
           "subunitcolor": "white"
          },
          "hoverlabel": {
           "align": "left"
          },
          "hovermode": "closest",
          "mapbox": {
           "style": "light"
          },
          "paper_bgcolor": "white",
          "plot_bgcolor": "#E5ECF6",
          "polar": {
           "angularaxis": {
            "gridcolor": "white",
            "linecolor": "white",
            "ticks": ""
           },
           "bgcolor": "#E5ECF6",
           "radialaxis": {
            "gridcolor": "white",
            "linecolor": "white",
            "ticks": ""
           }
          },
          "scene": {
           "xaxis": {
            "backgroundcolor": "#E5ECF6",
            "gridcolor": "white",
            "gridwidth": 2,
            "linecolor": "white",
            "showbackground": true,
            "ticks": "",
            "zerolinecolor": "white"
           },
           "yaxis": {
            "backgroundcolor": "#E5ECF6",
            "gridcolor": "white",
            "gridwidth": 2,
            "linecolor": "white",
            "showbackground": true,
            "ticks": "",
            "zerolinecolor": "white"
           },
           "zaxis": {
            "backgroundcolor": "#E5ECF6",
            "gridcolor": "white",
            "gridwidth": 2,
            "linecolor": "white",
            "showbackground": true,
            "ticks": "",
            "zerolinecolor": "white"
           }
          },
          "shapedefaults": {
           "line": {
            "color": "#2a3f5f"
           }
          },
          "ternary": {
           "aaxis": {
            "gridcolor": "white",
            "linecolor": "white",
            "ticks": ""
           },
           "baxis": {
            "gridcolor": "white",
            "linecolor": "white",
            "ticks": ""
           },
           "bgcolor": "#E5ECF6",
           "caxis": {
            "gridcolor": "white",
            "linecolor": "white",
            "ticks": ""
           }
          },
          "title": {
           "x": 0.05
          },
          "xaxis": {
           "automargin": true,
           "gridcolor": "white",
           "linecolor": "white",
           "ticks": "",
           "title": {
            "standoff": 15
           },
           "zerolinecolor": "white",
           "zerolinewidth": 2
          },
          "yaxis": {
           "automargin": true,
           "gridcolor": "white",
           "linecolor": "white",
           "ticks": "",
           "title": {
            "standoff": 15
           },
           "zerolinecolor": "white",
           "zerolinewidth": 2
          }
         }
        },
        "title": {
         "text": "Relgious References by Album"
        },
        "xaxis": {
         "anchor": "y",
         "domain": [
          0,
          1
         ],
         "title": {
          "text": "Album"
         }
        },
        "yaxis": {
         "anchor": "x",
         "domain": [
          0,
          1
         ],
         "title": {
          "text": "No. of Words"
         }
        }
       }
      }
     },
     "metadata": {},
     "output_type": "display_data"
    }
   ],
   "source": [
    "# interactive bar chart showing religious references\n",
    "\n",
    "# data\n",
    "color = [['Amen', 'Christian', 'church', 'faith', 'God', 'Lord', 'devil/demon', 'angel', 'saint',\n",
    "        'Jesus', 'holy', 'pray', 'altar', 'sin', 'guilt', 'Hell', 'Heaven', 'halo', 'preacher',\n",
    "        'Christmas', 'Methodist', 'hallelujah', 'forgive', 'confess', 'religion', 'epiphany',\n",
    "        'grace', 'sacred', 'worship', 'soul', 'spirit', 'prophecy', 'miracle', 'bless',\n",
    "        'crucify', 'temple', 'Eve'\n",
    "        ]]\n",
    "\n",
    "# show plot\n",
    "fig = px.bar(df_rlgn_reduced,\n",
    "               labels={'variable' : 'Religious Word',\n",
    "                       'value' : 'No. of Words'},\n",
    "               title='Relgious References by Album'\n",
    "               )\n",
    "\n",
    "fig.show()"
   ]
  }
 ],
 "metadata": {
  "kernelspec": {
   "display_name": "Python 3",
   "language": "python",
   "name": "python3"
  },
  "language_info": {
   "codemirror_mode": {
    "name": "ipython",
    "version": 3
   },
   "file_extension": ".py",
   "mimetype": "text/x-python",
   "name": "python",
   "nbconvert_exporter": "python",
   "pygments_lexer": "ipython3",
   "version": "3.9.7"
  }
 },
 "nbformat": 4,
 "nbformat_minor": 2
}
